{
 "cells": [
  {
   "cell_type": "markdown",
   "id": "38b49fb4",
   "metadata": {},
   "source": [
    "# Numpy\n",
    "- Python 행렬 관련 계산 빠르게 해주는 패키지\n",
    "- ndarray: 행렬 (nd = n dimension = n차원)\n",
    "- Tensorflow, PyTorch, Keras -> ML 프레임워크에서 사용"
   ]
  },
  {
   "cell_type": "markdown",
   "id": "92d33453",
   "metadata": {},
   "source": [
    "# 1. Numpy 배열 생성하기"
   ]
  },
  {
   "cell_type": "code",
   "execution_count": 1,
   "id": "5d6da3fc",
   "metadata": {},
   "outputs": [],
   "source": [
    "import numpy as np"
   ]
  },
  {
   "cell_type": "code",
   "execution_count": 2,
   "id": "57846ef5",
   "metadata": {},
   "outputs": [
    {
     "data": {
      "text/plain": [
       "array([1, 2, 3])"
      ]
     },
     "execution_count": 2,
     "metadata": {},
     "output_type": "execute_result"
    }
   ],
   "source": [
    "list = [\"A\", \"B\", \"C\", \"D\", \"E\"]\n",
    "list2 = [1,2,3]\n",
    "array = np.array(list2)\n",
    "array"
   ]
  },
  {
   "cell_type": "code",
   "execution_count": 3,
   "id": "732b3e40",
   "metadata": {},
   "outputs": [
    {
     "name": "stdout",
     "output_type": "stream",
     "text": [
      "(3,)\n",
      "1\n",
      "int32\n"
     ]
    }
   ],
   "source": [
    "print(array.shape)  # 5개의 행\n",
    "print(array.ndim)  # 1차원\n",
    "print(array.dtype)  # int32 "
   ]
  },
  {
   "cell_type": "code",
   "execution_count": 6,
   "id": "4f35256c",
   "metadata": {},
   "outputs": [
    {
     "data": {
      "text/plain": [
       "array([['A', 'B', 'C'],\n",
       "       ['D', 'E', 'F']], dtype='<U1')"
      ]
     },
     "execution_count": 6,
     "metadata": {},
     "output_type": "execute_result"
    }
   ],
   "source": [
    "array2 = np.array([[\"A\", \"B\", \"C\"],[\"D\",\"E\",\"F\"]])  # 2차원 = 2행, 3열\n",
    "array2"
   ]
  },
  {
   "cell_type": "code",
   "execution_count": 9,
   "id": "d5a9f2d9",
   "metadata": {},
   "outputs": [
    {
     "name": "stdout",
     "output_type": "stream",
     "text": [
      "(2, 3)\n",
      "2\n",
      "<U1\n"
     ]
    }
   ],
   "source": [
    "print(array2.shape)  # 2행 3열\n",
    "print(array2.ndim)  # 2차원\n",
    "print(array2.dtype)  # U1 -> numpy에서 string data를 이렇게 표현함 = Unicode & String"
   ]
  },
  {
   "cell_type": "code",
   "execution_count": 16,
   "id": "283f9a8f",
   "metadata": {},
   "outputs": [
    {
     "data": {
      "text/plain": [
       "array([[['A', 'B', 'C'],\n",
       "        ['D', 'E', 'F']],\n",
       "\n",
       "       [['A', 'B', 'C'],\n",
       "        ['D', 'E', 'F']],\n",
       "\n",
       "       [['A', 'B', 'C'],\n",
       "        ['D', 'E', 'F']],\n",
       "\n",
       "       [['A', 'B', 'C'],\n",
       "        ['D', 'E', 'F']],\n",
       "\n",
       "       [['A', 'B', 'C'],\n",
       "        ['D', 'E', 'F']]], dtype='<U1')"
      ]
     },
     "execution_count": 16,
     "metadata": {},
     "output_type": "execute_result"
    }
   ],
   "source": [
    "array3 = np.array([\n",
    "    [[\"A\", \"B\", \"C\"],[\"D\",\"E\",\"F\"]],\n",
    "    [[\"A\", \"B\", \"C\"],[\"D\",\"E\",\"F\"]],\n",
    "    [[\"A\", \"B\", \"C\"],[\"D\",\"E\",\"F\"]],\n",
    "    [[\"A\", \"B\", \"C\"],[\"D\",\"E\",\"F\"]],\n",
    "    [[\"A\", \"B\", \"C\"],[\"D\",\"E\",\"F\"]],\n",
    "])\n",
    "array3"
   ]
  },
  {
   "cell_type": "code",
   "execution_count": 17,
   "id": "315401d0",
   "metadata": {},
   "outputs": [
    {
     "name": "stdout",
     "output_type": "stream",
     "text": [
      "(5, 2, 3)\n",
      "3\n",
      "<U1\n"
     ]
    }
   ],
   "source": [
    "print(array3.shape)  # 2행 3열짜리가 -> 3개 있음 = 2 by 2 by 3\n",
    "print(array3.ndim)  # 3차원\n",
    "print(array3.dtype)  # U1 -> unicode + data size"
   ]
  },
  {
   "attachments": {
    "image.png": {
     "image/png": "[encoded data removed]"
    }
   },
   "cell_type": "markdown",
   "id": "e2920e94",
   "metadata": {},
   "source": [
    "![image.png](attachment:image.png)"
   ]
  },
  {
   "cell_type": "code",
   "execution_count": 22,
   "id": "8556394f",
   "metadata": {},
   "outputs": [
    {
     "name": "stdout",
     "output_type": "stream",
     "text": [
      "<U1\n",
      "float64\n",
      "int64\n"
     ]
    }
   ],
   "source": [
    "array4 = np.array([\"1\",\"2\",\"3\",\"4\",\"5\"])\n",
    "print(array4.dtype)\n",
    "\n",
    "array4 = array4.astype(np.float64)\n",
    "print(array4.dtype)\n",
    "\n",
    "array4 = array4.astype(np.int64)\n",
    "print(array4.dtype)"
   ]
  },
  {
   "cell_type": "code",
   "execution_count": 24,
   "id": "b517df32",
   "metadata": {},
   "outputs": [
    {
     "data": {
      "text/plain": [
       "array([1, 2, 3, 4, 5, 6, 7, 8, 9])"
      ]
     },
     "execution_count": 24,
     "metadata": {},
     "output_type": "execute_result"
    }
   ],
   "source": [
    "arr = np.arange(1, 10)  # 1차원 데이터 int 10개 생성해줘\n",
    "arr"
   ]
  },
  {
   "cell_type": "code",
   "execution_count": 25,
   "id": "a52d9acb",
   "metadata": {},
   "outputs": [
    {
     "data": {
      "text/plain": [
       "array([1, 2, 3])"
      ]
     },
     "execution_count": 25,
     "metadata": {},
     "output_type": "execute_result"
    }
   ],
   "source": [
    "arr[0:3]  # 아래와 같음\n",
    "arr[:3]"
   ]
  },
  {
   "cell_type": "code",
   "execution_count": 29,
   "id": "86f8e0f5",
   "metadata": {},
   "outputs": [
    {
     "data": {
      "text/plain": [
       "array([6, 7, 8, 9])"
      ]
     },
     "execution_count": 29,
     "metadata": {},
     "output_type": "execute_result"
    }
   ],
   "source": [
    "arr[-4:]"
   ]
  },
  {
   "cell_type": "markdown",
   "id": "48656ddb",
   "metadata": {},
   "source": [
    "## 많이 쓰여유 😘😘"
   ]
  },
  {
   "cell_type": "code",
   "execution_count": 31,
   "id": "745de09c",
   "metadata": {},
   "outputs": [
    {
     "name": "stdout",
     "output_type": "stream",
     "text": [
      "[False False False False False False  True  True  True]\n"
     ]
    },
    {
     "data": {
      "text/plain": [
       "array([7, 8, 9])"
      ]
     },
     "execution_count": 31,
     "metadata": {},
     "output_type": "execute_result"
    }
   ],
   "source": [
    "print(arr > 6) # 6보다 큰 애들을 나타내줌\n",
    "arr[arr > 6] # 이중에 True 인 것만 뽑아서 표현해줘"
   ]
  },
  {
   "cell_type": "code",
   "execution_count": 32,
   "id": "4bb28e71",
   "metadata": {},
   "outputs": [
    {
     "data": {
      "text/plain": [
       "array([[ 6,  8],\n",
       "       [10, 12]])"
      ]
     },
     "execution_count": 32,
     "metadata": {},
     "output_type": "execute_result"
    }
   ],
   "source": [
    "arr1 = np.array([[1,2], [3,4]])\n",
    "arr2 = np.array([[5,6], [7,8]])\n",
    "\n",
    "arr3 = arr1 + arr2\n",
    "arr3"
   ]
  },
  {
   "cell_type": "code",
   "execution_count": null,
   "id": "39254d7b",
   "metadata": {},
   "outputs": [],
   "source": []
  },
  {
   "cell_type": "code",
   "execution_count": null,
   "id": "1d6ae599",
   "metadata": {},
   "outputs": [],
   "source": []
  },
  {
   "cell_type": "code",
   "execution_count": null,
   "id": "cf0a0ac5",
   "metadata": {},
   "outputs": [],
   "source": []
  },
  {
   "cell_type": "code",
   "execution_count": null,
   "id": "f7de9740",
   "metadata": {},
   "outputs": [],
   "source": []
  },
  {
   "cell_type": "code",
   "execution_count": null,
   "id": "4755d13a",
   "metadata": {},
   "outputs": [],
   "source": []
  },
  {
   "cell_type": "code",
   "execution_count": null,
   "id": "1495334a",
   "metadata": {},
   "outputs": [],
   "source": []
  },
  {
   "cell_type": "code",
   "execution_count": null,
   "id": "7645be8f",
   "metadata": {},
   "outputs": [],
   "source": []
  },
  {
   "cell_type": "code",
   "execution_count": null,
   "id": "d413481f",
   "metadata": {},
   "outputs": [],
   "source": []
  }
 ],
 "metadata": {
  "kernelspec": {
   "display_name": "Python 3 (ipykernel)",
   "language": "python",
   "name": "python3"
  },
  "language_info": {
   "codemirror_mode": {
    "name": "ipython",
    "version": 3
   },
   "file_extension": ".py",
   "mimetype": "text/x-python",
   "name": "python",
   "nbconvert_exporter": "python",
   "pygments_lexer": "ipython3",
   "version": "3.9.12"
  }
 },
 "nbformat": 4,
 "nbformat_minor": 5
}

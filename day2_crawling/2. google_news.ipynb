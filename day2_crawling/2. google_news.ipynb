{
 "cells": [
  {
   "cell_type": "markdown",
   "id": "d74c39eb",
   "metadata": {},
   "source": [
    "# 구글 뉴스 크롤링 (~page 10)"
   ]
  },
  {
   "cell_type": "code",
   "execution_count": 2,
   "id": "4670c17f",
   "metadata": {},
   "outputs": [],
   "source": [
    "from selenium import webdriver\n",
    "from selenium.webdriver.common.by import By"
   ]
  },
  {
   "cell_type": "code",
   "execution_count": 3,
   "id": "490623ee",
   "metadata": {},
   "outputs": [
    {
     "name": "stderr",
     "output_type": "stream",
     "text": [
      "C:\\Users\\sunah\\AppData\\Local\\Temp\\ipykernel_31912\\2171725593.py:3: DeprecationWarning: executable_path has been deprecated, please pass in a Service object\n",
      "  browser = webdriver.Chrome(path)  # \"./chromedriver.exe\"\n"
     ]
    }
   ],
   "source": [
    "path = \"/Users/sunah/OneDrive/바탕 화면/SUN/러닝스푼즈/데이터분석/DataAnalytics/day2_crawling/chromedriver.exe\"\n",
    "\n",
    "browser = webdriver.Chrome(path)  # \"./chromedriver.exe\""
   ]
  },
  {
   "cell_type": "code",
   "execution_count": null,
   "id": "ccc5a2b2",
   "metadata": {},
   "outputs": [],
   "source": [
    "search_word = input(\"크롤링 하고자 하는 단어 입력하세요.\")\n",
    "page = input(\"크롤링 하고자 하는 페이지 수.\")\n",
    "\n",
    "browser.get(\"https://www.google.com/search?q={}&tbm=nws&ei=k6lYY82hJIG-hwO6q6rwCg&start={}&sa=N&ved=2ahUKEwiNt6GM-vz6AhUB32EKHbqVCq44ChDy0wN6BAgBEAQ&biw=1036&bih=666&dpr=1.25\".format(search_word, page))"
   ]
  },
  {
   "cell_type": "code",
   "execution_count": 21,
   "id": "f2fe46d7",
   "metadata": {},
   "outputs": [
    {
     "data": {
      "text/plain": [
       "\"'마약ㅇㅇ' 못쓴다는데…20여년만에 마약마케팅 사라질까\""
      ]
     },
     "execution_count": 21,
     "metadata": {},
     "output_type": "execute_result"
    }
   ],
   "source": [
    "browser.find_element(By.CLASS_NAME, 'mCBkyc.y355M.ynAwRc.MBeuO.nDgy9d').text"
   ]
  },
  {
   "cell_type": "code",
   "execution_count": 25,
   "id": "eae77999",
   "metadata": {},
   "outputs": [
    {
     "name": "stdout",
     "output_type": "stream",
     "text": [
      "[\"'마약ㅇㅇ' 못쓴다는데…20여년만에 마약마케팅 사라질까\", '(주)파워풀엑스 주주총회소집 결의 - 매일경제 증권센터', '“1주일 후 ㅇㅇ동에서 대형산불 발생” AI가 미리 알려준다', \"'마약ㅇㅇ' 못쓴다는데…20여년만에 마약마케팅 사라질까\", '[포토] 공공디자인 페스티벌 2022 무한상상, ㅇㅇ디자인', \"[이슈 추적] 새만금 해상풍력 사업권 인수 '중국 자본' 아닌 ‘한국·태국 자본’\", \"'몽베스트 몽샵' 캐시워크 돈버는퀴즈 정답 공개\", '장흥종합사회복지관, 사랑(愛) 김치나누기', \"차 오가노이드 연구센터 27일 '2022 오가노이드 심포지엄' 개최\", '대전시, 코로나19 신규확진자 751명 발생… 누적 71만8761명']\n"
     ]
    }
   ],
   "source": [
    "lists = []\n",
    "for i in titles:\n",
    "    lists.append(i.text)\n",
    "print(lists)"
   ]
  },
  {
   "cell_type": "code",
   "execution_count": 22,
   "id": "3c9f2ffa",
   "metadata": {},
   "outputs": [
    {
     "data": {
      "text/plain": [
       "[<selenium.webdriver.remote.webelement.WebElement (session=\"9bd6a83a6279e8ccace234cfd0d1523b\", element=\"334857a1-6201-4e2b-8969-20845eb16933\")>,\n",
       " <selenium.webdriver.remote.webelement.WebElement (session=\"9bd6a83a6279e8ccace234cfd0d1523b\", element=\"507c0a82-bd84-4d52-ac24-ab875cdb2316\")>,\n",
       " <selenium.webdriver.remote.webelement.WebElement (session=\"9bd6a83a6279e8ccace234cfd0d1523b\", element=\"aa67d67a-6b68-45ab-a9de-8a4a4a6aa2ae\")>,\n",
       " <selenium.webdriver.remote.webelement.WebElement (session=\"9bd6a83a6279e8ccace234cfd0d1523b\", element=\"143992a0-6b6d-4093-a443-cd16f1aa73ff\")>,\n",
       " <selenium.webdriver.remote.webelement.WebElement (session=\"9bd6a83a6279e8ccace234cfd0d1523b\", element=\"96ac7e02-3dab-4a71-b79e-c1921de08a34\")>,\n",
       " <selenium.webdriver.remote.webelement.WebElement (session=\"9bd6a83a6279e8ccace234cfd0d1523b\", element=\"90dc3bfd-fcd2-4679-a529-aef13be02bb7\")>,\n",
       " <selenium.webdriver.remote.webelement.WebElement (session=\"9bd6a83a6279e8ccace234cfd0d1523b\", element=\"2aa32904-a3a0-436c-8d62-85d3129aa318\")>,\n",
       " <selenium.webdriver.remote.webelement.WebElement (session=\"9bd6a83a6279e8ccace234cfd0d1523b\", element=\"79dc4817-388c-42d4-a3db-d5871703630b\")>,\n",
       " <selenium.webdriver.remote.webelement.WebElement (session=\"9bd6a83a6279e8ccace234cfd0d1523b\", element=\"2ae809c5-721a-4565-aa66-622bc63e2b59\")>,\n",
       " <selenium.webdriver.remote.webelement.WebElement (session=\"9bd6a83a6279e8ccace234cfd0d1523b\", element=\"7a9799cf-eccc-45fc-9143-f8e748cbe0c3\")>]"
      ]
     },
     "execution_count": 22,
     "metadata": {},
     "output_type": "execute_result"
    }
   ],
   "source": [
    "titles = browser.find_elements(By.CLASS_NAME, 'mCBkyc.y355M.ynAwRc.MBeuO.nDgy9d')\n",
    "titles"
   ]
  },
  {
   "cell_type": "code",
   "execution_count": 49,
   "id": "bfd94704",
   "metadata": {},
   "outputs": [
    {
     "ename": "NoSuchElementException",
     "evalue": "Message: no such element: Unable to locate element: {\"method\":\"css selector\",\"selector\":\"[id=\"query\"]\"}\n  (Session info: chrome=106.0.5249.119)\nStacktrace:\nBacktrace:\n\tOrdinal0 [0x007B1ED3+2236115]\n\tOrdinal0 [0x007492F1+1807089]\n\tOrdinal0 [0x006566FD+812797]\n\tOrdinal0 [0x006855DF+1005023]\n\tOrdinal0 [0x006857CB+1005515]\n\tOrdinal0 [0x006B7632+1209906]\n\tOrdinal0 [0x006A1AD4+1120980]\n\tOrdinal0 [0x006B59E2+1202658]\n\tOrdinal0 [0x006A18A6+1120422]\n\tOrdinal0 [0x0067A73D+960317]\n\tOrdinal0 [0x0067B71F+964383]\n\tGetHandleVerifier [0x00A5E7E2+2743074]\n\tGetHandleVerifier [0x00A508D4+2685972]\n\tGetHandleVerifier [0x00842BAA+532202]\n\tGetHandleVerifier [0x00841990+527568]\n\tOrdinal0 [0x0075080C+1837068]\n\tOrdinal0 [0x00754CD8+1854680]\n\tOrdinal0 [0x00754DC5+1854917]\n\tOrdinal0 [0x0075ED64+1895780]\n\tBaseThreadInitThunk [0x76A26739+25]\n\tRtlGetFullPathName_UEx [0x77138FD2+1218]\n\tRtlGetFullPathName_UEx [0x77138F9D+1165]\n",
     "output_type": "error",
     "traceback": [
      "\u001b[1;31m---------------------------------------------------------------------------\u001b[0m",
      "\u001b[1;31mNoSuchElementException\u001b[0m                    Traceback (most recent call last)",
      "Input \u001b[1;32mIn [49]\u001b[0m, in \u001b[0;36m<cell line: 2>\u001b[1;34m()\u001b[0m\n\u001b[0;32m      1\u001b[0m \u001b[38;5;66;03m# (2) Keys 라이브러리 사용\u001b[39;00m\n\u001b[1;32m----> 2\u001b[0m elem \u001b[38;5;241m=\u001b[39m \u001b[43mbrowser\u001b[49m\u001b[38;5;241;43m.\u001b[39;49m\u001b[43mfind_element\u001b[49m\u001b[43m(\u001b[49m\u001b[43mBy\u001b[49m\u001b[38;5;241;43m.\u001b[39;49m\u001b[43mID\u001b[49m\u001b[43m,\u001b[49m\u001b[43m \u001b[49m\u001b[38;5;124;43m'\u001b[39;49m\u001b[38;5;124;43mquery\u001b[39;49m\u001b[38;5;124;43m'\u001b[39;49m\u001b[43m)\u001b[49m \u001b[38;5;66;03m# 요소 지정\u001b[39;00m\n\u001b[0;32m      4\u001b[0m \u001b[38;5;28;01mfrom\u001b[39;00m \u001b[38;5;21;01mselenium\u001b[39;00m\u001b[38;5;21;01m.\u001b[39;00m\u001b[38;5;21;01mwebdriver\u001b[39;00m\u001b[38;5;21;01m.\u001b[39;00m\u001b[38;5;21;01mcommon\u001b[39;00m\u001b[38;5;21;01m.\u001b[39;00m\u001b[38;5;21;01mkeys\u001b[39;00m \u001b[38;5;28;01mimport\u001b[39;00m Keys\n\u001b[0;32m      5\u001b[0m elem\u001b[38;5;241m.\u001b[39msend_keys(\u001b[38;5;124m\"\u001b[39m\u001b[38;5;124m검색원하는 단어\u001b[39m\u001b[38;5;124m\"\u001b[39m)\n",
      "File \u001b[1;32m~\\anaconda3\\lib\\site-packages\\selenium\\webdriver\\remote\\webdriver.py:856\u001b[0m, in \u001b[0;36mWebDriver.find_element\u001b[1;34m(self, by, value)\u001b[0m\n\u001b[0;32m    853\u001b[0m     by \u001b[38;5;241m=\u001b[39m By\u001b[38;5;241m.\u001b[39mCSS_SELECTOR\n\u001b[0;32m    854\u001b[0m     value \u001b[38;5;241m=\u001b[39m \u001b[38;5;124m'\u001b[39m\u001b[38;5;124m[name=\u001b[39m\u001b[38;5;124m\"\u001b[39m\u001b[38;5;132;01m%s\u001b[39;00m\u001b[38;5;124m\"\u001b[39m\u001b[38;5;124m]\u001b[39m\u001b[38;5;124m'\u001b[39m \u001b[38;5;241m%\u001b[39m value\n\u001b[1;32m--> 856\u001b[0m \u001b[38;5;28;01mreturn\u001b[39;00m \u001b[38;5;28;43mself\u001b[39;49m\u001b[38;5;241;43m.\u001b[39;49m\u001b[43mexecute\u001b[49m\u001b[43m(\u001b[49m\u001b[43mCommand\u001b[49m\u001b[38;5;241;43m.\u001b[39;49m\u001b[43mFIND_ELEMENT\u001b[49m\u001b[43m,\u001b[49m\u001b[43m \u001b[49m\u001b[43m{\u001b[49m\n\u001b[0;32m    857\u001b[0m \u001b[43m    \u001b[49m\u001b[38;5;124;43m'\u001b[39;49m\u001b[38;5;124;43musing\u001b[39;49m\u001b[38;5;124;43m'\u001b[39;49m\u001b[43m:\u001b[49m\u001b[43m \u001b[49m\u001b[43mby\u001b[49m\u001b[43m,\u001b[49m\n\u001b[0;32m    858\u001b[0m \u001b[43m    \u001b[49m\u001b[38;5;124;43m'\u001b[39;49m\u001b[38;5;124;43mvalue\u001b[39;49m\u001b[38;5;124;43m'\u001b[39;49m\u001b[43m:\u001b[49m\u001b[43m \u001b[49m\u001b[43mvalue\u001b[49m\u001b[43m}\u001b[49m\u001b[43m)\u001b[49m[\u001b[38;5;124m'\u001b[39m\u001b[38;5;124mvalue\u001b[39m\u001b[38;5;124m'\u001b[39m]\n",
      "File \u001b[1;32m~\\anaconda3\\lib\\site-packages\\selenium\\webdriver\\remote\\webdriver.py:429\u001b[0m, in \u001b[0;36mWebDriver.execute\u001b[1;34m(self, driver_command, params)\u001b[0m\n\u001b[0;32m    427\u001b[0m response \u001b[38;5;241m=\u001b[39m \u001b[38;5;28mself\u001b[39m\u001b[38;5;241m.\u001b[39mcommand_executor\u001b[38;5;241m.\u001b[39mexecute(driver_command, params)\n\u001b[0;32m    428\u001b[0m \u001b[38;5;28;01mif\u001b[39;00m response:\n\u001b[1;32m--> 429\u001b[0m     \u001b[38;5;28;43mself\u001b[39;49m\u001b[38;5;241;43m.\u001b[39;49m\u001b[43merror_handler\u001b[49m\u001b[38;5;241;43m.\u001b[39;49m\u001b[43mcheck_response\u001b[49m\u001b[43m(\u001b[49m\u001b[43mresponse\u001b[49m\u001b[43m)\u001b[49m\n\u001b[0;32m    430\u001b[0m     response[\u001b[38;5;124m'\u001b[39m\u001b[38;5;124mvalue\u001b[39m\u001b[38;5;124m'\u001b[39m] \u001b[38;5;241m=\u001b[39m \u001b[38;5;28mself\u001b[39m\u001b[38;5;241m.\u001b[39m_unwrap_value(\n\u001b[0;32m    431\u001b[0m         response\u001b[38;5;241m.\u001b[39mget(\u001b[38;5;124m'\u001b[39m\u001b[38;5;124mvalue\u001b[39m\u001b[38;5;124m'\u001b[39m, \u001b[38;5;28;01mNone\u001b[39;00m))\n\u001b[0;32m    432\u001b[0m     \u001b[38;5;28;01mreturn\u001b[39;00m response\n",
      "File \u001b[1;32m~\\anaconda3\\lib\\site-packages\\selenium\\webdriver\\remote\\errorhandler.py:243\u001b[0m, in \u001b[0;36mErrorHandler.check_response\u001b[1;34m(self, response)\u001b[0m\n\u001b[0;32m    241\u001b[0m         alert_text \u001b[38;5;241m=\u001b[39m value[\u001b[38;5;124m'\u001b[39m\u001b[38;5;124malert\u001b[39m\u001b[38;5;124m'\u001b[39m]\u001b[38;5;241m.\u001b[39mget(\u001b[38;5;124m'\u001b[39m\u001b[38;5;124mtext\u001b[39m\u001b[38;5;124m'\u001b[39m)\n\u001b[0;32m    242\u001b[0m     \u001b[38;5;28;01mraise\u001b[39;00m exception_class(message, screen, stacktrace, alert_text)  \u001b[38;5;66;03m# type: ignore[call-arg]  # mypy is not smart enough here\u001b[39;00m\n\u001b[1;32m--> 243\u001b[0m \u001b[38;5;28;01mraise\u001b[39;00m exception_class(message, screen, stacktrace)\n",
      "\u001b[1;31mNoSuchElementException\u001b[0m: Message: no such element: Unable to locate element: {\"method\":\"css selector\",\"selector\":\"[id=\"query\"]\"}\n  (Session info: chrome=106.0.5249.119)\nStacktrace:\nBacktrace:\n\tOrdinal0 [0x007B1ED3+2236115]\n\tOrdinal0 [0x007492F1+1807089]\n\tOrdinal0 [0x006566FD+812797]\n\tOrdinal0 [0x006855DF+1005023]\n\tOrdinal0 [0x006857CB+1005515]\n\tOrdinal0 [0x006B7632+1209906]\n\tOrdinal0 [0x006A1AD4+1120980]\n\tOrdinal0 [0x006B59E2+1202658]\n\tOrdinal0 [0x006A18A6+1120422]\n\tOrdinal0 [0x0067A73D+960317]\n\tOrdinal0 [0x0067B71F+964383]\n\tGetHandleVerifier [0x00A5E7E2+2743074]\n\tGetHandleVerifier [0x00A508D4+2685972]\n\tGetHandleVerifier [0x00842BAA+532202]\n\tGetHandleVerifier [0x00841990+527568]\n\tOrdinal0 [0x0075080C+1837068]\n\tOrdinal0 [0x00754CD8+1854680]\n\tOrdinal0 [0x00754DC5+1854917]\n\tOrdinal0 [0x0075ED64+1895780]\n\tBaseThreadInitThunk [0x76A26739+25]\n\tRtlGetFullPathName_UEx [0x77138FD2+1218]\n\tRtlGetFullPathName_UEx [0x77138F9D+1165]\n"
     ]
    }
   ],
   "source": [
    "# (2) Keys 라이브러리 사용\n",
    "elem = browser.find_element(By.ID, 'query') # 요소 지정\n",
    "\n",
    "from selenium.webdriver.common.keys import Keys\n",
    "elem.send_keys(\"검색원하는 단어\")\n",
    "elem.send_keys(Keys.ENTER)"
   ]
  },
  {
   "cell_type": "markdown",
   "id": "f1b2507e",
   "metadata": {},
   "source": [
    "## 위에 이거 왜 에러 뜨는지 ????"
   ]
  },
  {
   "cell_type": "code",
   "execution_count": null,
   "id": "b65372e3",
   "metadata": {},
   "outputs": [],
   "source": []
  },
  {
   "cell_type": "code",
   "execution_count": null,
   "id": "a09c6c52",
   "metadata": {},
   "outputs": [],
   "source": []
  },
  {
   "cell_type": "code",
   "execution_count": 50,
   "id": "b7d1012b",
   "metadata": {},
   "outputs": [
    {
     "ename": "NameError",
     "evalue": "name 'keys' is not defined",
     "output_type": "error",
     "traceback": [
      "\u001b[1;31m---------------------------------------------------------------------------\u001b[0m",
      "\u001b[1;31mNameError\u001b[0m                                 Traceback (most recent call last)",
      "Input \u001b[1;32mIn [50]\u001b[0m, in \u001b[0;36m<cell line: 3>\u001b[1;34m()\u001b[0m\n\u001b[0;32m      1\u001b[0m browser\u001b[38;5;241m.\u001b[39mfind_element(By\u001b[38;5;241m.\u001b[39mCLASS_NAME, \u001b[38;5;124m'\u001b[39m\u001b[38;5;124mgLFyf.gsfi\u001b[39m\u001b[38;5;124m'\u001b[39m)\u001b[38;5;241m.\u001b[39mclear()\n\u001b[0;32m      2\u001b[0m browser\u001b[38;5;241m.\u001b[39mfind_element(By\u001b[38;5;241m.\u001b[39mCLASS_NAME, \u001b[38;5;124m'\u001b[39m\u001b[38;5;124mgLFyf.gsfi\u001b[39m\u001b[38;5;124m'\u001b[39m)\u001b[38;5;241m.\u001b[39msend_keys(\u001b[38;5;124m\"\u001b[39m\u001b[38;5;124m데이터분석\u001b[39m\u001b[38;5;124m\"\u001b[39m)\n\u001b[1;32m----> 3\u001b[0m browser\u001b[38;5;241m.\u001b[39mfind_element(By\u001b[38;5;241m.\u001b[39mCLASS_NAME, \u001b[38;5;124m'\u001b[39m\u001b[38;5;124mgLFyf.gsfi\u001b[39m\u001b[38;5;124m'\u001b[39m)\u001b[38;5;241m.\u001b[39msend_keys(\u001b[43mkeys\u001b[49m\u001b[38;5;241m.\u001b[39mENTER)\n",
      "\u001b[1;31mNameError\u001b[0m: name 'keys' is not defined"
     ]
    }
   ],
   "source": [
    "browser.find_element(By.CLASS_NAME, 'gLFyf.gsfi').clear()\n",
    "browser.find_element(By.CLASS_NAME, 'gLFyf.gsfi').send_keys(\"데이터분석\")\n",
    "browser.find_element(By.CLASS_NAME, 'gLFyf.gsfi').send_keys(keys.ENTER)"
   ]
  },
  {
   "cell_type": "code",
   "execution_count": 51,
   "id": "d9b0a2ce",
   "metadata": {},
   "outputs": [],
   "source": [
    "search_word = \"데이터분석\"\n",
    "browser.get(\"https://www.google.com/search?q={}&tbm=nws&ei=k6lYY82hJIG-hwO6q6rwCg&start={}sa=N&ved=2ahUKEwiNt6GM-vz6AhUB32EKHbqVCq44ChDy0wN6BAgBEAQ&biw=1036&bih=666&dpr=1.25\".format(search_word, page))\n"
   ]
  },
  {
   "cell_type": "code",
   "execution_count": 52,
   "id": "74a4df36",
   "metadata": {},
   "outputs": [
    {
     "data": {
      "text/plain": [
       "<selenium.webdriver.remote.webelement.WebElement (session=\"9bd6a83a6279e8ccace234cfd0d1523b\", element=\"fdb85ae3-b7b5-4464-a011-3af6d2baa9f7\")>"
      ]
     },
     "execution_count": 52,
     "metadata": {},
     "output_type": "execute_result"
    }
   ],
   "source": [
    "titles[0]"
   ]
  },
  {
   "cell_type": "code",
   "execution_count": 53,
   "id": "802b4204",
   "metadata": {
    "scrolled": true
   },
   "outputs": [
    {
     "name": "stdout",
     "output_type": "stream",
     "text": [
      "<selenium.webdriver.remote.webelement.WebElement (session=\"9bd6a83a6279e8ccace234cfd0d1523b\", element=\"fdb85ae3-b7b5-4464-a011-3af6d2baa9f7\")>\n",
      "<selenium.webdriver.remote.webelement.WebElement (session=\"9bd6a83a6279e8ccace234cfd0d1523b\", element=\"7820227e-a51c-4047-afd6-fafeea9a5923\")>\n",
      "<selenium.webdriver.remote.webelement.WebElement (session=\"9bd6a83a6279e8ccace234cfd0d1523b\", element=\"c16b99d6-1d40-47b1-a529-b6eaef3cdee9\")>\n",
      "<selenium.webdriver.remote.webelement.WebElement (session=\"9bd6a83a6279e8ccace234cfd0d1523b\", element=\"18d6022a-0ba4-40a8-916c-57cf872f5f57\")>\n",
      "<selenium.webdriver.remote.webelement.WebElement (session=\"9bd6a83a6279e8ccace234cfd0d1523b\", element=\"0eed0763-3238-4f9a-8031-a34bc4296988\")>\n",
      "<selenium.webdriver.remote.webelement.WebElement (session=\"9bd6a83a6279e8ccace234cfd0d1523b\", element=\"9bcb6490-ad52-41e1-a258-b4681b987f55\")>\n",
      "<selenium.webdriver.remote.webelement.WebElement (session=\"9bd6a83a6279e8ccace234cfd0d1523b\", element=\"edee5bb6-da59-47b0-b55a-aac43fdfdf84\")>\n"
     ]
    }
   ],
   "source": [
    "for t in titles:\n",
    "    print(t)"
   ]
  },
  {
   "cell_type": "code",
   "execution_count": null,
   "id": "7b672af0",
   "metadata": {
    "scrolled": true
   },
   "outputs": [],
   "source": [
    "titles = browser.find_elements(By.CLASS_NAME, 'mCBkyc.y355M.ynAwRc.MBeuO.nDgy9d')\n",
    "title = []\n",
    "search_word = \"데이터분석\"\n",
    "\n",
    "for page in range(10):\n",
    "    browser.get(\"https://www.google.com/search?q={}&tbm=nws&ei=k6lYY82hJIG-hwO6q6rwCg&start={}sa=N&ved=2ahUKEwiNt6GM-vz6AhUB32EKHbqVCq44ChDy0wN6BAgBEAQ&biw=1036&bih=666&dpr=1.25\".format(search_word, page))\n",
    "    for t in titles:\n",
    "        title.append(t.text)\n",
    "        \n",
    "title"
   ]
  },
  {
   "cell_type": "code",
   "execution_count": null,
   "id": "11b513db",
   "metadata": {},
   "outputs": [],
   "source": []
  },
  {
   "cell_type": "markdown",
   "id": "0d08d9c0",
   "metadata": {},
   "source": [
    "## 다시해보자고 \n",
    "- 구글 뉴스 페이지 10까지 가져오는 것"
   ]
  },
  {
   "cell_type": "code",
   "execution_count": 6,
   "id": "39dd879b",
   "metadata": {
    "scrolled": true
   },
   "outputs": [
    {
     "name": "stdout",
     "output_type": "stream",
     "text": [
      "page number: 3\n",
      "google.com/page=0\n",
      "google.com/page=10\n",
      "google.com/page=20\n"
     ]
    }
   ],
   "source": [
    "page = int(input(\"page number: \"))\n",
    "for i in range(0, page*10, 10):\n",
    "    url = \"google.com/page={}\".format(i)\n",
    "    print(url)"
   ]
  },
  {
   "cell_type": "code",
   "execution_count": 26,
   "id": "0fa31d2c",
   "metadata": {},
   "outputs": [
    {
     "name": "stdout",
     "output_type": "stream",
     "text": [
      "크롤링 키워드: 데이터분석\n",
      "크롤링 페이지 수: 3\n",
      "0\n",
      "https://www.google.com/search?q=데이터분석&tbm=nws&ei=U7RYY-DXLYfo-QaO7IXADw&start=0&sa=N&ved=2ahUKEwigzcushP36AhUHdN4KHQ52AfgQ8tMDegQIARAE&biw=820&bih=691&dpr=1.25\n",
      "10\n",
      "https://www.google.com/search?q=데이터분석&tbm=nws&ei=U7RYY-DXLYfo-QaO7IXADw&start=10&sa=N&ved=2ahUKEwigzcushP36AhUHdN4KHQ52AfgQ8tMDegQIARAE&biw=820&bih=691&dpr=1.25\n",
      "20\n",
      "https://www.google.com/search?q=데이터분석&tbm=nws&ei=U7RYY-DXLYfo-QaO7IXADw&start=20&sa=N&ved=2ahUKEwigzcushP36AhUHdN4KHQ52AfgQ8tMDegQIARAE&biw=820&bih=691&dpr=1.25\n"
     ]
    }
   ],
   "source": [
    "search_word = input(\"크롤링 키워드: \")\n",
    "page = int(input(\"크롤링 페이지 수: \"))\n",
    "\n",
    "url = 'https://www.google.com/search?q={}&tbm=nws&ei=U7RYY-DXLYfo-QaO7IXADw&start={}&sa=N&ved=2ahUKEwigzcushP36AhUHdN4KHQ52AfgQ8tMDegQIARAE&biw=820&bih=691&dpr=1.25'\n",
    "\n",
    "for i in range(0, page*10, 10):\n",
    "    print(i)\n",
    "    final_url = url.format(search_word, i)\n",
    "    print(final_url)"
   ]
  },
  {
   "cell_type": "code",
   "execution_count": 20,
   "id": "27606a15",
   "metadata": {},
   "outputs": [
    {
     "name": "stdout",
     "output_type": "stream",
     "text": [
      "[<selenium.webdriver.remote.webelement.WebElement (session=\"9bd6a83a6279e8ccace234cfd0d1523b\", element=\"1e0d797a-1e4e-4257-a24a-8f9097a02030\")>]\n",
      "[<selenium.webdriver.remote.webelement.WebElement (session=\"9bd6a83a6279e8ccace234cfd0d1523b\", element=\"1e0d797a-1e4e-4257-a24a-8f9097a02030\")>, <selenium.webdriver.remote.webelement.WebElement (session=\"9bd6a83a6279e8ccace234cfd0d1523b\", element=\"1bfc8eb7-b0dd-4102-833a-6e7ced4a50ce\")>]\n",
      "[<selenium.webdriver.remote.webelement.WebElement (session=\"9bd6a83a6279e8ccace234cfd0d1523b\", element=\"1e0d797a-1e4e-4257-a24a-8f9097a02030\")>, <selenium.webdriver.remote.webelement.WebElement (session=\"9bd6a83a6279e8ccace234cfd0d1523b\", element=\"1bfc8eb7-b0dd-4102-833a-6e7ced4a50ce\")>, <selenium.webdriver.remote.webelement.WebElement (session=\"9bd6a83a6279e8ccace234cfd0d1523b\", element=\"c7041634-fb2c-4252-ac16-b9da9bef1d8c\")>]\n",
      "[<selenium.webdriver.remote.webelement.WebElement (session=\"9bd6a83a6279e8ccace234cfd0d1523b\", element=\"1e0d797a-1e4e-4257-a24a-8f9097a02030\")>, <selenium.webdriver.remote.webelement.WebElement (session=\"9bd6a83a6279e8ccace234cfd0d1523b\", element=\"1bfc8eb7-b0dd-4102-833a-6e7ced4a50ce\")>, <selenium.webdriver.remote.webelement.WebElement (session=\"9bd6a83a6279e8ccace234cfd0d1523b\", element=\"c7041634-fb2c-4252-ac16-b9da9bef1d8c\")>, <selenium.webdriver.remote.webelement.WebElement (session=\"9bd6a83a6279e8ccace234cfd0d1523b\", element=\"8f35c92d-9056-4942-a59d-5e142cc6e378\")>]\n",
      "[<selenium.webdriver.remote.webelement.WebElement (session=\"9bd6a83a6279e8ccace234cfd0d1523b\", element=\"1e0d797a-1e4e-4257-a24a-8f9097a02030\")>, <selenium.webdriver.remote.webelement.WebElement (session=\"9bd6a83a6279e8ccace234cfd0d1523b\", element=\"1bfc8eb7-b0dd-4102-833a-6e7ced4a50ce\")>, <selenium.webdriver.remote.webelement.WebElement (session=\"9bd6a83a6279e8ccace234cfd0d1523b\", element=\"c7041634-fb2c-4252-ac16-b9da9bef1d8c\")>, <selenium.webdriver.remote.webelement.WebElement (session=\"9bd6a83a6279e8ccace234cfd0d1523b\", element=\"8f35c92d-9056-4942-a59d-5e142cc6e378\")>, <selenium.webdriver.remote.webelement.WebElement (session=\"9bd6a83a6279e8ccace234cfd0d1523b\", element=\"90930af0-83aa-4c4c-8e79-ecd860ff43d7\")>]\n",
      "[<selenium.webdriver.remote.webelement.WebElement (session=\"9bd6a83a6279e8ccace234cfd0d1523b\", element=\"1e0d797a-1e4e-4257-a24a-8f9097a02030\")>, <selenium.webdriver.remote.webelement.WebElement (session=\"9bd6a83a6279e8ccace234cfd0d1523b\", element=\"1bfc8eb7-b0dd-4102-833a-6e7ced4a50ce\")>, <selenium.webdriver.remote.webelement.WebElement (session=\"9bd6a83a6279e8ccace234cfd0d1523b\", element=\"c7041634-fb2c-4252-ac16-b9da9bef1d8c\")>, <selenium.webdriver.remote.webelement.WebElement (session=\"9bd6a83a6279e8ccace234cfd0d1523b\", element=\"8f35c92d-9056-4942-a59d-5e142cc6e378\")>, <selenium.webdriver.remote.webelement.WebElement (session=\"9bd6a83a6279e8ccace234cfd0d1523b\", element=\"90930af0-83aa-4c4c-8e79-ecd860ff43d7\")>, <selenium.webdriver.remote.webelement.WebElement (session=\"9bd6a83a6279e8ccace234cfd0d1523b\", element=\"7bad1f97-40ed-445d-bd15-3efae007ce30\")>]\n",
      "[<selenium.webdriver.remote.webelement.WebElement (session=\"9bd6a83a6279e8ccace234cfd0d1523b\", element=\"1e0d797a-1e4e-4257-a24a-8f9097a02030\")>, <selenium.webdriver.remote.webelement.WebElement (session=\"9bd6a83a6279e8ccace234cfd0d1523b\", element=\"1bfc8eb7-b0dd-4102-833a-6e7ced4a50ce\")>, <selenium.webdriver.remote.webelement.WebElement (session=\"9bd6a83a6279e8ccace234cfd0d1523b\", element=\"c7041634-fb2c-4252-ac16-b9da9bef1d8c\")>, <selenium.webdriver.remote.webelement.WebElement (session=\"9bd6a83a6279e8ccace234cfd0d1523b\", element=\"8f35c92d-9056-4942-a59d-5e142cc6e378\")>, <selenium.webdriver.remote.webelement.WebElement (session=\"9bd6a83a6279e8ccace234cfd0d1523b\", element=\"90930af0-83aa-4c4c-8e79-ecd860ff43d7\")>, <selenium.webdriver.remote.webelement.WebElement (session=\"9bd6a83a6279e8ccace234cfd0d1523b\", element=\"7bad1f97-40ed-445d-bd15-3efae007ce30\")>, <selenium.webdriver.remote.webelement.WebElement (session=\"9bd6a83a6279e8ccace234cfd0d1523b\", element=\"e82db131-6db5-4f44-94f1-419a214569c1\")>]\n",
      "[<selenium.webdriver.remote.webelement.WebElement (session=\"9bd6a83a6279e8ccace234cfd0d1523b\", element=\"1e0d797a-1e4e-4257-a24a-8f9097a02030\")>, <selenium.webdriver.remote.webelement.WebElement (session=\"9bd6a83a6279e8ccace234cfd0d1523b\", element=\"1bfc8eb7-b0dd-4102-833a-6e7ced4a50ce\")>, <selenium.webdriver.remote.webelement.WebElement (session=\"9bd6a83a6279e8ccace234cfd0d1523b\", element=\"c7041634-fb2c-4252-ac16-b9da9bef1d8c\")>, <selenium.webdriver.remote.webelement.WebElement (session=\"9bd6a83a6279e8ccace234cfd0d1523b\", element=\"8f35c92d-9056-4942-a59d-5e142cc6e378\")>, <selenium.webdriver.remote.webelement.WebElement (session=\"9bd6a83a6279e8ccace234cfd0d1523b\", element=\"90930af0-83aa-4c4c-8e79-ecd860ff43d7\")>, <selenium.webdriver.remote.webelement.WebElement (session=\"9bd6a83a6279e8ccace234cfd0d1523b\", element=\"7bad1f97-40ed-445d-bd15-3efae007ce30\")>, <selenium.webdriver.remote.webelement.WebElement (session=\"9bd6a83a6279e8ccace234cfd0d1523b\", element=\"e82db131-6db5-4f44-94f1-419a214569c1\")>, <selenium.webdriver.remote.webelement.WebElement (session=\"9bd6a83a6279e8ccace234cfd0d1523b\", element=\"59770144-2359-4a9c-9a2f-64fa703c161c\")>]\n",
      "[<selenium.webdriver.remote.webelement.WebElement (session=\"9bd6a83a6279e8ccace234cfd0d1523b\", element=\"1e0d797a-1e4e-4257-a24a-8f9097a02030\")>, <selenium.webdriver.remote.webelement.WebElement (session=\"9bd6a83a6279e8ccace234cfd0d1523b\", element=\"1bfc8eb7-b0dd-4102-833a-6e7ced4a50ce\")>, <selenium.webdriver.remote.webelement.WebElement (session=\"9bd6a83a6279e8ccace234cfd0d1523b\", element=\"c7041634-fb2c-4252-ac16-b9da9bef1d8c\")>, <selenium.webdriver.remote.webelement.WebElement (session=\"9bd6a83a6279e8ccace234cfd0d1523b\", element=\"8f35c92d-9056-4942-a59d-5e142cc6e378\")>, <selenium.webdriver.remote.webelement.WebElement (session=\"9bd6a83a6279e8ccace234cfd0d1523b\", element=\"90930af0-83aa-4c4c-8e79-ecd860ff43d7\")>, <selenium.webdriver.remote.webelement.WebElement (session=\"9bd6a83a6279e8ccace234cfd0d1523b\", element=\"7bad1f97-40ed-445d-bd15-3efae007ce30\")>, <selenium.webdriver.remote.webelement.WebElement (session=\"9bd6a83a6279e8ccace234cfd0d1523b\", element=\"e82db131-6db5-4f44-94f1-419a214569c1\")>, <selenium.webdriver.remote.webelement.WebElement (session=\"9bd6a83a6279e8ccace234cfd0d1523b\", element=\"59770144-2359-4a9c-9a2f-64fa703c161c\")>, <selenium.webdriver.remote.webelement.WebElement (session=\"9bd6a83a6279e8ccace234cfd0d1523b\", element=\"9f401dbc-fef1-466f-90d7-c78c6dbb7d33\")>]\n",
      "[<selenium.webdriver.remote.webelement.WebElement (session=\"9bd6a83a6279e8ccace234cfd0d1523b\", element=\"1e0d797a-1e4e-4257-a24a-8f9097a02030\")>, <selenium.webdriver.remote.webelement.WebElement (session=\"9bd6a83a6279e8ccace234cfd0d1523b\", element=\"1bfc8eb7-b0dd-4102-833a-6e7ced4a50ce\")>, <selenium.webdriver.remote.webelement.WebElement (session=\"9bd6a83a6279e8ccace234cfd0d1523b\", element=\"c7041634-fb2c-4252-ac16-b9da9bef1d8c\")>, <selenium.webdriver.remote.webelement.WebElement (session=\"9bd6a83a6279e8ccace234cfd0d1523b\", element=\"8f35c92d-9056-4942-a59d-5e142cc6e378\")>, <selenium.webdriver.remote.webelement.WebElement (session=\"9bd6a83a6279e8ccace234cfd0d1523b\", element=\"90930af0-83aa-4c4c-8e79-ecd860ff43d7\")>, <selenium.webdriver.remote.webelement.WebElement (session=\"9bd6a83a6279e8ccace234cfd0d1523b\", element=\"7bad1f97-40ed-445d-bd15-3efae007ce30\")>, <selenium.webdriver.remote.webelement.WebElement (session=\"9bd6a83a6279e8ccace234cfd0d1523b\", element=\"e82db131-6db5-4f44-94f1-419a214569c1\")>, <selenium.webdriver.remote.webelement.WebElement (session=\"9bd6a83a6279e8ccace234cfd0d1523b\", element=\"59770144-2359-4a9c-9a2f-64fa703c161c\")>, <selenium.webdriver.remote.webelement.WebElement (session=\"9bd6a83a6279e8ccace234cfd0d1523b\", element=\"9f401dbc-fef1-466f-90d7-c78c6dbb7d33\")>, <selenium.webdriver.remote.webelement.WebElement (session=\"9bd6a83a6279e8ccace234cfd0d1523b\", element=\"77af1a0a-c128-4917-ac8f-968e5f9d9e50\")>]\n"
     ]
    }
   ],
   "source": [
    "title = []\n",
    "for j in titles:\n",
    "    title.append(j)\n",
    "    print(title)"
   ]
  },
  {
   "cell_type": "code",
   "execution_count": null,
   "id": "2f91ecb9",
   "metadata": {},
   "outputs": [],
   "source": [
    "titles = browser.find_elements(By.CLASS_NAME, 'mCBkyc')\n",
    "titles"
   ]
  },
  {
   "cell_type": "code",
   "execution_count": 43,
   "id": "6f986cbc",
   "metadata": {},
   "outputs": [
    {
     "name": "stdout",
     "output_type": "stream",
     "text": [
      "크롤링 키워드: 데이터분석\n",
      "크롤링 페이지 수: 3\n",
      "0  :  과기정통부, '과학기술 통계 데이터 분석 서비스' 시작\n",
      "1  :  과학기술 통계 데이터, 더 자유롭게 활용한다\n",
      "2  :  성동구 데이터 분석으로 1인가구 건강 지킨다\n",
      "3  :  강기정 광주시장 \"데이터 분석 기반, 스토리 있는 축제 만들어야\"\n",
      "4  :  공인회계사회 '재무빅데이터분석 자격시험' 신설\n",
      "5  :  강기정 \"데이터 분석에 기반한 스토리 있는 축제 만들어야\"\n",
      "6  :  국내 블록체인 데이터 분석기업 크립토퀀트, 美 CME에 데이터 공급\n",
      "7  :  과기정통부 \"과학기술 통계 데이터 활용 확대\"\n",
      "8  :  한공회, `재무빅데이터분석사 자격시험` 국내 최초 신설\n",
      "9  :  강기정 광주광역시장 “데이터 분석에 기반한 스토리 있는 축제 만들어야”\n",
      "10  :  정부, 과학기술 미공개 통계데이터 분석 서비스 개시\n",
      "11  :  과기정통부, '과학기술 통계 데이터 분석 서비스' 시작\n",
      "12  :  의료 단체의 데이터 분석 도구 통해 300만 정보 유출돼\n",
      "13  :  “광주 관광, 데이터 분석 기반 수용성 갖춰야” < 시민자치 < 뉴스 ...\n",
      "14  :  강기정 시장 “데이터 분석에 기반한 스토리 있는 축제 만들어야”\n",
      "15  :  엔키노, 오토 머신러닝 솔루션 'AISO Data Analysis'으로 머신 ...\n",
      "16  :  과기정통부 “과학기술 통계 데이터 활용 확대” – Sciencetimes\n",
      "17  :  효성인포메이션시스템, 데이터 분석 및 엔터프라이즈 AI 혁신 ...\n",
      "18  :  2022년 축산데이터 분석·ICT 활용 아이디어 경진대회 열린다\n",
      "19  :  행안부·디지털플랫폼정부위, '2022 데이터 분석활용 공모전'개최 ...\n",
      "20  :  도로교통공단, 데이터 분석·활용 경진대회 개최\n",
      "21  :  한공회, '재무빅데이터분석사 자격시험' 국내 최초 신설\n",
      "22  :  엔키노, 오토 머신러닝 솔루션 'AISO Data Analysis'으로 머신 ...\n",
      "23  :  TIPA, K-인공지능 제조데이터 분석 경진대회 개최\n",
      "24  :  엔키노, 오토 머신러닝 솔루션 'AISO Data Analysis'으로 머신 ...\n",
      "25  :  [특허뉴스] [포커스] 윕스, 국내 최초 AI 특허·기술 자동분류 ...\n",
      "26  :  인라이플 모비튠, 올해 패션 분야 빅데이터 분석 결과...TOP ...\n",
      "27  :  완도군, '빅 데이터 분석·활용' 관광 활성화 도모\n",
      "28  :  생물공학 상장기업 브랜드평판 10월 빅데이터 분석결과...1위 ...\n",
      "29  :  엔키노, 머신러닝 기반 데이터 분석 시장 진출\n"
     ]
    }
   ],
   "source": [
    "search_word = input(\"크롤링 키워드: \")\n",
    "page = int(input(\"크롤링 페이지 수: \"))\n",
    "\n",
    "url = 'https://www.google.com/search?q={}&tbm=nws&ei=U7RYY-DXLYfo-QaO7IXADw&start={}&sa=N&ved=2ahUKEwigzcushP36AhUHdN4KHQ52AfgQ8tMDegQIARAE&biw=820&bih=691&dpr=1.25'\n",
    "title = []\n",
    "\n",
    "for i in range(0, page*10, 10):\n",
    "#     print(i)\n",
    "    temp_url = url.format(search_word, i)\n",
    "#     print(temp_url)\n",
    "    final_url = browser.get(temp_url)\n",
    "    \n",
    "    # 안에다가 둬야지 ^^^^\n",
    "    titles = browser.find_elements(By.CLASS_NAME, 'mCBkyc')\n",
    "#     print(titles)\n",
    "\n",
    "    for j in titles:\n",
    "        title.append(j.text)\n",
    "\n",
    "# print(title)\n",
    "\n",
    "for i, t in enumerate(title): \n",
    "    print(i, \":\", t)"
   ]
  },
  {
   "cell_type": "code",
   "execution_count": 14,
   "id": "cbe765e6",
   "metadata": {},
   "outputs": [
    {
     "data": {
      "text/plain": [
       "[0, 1, 2, 3, 4, 5, 6, 7, 8, 9]"
      ]
     },
     "execution_count": 14,
     "metadata": {},
     "output_type": "execute_result"
    }
   ],
   "source": [
    "title = []\n",
    "for i in range(10):\n",
    "    title.append(i)\n",
    "    \n",
    "title"
   ]
  },
  {
   "cell_type": "code",
   "execution_count": 41,
   "id": "a44bc39f",
   "metadata": {
    "scrolled": true
   },
   "outputs": [
    {
     "name": "stdout",
     "output_type": "stream",
     "text": [
      "(0, 'A')\n",
      "(1, 'B')\n",
      "(2, 'C')\n",
      "(3, 'D')\n"
     ]
    }
   ],
   "source": [
    "ls = [\"A\", \"B\", \"C\", \"D\"]\n",
    "for i in enumerate(ls):\n",
    "    print(i)"
   ]
  },
  {
   "cell_type": "code",
   "execution_count": null,
   "id": "b4e878cd",
   "metadata": {},
   "outputs": [],
   "source": []
  },
  {
   "cell_type": "markdown",
   "id": "04a0c2bc",
   "metadata": {},
   "source": [
    "# 정리된 최종 코드"
   ]
  },
  {
   "cell_type": "code",
   "execution_count": 46,
   "id": "3c2f472f",
   "metadata": {},
   "outputs": [
    {
     "name": "stdout",
     "output_type": "stream",
     "text": [
      "크롤링 키워드: 데이터분석\n",
      "크롤링 페이지 수: 3\n",
      "과기정통부, '과학기술 통계 데이터 분석 서비스' 시작\n",
      "과학기술 통계 데이터, 더 자유롭게 활용한다\n",
      "성동구 데이터 분석으로 1인가구 건강 지킨다\n",
      "강기정 광주시장 \"데이터 분석 기반, 스토리 있는 축제 만들어야\"\n",
      "공인회계사회 '재무빅데이터분석 자격시험' 신설\n",
      "강기정 \"데이터 분석에 기반한 스토리 있는 축제 만들어야\"\n",
      "국내 블록체인 데이터 분석기업 크립토퀀트, 美 CME에 데이터 공급\n",
      "과기정통부 \"과학기술 통계 데이터 활용 확대\"\n",
      "한공회, `재무빅데이터분석사 자격시험` 국내 최초 신설\n",
      "강기정 광주광역시장 “데이터 분석에 기반한 스토리 있는 축제 만들어야”\n",
      "정부, 과학기술 미공개 통계데이터 분석 서비스 개시\n",
      "과기정통부, '과학기술 통계 데이터 분석 서비스' 시작\n",
      "의료 단체의 데이터 분석 도구 통해 300만 정보 유출돼\n",
      "“광주 관광, 데이터 분석 기반 수용성 갖춰야” < 시민자치 < 뉴스 ...\n",
      "강기정 시장 “데이터 분석에 기반한 스토리 있는 축제 만들어야”\n",
      "엔키노, 오토 머신러닝 솔루션 'AISO Data Analysis'으로 머신 ...\n",
      "과기정통부 “과학기술 통계 데이터 활용 확대” – Sciencetimes\n",
      "효성인포메이션시스템, 데이터 분석 및 엔터프라이즈 AI 혁신 ...\n",
      "2022년 축산데이터 분석·ICT 활용 아이디어 경진대회 열린다\n",
      "행안부·디지털플랫폼정부위, '2022 데이터 분석활용 공모전'개최 ...\n",
      "도로교통공단, 데이터 분석·활용 경진대회 개최\n",
      "한공회, '재무빅데이터분석사 자격시험' 국내 최초 신설\n",
      "엔키노, 오토 머신러닝 솔루션 'AISO Data Analysis'으로 머신 ...\n",
      "TIPA, K-인공지능 제조데이터 분석 경진대회 개최\n",
      "엔키노, 오토 머신러닝 솔루션 'AISO Data Analysis'으로 머신 ...\n",
      "[특허뉴스] [포커스] 윕스, 국내 최초 AI 특허·기술 자동분류 ...\n",
      "인라이플 모비튠, 올해 패션 분야 빅데이터 분석 결과...TOP ...\n",
      "마이크로스트레티지 코리아, MicroWorld Seoul 2022 성황리 개최\n",
      "완도군, '빅 데이터 분석·활용' 관광 활성화 도모\n",
      "생물공학 상장기업 브랜드평판 10월 빅데이터 분석결과...1위 ...\n"
     ]
    }
   ],
   "source": [
    "search_word = input(\"크롤링 키워드: \")\n",
    "page = int(input(\"크롤링 페이지 수: \"))\n",
    "\n",
    "url = 'https://www.google.com/search?q={}&tbm=nws&ei=U7RYY-DXLYfo-QaO7IXADw&start={}&sa=N&ved=2ahUKEwigzcushP36AhUHdN4KHQ52AfgQ8tMDegQIARAE&biw=820&bih=691&dpr=1.25'\n",
    "\n",
    "for i in range(0, page*10, 10):\n",
    "    final_url = url.format(search_word, i)\n",
    "    browser.get(final_url)\n",
    "    \n",
    "    titles = browser.find_elements(By.CLASS_NAME, 'mCBkyc')\n",
    "    \n",
    "    for title in titles:\n",
    "        print(title.text)"
   ]
  },
  {
   "cell_type": "markdown",
   "id": "0b7e8a3c",
   "metadata": {},
   "source": [
    "### 방법 1. 사람이 하는 것처럼 time.sleep 줘야 함\n",
    "   - 5초 정도는 줌"
   ]
  },
  {
   "cell_type": "code",
   "execution_count": 47,
   "id": "3048acdd",
   "metadata": {},
   "outputs": [
    {
     "name": "stdout",
     "output_type": "stream",
     "text": [
      "크롤링 키워드: ㄸㄷ\n",
      "크롤링 페이지 수: 1\n",
      "타겟 2번째 매장 오픈…버몬트·올림픽 교차로에\n",
      "데일리벳\n",
      "[N잡_앱테크] GS25 편스토랑, 27일 OK캐쉬백 오퀴즈 정답\n",
      "'연봉킹' 장현국 위메이드 대표, 마냥 웃지 못하는 이유는?\n",
      "[인터뷰] 2017년 입법고시 재경직 최고득점 권혁만씨\n",
      "\"생일선물로 5천원짜리 틴트 사온 군인 남친, 정뚝떨이에요\"\n",
      "[오버워치]파라 코스프레-오즈짱 | 웹진 인벤\n"
     ]
    }
   ],
   "source": [
    "import time\n",
    "\n",
    "search_word = input(\"크롤링 키워드: \")\n",
    "page = int(input(\"크롤링 페이지 수: \"))\n",
    "\n",
    "url = 'https://www.google.com/search?q={}&tbm=nws&ei=U7RYY-DXLYfo-QaO7IXADw&start={}&sa=N&ved=2ahUKEwigzcushP36AhUHdN4KHQ52AfgQ8tMDegQIARAE&biw=820&bih=691&dpr=1.25'\n",
    "\n",
    "for i in range(0, page*10, 10):\n",
    "    final_url = url.format(search_word, i)\n",
    "    \n",
    "    browser.get(final_url)\n",
    "    time.sleep(3)\n",
    "    \n",
    "    titles = browser.find_elements(By.CLASS_NAME, 'mCBkyc')\n",
    "    \n",
    "    for title in titles:\n",
    "        print(title.text)"
   ]
  },
  {
   "cell_type": "markdown",
   "id": "ef2c7c7a",
   "metadata": {},
   "source": [
    "### 방법 2. 사이트 로딩이 느린 경우 \n",
    "- 반복문 None에서 돌리면 터짐"
   ]
  },
  {
   "cell_type": "code",
   "execution_count": 48,
   "id": "2a1f3b27",
   "metadata": {},
   "outputs": [
    {
     "ename": "TypeError",
     "evalue": "'NoneType' object is not iterable",
     "output_type": "error",
     "traceback": [
      "\u001b[1;31m---------------------------------------------------------------------------\u001b[0m",
      "\u001b[1;31mTypeError\u001b[0m                                 Traceback (most recent call last)",
      "Input \u001b[1;32mIn [48]\u001b[0m, in \u001b[0;36m<cell line: 1>\u001b[1;34m()\u001b[0m\n\u001b[1;32m----> 1\u001b[0m \u001b[38;5;28;01mfor\u001b[39;00m i \u001b[38;5;129;01min\u001b[39;00m \u001b[38;5;28;01mNone\u001b[39;00m:\n\u001b[0;32m      2\u001b[0m     \u001b[38;5;28mprint\u001b[39m(i)\n",
      "\u001b[1;31mTypeError\u001b[0m: 'NoneType' object is not iterable"
     ]
    }
   ],
   "source": [
    "for i in None:\n",
    "    print(i)"
   ]
  },
  {
   "cell_type": "code",
   "execution_count": 54,
   "id": "52250be5",
   "metadata": {},
   "outputs": [],
   "source": [
    "browser.implicitly_wait(5)  # 5초를 기다려봐. 안되면 오류를 뱉어내고, 만역에 그전에 로딩되면 그대로 진행해. "
   ]
  },
  {
   "cell_type": "code",
   "execution_count": 56,
   "id": "7e5100cb",
   "metadata": {},
   "outputs": [
    {
     "name": "stdout",
     "output_type": "stream",
     "text": [
      "크롤링 키워드: 쇼핑\n",
      "크롤링 페이지 수: 2\n",
      "'1년간 노쇼핑' 치솟는 물가에 미니멀 라이프\n",
      "하루틴, '할로윈 파티 쇼핑 라이브' 리포좀 비타민C 라방 진행\n",
      "'쇼핑앱으로 소비 패턴 관리'…자산관리 도우미된 e커머스 - 서울경제\n",
      "티몬, 연간 최대 쇼핑 행사 '몬스터절' 연다 - 머니S\n",
      "\"11월은 쇼핑의 달\" 이커머스 업계, 최대 행사 잇따라\n",
      "\"쇼핑 큰손 다 산다라\"…산다라박, 잘 된 메이크업은 핑계일뿐→폭풍 쇼핑으로 마무리 - 조선일보\n",
      "롯데쇼핑, 고객과 함께하는 지구 살리기 ‘리어스’ 론칭\n",
      "1천개 한정판 모나미 다이어리…네이버 쇼핑라이브 출시\n",
      "\"무아인과 함께 쇼핑을\"…메타, '밋 메타(Meet Meta) 팝업' 오픈\n",
      "박나래, \"베이글에만 20만 원 가까이 쓰다니\"...베이글 성지에서 원없이 빵쇼핑('줄 서는 식당')\n",
      "알리익스프레스, 글로벌 쇼핑 페스티벌 11월 1일부터 한다\n",
      "알리익스프레스, ‘11.11 글로벌 쇼핑 페스티벌’ 개최\n",
      "비건 가방·방화복 백팩…'윤리적 패션' 쇼핑하세요\n",
      "온라인쇼핑 마트는 '고기', 슈퍼마켓은 '찬거리' 많이 샀다\n",
      "11월 온라인 쇼핑 대목 앞두고 유통업계 할인경쟁 개막(종합)\n",
      "알리바바그룹, 2022년 11.11 글로벌 쇼핑 페스티벌 개막\n",
      "\"11월은 쇼핑의 달\" 이커머스 업계, 최대 행사 잇따라\n",
      "2022 코세페, 내달 1일 개막…'모두의 쇼핑 축제' 열린다\n",
      "2022년 11.11 글로벌 쇼핑 페스티벌 콘텐츠 특집 페이지 ...\n",
      "LG CNS, KDX에 쇼핑 데이터 공유\n"
     ]
    }
   ],
   "source": [
    "import time\n",
    "\n",
    "search_word = input(\"크롤링 키워드: \")\n",
    "page = int(input(\"크롤링 페이지 수: \"))\n",
    "\n",
    "url = 'https://www.google.com/search?q={}&tbm=nws&ei=U7RYY-DXLYfo-QaO7IXADw&start={}&sa=N&ved=2ahUKEwigzcushP36AhUHdN4KHQ52AfgQ8tMDegQIARAE&biw=820&bih=691&dpr=1.25'\n",
    "\n",
    "for i in range(0, page*10, 10):\n",
    "    final_url = url.format(search_word, i)\n",
    "    \n",
    "    browser.get(final_url)\n",
    "    time.sleep(3) # 보통 얘 먼저 주고\n",
    "    browser.implicitly_wait(5)  # 얘는 기회를 주는 느낌 \n",
    "    \n",
    "    titles = browser.find_elements(By.CLASS_NAME, 'mCBkyc')\n",
    "    \n",
    "    for title in titles:\n",
    "        print(title.text)"
   ]
  },
  {
   "cell_type": "code",
   "execution_count": null,
   "id": "abe67ec0",
   "metadata": {},
   "outputs": [],
   "source": []
  },
  {
   "cell_type": "markdown",
   "id": "d146e970",
   "metadata": {},
   "source": [
    "## 시간 남으면) 배달의 민족 play store review 크롤링"
   ]
  },
  {
   "cell_type": "code",
   "execution_count": 60,
   "id": "ef7d5230",
   "metadata": {},
   "outputs": [],
   "source": [
    "browser.get(\"https://play.google.com/store/apps/details?id=com.sampleapp\")"
   ]
  },
  {
   "cell_type": "code",
   "execution_count": 62,
   "id": "4ab23a28",
   "metadata": {},
   "outputs": [],
   "source": [
    "browser.find_element(By.XPATH, '//*[@id=\"ow78\"]/section/div/div/div[5]/div/div/button/span').click()"
   ]
  },
  {
   "cell_type": "code",
   "execution_count": null,
   "id": "cfdd7772",
   "metadata": {},
   "outputs": [],
   "source": [
    "RHo1pe"
   ]
  },
  {
   "cell_type": "code",
   "execution_count": null,
   "id": "5a4c459e",
   "metadata": {},
   "outputs": [],
   "source": []
  },
  {
   "cell_type": "code",
   "execution_count": null,
   "id": "2bb52c97",
   "metadata": {},
   "outputs": [],
   "source": []
  }
 ],
 "metadata": {
  "kernelspec": {
   "display_name": "Python 3 (ipykernel)",
   "language": "python",
   "name": "python3"
  },
  "language_info": {
   "codemirror_mode": {
    "name": "ipython",
    "version": 3
   },
   "file_extension": ".py",
   "mimetype": "text/x-python",
   "name": "python",
   "nbconvert_exporter": "python",
   "pygments_lexer": "ipython3",
   "version": "3.9.12"
  }
 },
 "nbformat": 4,
 "nbformat_minor": 5
}

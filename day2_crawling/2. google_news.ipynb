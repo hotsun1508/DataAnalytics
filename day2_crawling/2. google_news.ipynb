{
 "cells": [
  {
   "cell_type": "markdown",
   "id": "d74c39eb",
   "metadata": {},
   "source": [
    "# 구글 뉴스 크롤링 (~page 10)"
   ]
  },
  {
   "cell_type": "code",
   "execution_count": 1,
   "id": "4670c17f",
   "metadata": {},
   "outputs": [],
   "source": [
    "from selenium import webdriver\n",
    "from selenium.webdriver.common.by import By"
   ]
  },
  {
   "cell_type": "code",
   "execution_count": 2,
   "id": "490623ee",
   "metadata": {},
   "outputs": [
    {
     "name": "stderr",
     "output_type": "stream",
     "text": [
      "c:\\Users\\sunah\\anaconda3\\envs\\snake\\lib\\site-packages\\ipykernel_launcher.py:3: DeprecationWarning: executable_path has been deprecated, please pass in a Service object\n",
      "  This is separate from the ipykernel package so we can avoid doing imports until\n"
     ]
    }
   ],
   "source": [
    "path = \"\\Users\\sunah\\OneDrive\\바탕 화면\\SUN\\러닝스푼즈\\DataAnalytics\\day2_crawling\\chromedriver.exe\"\n",
    "\n",
    "browser = webdriver.Chrome(path)  # \"./chromedriver.exe\""
   ]
  },
  {
   "cell_type": "code",
   "execution_count": 3,
   "id": "ccc5a2b2",
   "metadata": {},
   "outputs": [],
   "source": [
    "search_word = input(\"크롤링 하고자 하는 단어 입력하세요.\")\n",
    "page = input(\"크롤링 하고자 하는 페이지 수.\")\n",
    "\n",
    "browser.get(\"https://www.google.com/search?q={}&tbm=nws&ei=k6lYY82hJIG-hwO6q6rwCg&start={}&sa=N&ved=2ahUKEwiNt6GM-vz6AhUB32EKHbqVCq44ChDy0wN6BAgBEAQ&biw=1036&bih=666&dpr=1.25\".format(search_word, page))"
   ]
  },
  {
   "cell_type": "code",
   "execution_count": 4,
   "id": "f2fe46d7",
   "metadata": {},
   "outputs": [
    {
     "data": {
      "text/plain": [
       "'CJ AI센터·카이스트, 뇌 모방 인공지능 공동연구 업무협약'"
      ]
     },
     "execution_count": 4,
     "metadata": {},
     "output_type": "execute_result"
    }
   ],
   "source": [
    "browser.find_element(By.CLASS_NAME, 'mCBkyc.y355M.ynAwRc.MBeuO.nDgy9d').text"
   ]
  },
  {
   "cell_type": "code",
   "execution_count": 6,
   "id": "eae77999",
   "metadata": {},
   "outputs": [
    {
     "name": "stdout",
     "output_type": "stream",
     "text": [
      "['CJ AI센터·카이스트, 뇌 모방 인공지능 공동연구 업무협약', \"뇌 모방 인공지능?···KAIST·CJ, R&D 지향 '맞손'\", '[특허법인 BLT] 인공지능을 활용한 신약 개발의 발명자는 누구 ...', '네이버, 인공지능으로 웹소설 새 판도 연다', '디지털 태생을 위한 소프트웨어·인공지능 교육에 학생·학부모 ...', \"인공지능 음원 창작 스타트업 '포자랩스', CJ ENM으로부터 투자 ...\", \"AI 음성인증·음성인식 기업 '솔루게이트', 인공지능 스피커 ...\", 'ETRI 송순용 박사, 인공지능 기반 액션브레인 행동지능·로봇 ...', '국립어린이과학관 「2022년 나도 인공지능 개발자 경진대회 ...', '업스테이지, 인공지능 유니콘으로 함께 도약할 새로운 스타를 ...']\n"
     ]
    }
   ],
   "source": [
    "titles = browser.find_elements(By.CLASS_NAME, 'mCBkyc.y355M.ynAwRc.MBeuO.nDgy9d')\n",
    "\n",
    "lists = []\n",
    "for i in titles:\n",
    "    lists.append(i.text)\n",
    "print(lists)"
   ]
  },
  {
   "cell_type": "code",
   "execution_count": 22,
   "id": "3c9f2ffa",
   "metadata": {},
   "outputs": [
    {
     "data": {
      "text/plain": [
       "[<selenium.webdriver.remote.webelement.WebElement (session=\"9bd6a83a6279e8ccace234cfd0d1523b\", element=\"334857a1-6201-4e2b-8969-20845eb16933\")>,\n",
       " <selenium.webdriver.remote.webelement.WebElement (session=\"9bd6a83a6279e8ccace234cfd0d1523b\", element=\"507c0a82-bd84-4d52-ac24-ab875cdb2316\")>,\n",
       " <selenium.webdriver.remote.webelement.WebElement (session=\"9bd6a83a6279e8ccace234cfd0d1523b\", element=\"aa67d67a-6b68-45ab-a9de-8a4a4a6aa2ae\")>,\n",
       " <selenium.webdriver.remote.webelement.WebElement (session=\"9bd6a83a6279e8ccace234cfd0d1523b\", element=\"143992a0-6b6d-4093-a443-cd16f1aa73ff\")>,\n",
       " <selenium.webdriver.remote.webelement.WebElement (session=\"9bd6a83a6279e8ccace234cfd0d1523b\", element=\"96ac7e02-3dab-4a71-b79e-c1921de08a34\")>,\n",
       " <selenium.webdriver.remote.webelement.WebElement (session=\"9bd6a83a6279e8ccace234cfd0d1523b\", element=\"90dc3bfd-fcd2-4679-a529-aef13be02bb7\")>,\n",
       " <selenium.webdriver.remote.webelement.WebElement (session=\"9bd6a83a6279e8ccace234cfd0d1523b\", element=\"2aa32904-a3a0-436c-8d62-85d3129aa318\")>,\n",
       " <selenium.webdriver.remote.webelement.WebElement (session=\"9bd6a83a6279e8ccace234cfd0d1523b\", element=\"79dc4817-388c-42d4-a3db-d5871703630b\")>,\n",
       " <selenium.webdriver.remote.webelement.WebElement (session=\"9bd6a83a6279e8ccace234cfd0d1523b\", element=\"2ae809c5-721a-4565-aa66-622bc63e2b59\")>,\n",
       " <selenium.webdriver.remote.webelement.WebElement (session=\"9bd6a83a6279e8ccace234cfd0d1523b\", element=\"7a9799cf-eccc-45fc-9143-f8e748cbe0c3\")>]"
      ]
     },
     "execution_count": 22,
     "metadata": {},
     "output_type": "execute_result"
    }
   ],
   "source": [
    "titles = browser.find_elements(By.CLASS_NAME, 'mCBkyc.y355M.ynAwRc.MBeuO.nDgy9d')\n",
    "titles"
   ]
  },
  {
   "cell_type": "code",
   "execution_count": 8,
   "id": "bfd94704",
   "metadata": {},
   "outputs": [],
   "source": [
    "# (2) Keys 라이브러리 사용\n",
    "elem = browser.find_element(By.CLASS_NAME, 'WlydOe') # 요소 지정\n",
    "\n",
    "from selenium.webdriver.common.keys import Keys\n",
    "elem.send_keys(\"검색원하는 단어\")\n",
    "elem.send_keys(Keys.ENTER)"
   ]
  },
  {
   "cell_type": "code",
   "execution_count": 12,
   "id": "b7d1012b",
   "metadata": {},
   "outputs": [],
   "source": [
    "browser.find_element(By.CLASS_NAME, 'gLFyf.gsfi').clear()\n",
    "browser.find_element(By.CLASS_NAME, 'gLFyf.gsfi').send_keys(\"데이터분석\")\n",
    "browser.find_element(By.CLASS_NAME, 'gLFyf.gsfi').send_keys(Keys.ENTER)"
   ]
  },
  {
   "cell_type": "code",
   "execution_count": 13,
   "id": "d9b0a2ce",
   "metadata": {},
   "outputs": [],
   "source": [
    "search_word = \"데이터분석\"\n",
    "browser.get(\"https://www.google.com/search?q={}&tbm=nws&ei=k6lYY82hJIG-hwO6q6rwCg&start={}sa=N&ved=2ahUKEwiNt6GM-vz6AhUB32EKHbqVCq44ChDy0wN6BAgBEAQ&biw=1036&bih=666&dpr=1.25\".format(search_word, page))\n"
   ]
  },
  {
   "cell_type": "code",
   "execution_count": 14,
   "id": "74a4df36",
   "metadata": {},
   "outputs": [
    {
     "data": {
      "text/plain": [
       "<selenium.webdriver.remote.webelement.WebElement (session=\"33cea99e81a22c9a05ed509c420ce373\", element=\"52ee57d4-6cd9-4cd4-95dc-2e6222ffd249\")>"
      ]
     },
     "execution_count": 14,
     "metadata": {},
     "output_type": "execute_result"
    }
   ],
   "source": [
    "titles[0]"
   ]
  },
  {
   "cell_type": "code",
   "execution_count": 15,
   "id": "802b4204",
   "metadata": {
    "scrolled": true
   },
   "outputs": [
    {
     "name": "stdout",
     "output_type": "stream",
     "text": [
      "<selenium.webdriver.remote.webelement.WebElement (session=\"33cea99e81a22c9a05ed509c420ce373\", element=\"52ee57d4-6cd9-4cd4-95dc-2e6222ffd249\")>\n",
      "<selenium.webdriver.remote.webelement.WebElement (session=\"33cea99e81a22c9a05ed509c420ce373\", element=\"cff7b2db-9248-4fef-a6b3-4f49c124ab6f\")>\n",
      "<selenium.webdriver.remote.webelement.WebElement (session=\"33cea99e81a22c9a05ed509c420ce373\", element=\"8d5f0c33-6ec6-4d78-b7e5-404c14469fe1\")>\n",
      "<selenium.webdriver.remote.webelement.WebElement (session=\"33cea99e81a22c9a05ed509c420ce373\", element=\"48664b4b-30ff-42d4-b2fb-1b6408a5c8e5\")>\n",
      "<selenium.webdriver.remote.webelement.WebElement (session=\"33cea99e81a22c9a05ed509c420ce373\", element=\"35d48ed4-f278-4f4b-b5da-b49409cf0d17\")>\n",
      "<selenium.webdriver.remote.webelement.WebElement (session=\"33cea99e81a22c9a05ed509c420ce373\", element=\"d249cff8-1e5c-4ed6-b055-2966ccdd5362\")>\n",
      "<selenium.webdriver.remote.webelement.WebElement (session=\"33cea99e81a22c9a05ed509c420ce373\", element=\"447908e7-88dc-4c1e-93c9-b10e3e5b820b\")>\n",
      "<selenium.webdriver.remote.webelement.WebElement (session=\"33cea99e81a22c9a05ed509c420ce373\", element=\"4bbc0822-2070-4147-af10-3e5705a415ac\")>\n",
      "<selenium.webdriver.remote.webelement.WebElement (session=\"33cea99e81a22c9a05ed509c420ce373\", element=\"0662683d-0dcb-48f1-b014-9af34f5c362c\")>\n",
      "<selenium.webdriver.remote.webelement.WebElement (session=\"33cea99e81a22c9a05ed509c420ce373\", element=\"4b9f9464-f369-45a7-aa5b-ee9ce70622ad\")>\n"
     ]
    }
   ],
   "source": [
    "for t in titles:\n",
    "    print(t)"
   ]
  },
  {
   "cell_type": "code",
   "execution_count": 16,
   "id": "7b672af0",
   "metadata": {
    "scrolled": true
   },
   "outputs": [
    {
     "ename": "StaleElementReferenceException",
     "evalue": "Message: stale element reference: element is not attached to the page document\n  (Session info: chrome=107.0.5304.88)\nStacktrace:\nBacktrace:\n\tOrdinal0 [0x00891ED3+2236115]\n\tOrdinal0 [0x008292F1+1807089]\n\tOrdinal0 [0x007366FD+812797]\n\tOrdinal0 [0x007392B4+823988]\n\tOrdinal0 [0x00739165+823653]\n\tOrdinal0 [0x00739400+824320]\n\tOrdinal0 [0x00760FD7+987095]\n\tOrdinal0 [0x00781A8C+1120908]\n\tOrdinal0 [0x0075BD84+966020]\n\tOrdinal0 [0x00781CA4+1121444]\n\tOrdinal0 [0x007959E2+1202658]\n\tOrdinal0 [0x007818A6+1120422]\n\tOrdinal0 [0x0075A73D+960317]\n\tOrdinal0 [0x0075B71F+964383]\n\tGetHandleVerifier [0x00B3E7E2+2743074]\n\tGetHandleVerifier [0x00B308D4+2685972]\n\tGetHandleVerifier [0x00922BAA+532202]\n\tGetHandleVerifier [0x00921990+527568]\n\tOrdinal0 [0x0083080C+1837068]\n\tOrdinal0 [0x00834CD8+1854680]\n\tOrdinal0 [0x00834DC5+1854917]\n\tOrdinal0 [0x0083ED64+1895780]\n\tBaseThreadInitThunk [0x76A26739+25]\n\tRtlGetFullPathName_UEx [0x77138FD2+1218]\n\tRtlGetFullPathName_UEx [0x77138F9D+1165]\n",
     "output_type": "error",
     "traceback": [
      "\u001b[1;31m---------------------------------------------------------------------------\u001b[0m",
      "\u001b[1;31mStaleElementReferenceException\u001b[0m            Traceback (most recent call last)",
      "\u001b[1;32m~\\AppData\\Local\\Temp\\ipykernel_40616\\4281067940.py\u001b[0m in \u001b[0;36m<module>\u001b[1;34m\u001b[0m\n\u001b[0;32m      6\u001b[0m     \u001b[0mbrowser\u001b[0m\u001b[1;33m.\u001b[0m\u001b[0mget\u001b[0m\u001b[1;33m(\u001b[0m\u001b[1;34m\"https://www.google.com/search?q={}&tbm=nws&ei=k6lYY82hJIG-hwO6q6rwCg&start={}sa=N&ved=2ahUKEwiNt6GM-vz6AhUB32EKHbqVCq44ChDy0wN6BAgBEAQ&biw=1036&bih=666&dpr=1.25\"\u001b[0m\u001b[1;33m.\u001b[0m\u001b[0mformat\u001b[0m\u001b[1;33m(\u001b[0m\u001b[0msearch_word\u001b[0m\u001b[1;33m,\u001b[0m \u001b[0mpage\u001b[0m\u001b[1;33m)\u001b[0m\u001b[1;33m)\u001b[0m\u001b[1;33m\u001b[0m\u001b[1;33m\u001b[0m\u001b[0m\n\u001b[0;32m      7\u001b[0m     \u001b[1;32mfor\u001b[0m \u001b[0mt\u001b[0m \u001b[1;32min\u001b[0m \u001b[0mtitles\u001b[0m\u001b[1;33m:\u001b[0m\u001b[1;33m\u001b[0m\u001b[1;33m\u001b[0m\u001b[0m\n\u001b[1;32m----> 8\u001b[1;33m         \u001b[0mtitle\u001b[0m\u001b[1;33m.\u001b[0m\u001b[0mappend\u001b[0m\u001b[1;33m(\u001b[0m\u001b[0mt\u001b[0m\u001b[1;33m.\u001b[0m\u001b[0mtext\u001b[0m\u001b[1;33m)\u001b[0m\u001b[1;33m\u001b[0m\u001b[1;33m\u001b[0m\u001b[0m\n\u001b[0m\u001b[0;32m      9\u001b[0m \u001b[1;33m\u001b[0m\u001b[0m\n\u001b[0;32m     10\u001b[0m \u001b[0mtitle\u001b[0m\u001b[1;33m\u001b[0m\u001b[1;33m\u001b[0m\u001b[0m\n",
      "\u001b[1;32mc:\\Users\\sunah\\anaconda3\\envs\\snake\\lib\\site-packages\\selenium\\webdriver\\remote\\webelement.py\u001b[0m in \u001b[0;36mtext\u001b[1;34m(self)\u001b[0m\n\u001b[0;32m     82\u001b[0m     \u001b[1;32mdef\u001b[0m \u001b[0mtext\u001b[0m\u001b[1;33m(\u001b[0m\u001b[0mself\u001b[0m\u001b[1;33m)\u001b[0m \u001b[1;33m->\u001b[0m \u001b[0mstr\u001b[0m\u001b[1;33m:\u001b[0m\u001b[1;33m\u001b[0m\u001b[1;33m\u001b[0m\u001b[0m\n\u001b[0;32m     83\u001b[0m         \u001b[1;34m\"\"\"The text of the element.\"\"\"\u001b[0m\u001b[1;33m\u001b[0m\u001b[1;33m\u001b[0m\u001b[0m\n\u001b[1;32m---> 84\u001b[1;33m         \u001b[1;32mreturn\u001b[0m \u001b[0mself\u001b[0m\u001b[1;33m.\u001b[0m\u001b[0m_execute\u001b[0m\u001b[1;33m(\u001b[0m\u001b[0mCommand\u001b[0m\u001b[1;33m.\u001b[0m\u001b[0mGET_ELEMENT_TEXT\u001b[0m\u001b[1;33m)\u001b[0m\u001b[1;33m[\u001b[0m\u001b[1;34m'value'\u001b[0m\u001b[1;33m]\u001b[0m\u001b[1;33m\u001b[0m\u001b[1;33m\u001b[0m\u001b[0m\n\u001b[0m\u001b[0;32m     85\u001b[0m \u001b[1;33m\u001b[0m\u001b[0m\n\u001b[0;32m     86\u001b[0m     \u001b[1;32mdef\u001b[0m \u001b[0mclick\u001b[0m\u001b[1;33m(\u001b[0m\u001b[0mself\u001b[0m\u001b[1;33m)\u001b[0m \u001b[1;33m->\u001b[0m \u001b[1;32mNone\u001b[0m\u001b[1;33m:\u001b[0m\u001b[1;33m\u001b[0m\u001b[1;33m\u001b[0m\u001b[0m\n",
      "\u001b[1;32mc:\\Users\\sunah\\anaconda3\\envs\\snake\\lib\\site-packages\\selenium\\webdriver\\remote\\webelement.py\u001b[0m in \u001b[0;36m_execute\u001b[1;34m(self, command, params)\u001b[0m\n\u001b[0;32m    394\u001b[0m             \u001b[0mparams\u001b[0m \u001b[1;33m=\u001b[0m \u001b[1;33m{\u001b[0m\u001b[1;33m}\u001b[0m\u001b[1;33m\u001b[0m\u001b[1;33m\u001b[0m\u001b[0m\n\u001b[0;32m    395\u001b[0m         \u001b[0mparams\u001b[0m\u001b[1;33m[\u001b[0m\u001b[1;34m'id'\u001b[0m\u001b[1;33m]\u001b[0m \u001b[1;33m=\u001b[0m \u001b[0mself\u001b[0m\u001b[1;33m.\u001b[0m\u001b[0m_id\u001b[0m\u001b[1;33m\u001b[0m\u001b[1;33m\u001b[0m\u001b[0m\n\u001b[1;32m--> 396\u001b[1;33m         \u001b[1;32mreturn\u001b[0m \u001b[0mself\u001b[0m\u001b[1;33m.\u001b[0m\u001b[0m_parent\u001b[0m\u001b[1;33m.\u001b[0m\u001b[0mexecute\u001b[0m\u001b[1;33m(\u001b[0m\u001b[0mcommand\u001b[0m\u001b[1;33m,\u001b[0m \u001b[0mparams\u001b[0m\u001b[1;33m)\u001b[0m\u001b[1;33m\u001b[0m\u001b[1;33m\u001b[0m\u001b[0m\n\u001b[0m\u001b[0;32m    397\u001b[0m \u001b[1;33m\u001b[0m\u001b[0m\n\u001b[0;32m    398\u001b[0m     \u001b[1;32mdef\u001b[0m \u001b[0mfind_element\u001b[0m\u001b[1;33m(\u001b[0m\u001b[0mself\u001b[0m\u001b[1;33m,\u001b[0m \u001b[0mby\u001b[0m\u001b[1;33m=\u001b[0m\u001b[0mBy\u001b[0m\u001b[1;33m.\u001b[0m\u001b[0mID\u001b[0m\u001b[1;33m,\u001b[0m \u001b[0mvalue\u001b[0m\u001b[1;33m=\u001b[0m\u001b[1;32mNone\u001b[0m\u001b[1;33m)\u001b[0m \u001b[1;33m->\u001b[0m \u001b[0mWebElement\u001b[0m\u001b[1;33m:\u001b[0m\u001b[1;33m\u001b[0m\u001b[1;33m\u001b[0m\u001b[0m\n",
      "\u001b[1;32mc:\\Users\\sunah\\anaconda3\\envs\\snake\\lib\\site-packages\\selenium\\webdriver\\remote\\webdriver.py\u001b[0m in \u001b[0;36mexecute\u001b[1;34m(self, driver_command, params)\u001b[0m\n\u001b[0;32m    427\u001b[0m         \u001b[0mresponse\u001b[0m \u001b[1;33m=\u001b[0m \u001b[0mself\u001b[0m\u001b[1;33m.\u001b[0m\u001b[0mcommand_executor\u001b[0m\u001b[1;33m.\u001b[0m\u001b[0mexecute\u001b[0m\u001b[1;33m(\u001b[0m\u001b[0mdriver_command\u001b[0m\u001b[1;33m,\u001b[0m \u001b[0mparams\u001b[0m\u001b[1;33m)\u001b[0m\u001b[1;33m\u001b[0m\u001b[1;33m\u001b[0m\u001b[0m\n\u001b[0;32m    428\u001b[0m         \u001b[1;32mif\u001b[0m \u001b[0mresponse\u001b[0m\u001b[1;33m:\u001b[0m\u001b[1;33m\u001b[0m\u001b[1;33m\u001b[0m\u001b[0m\n\u001b[1;32m--> 429\u001b[1;33m             \u001b[0mself\u001b[0m\u001b[1;33m.\u001b[0m\u001b[0merror_handler\u001b[0m\u001b[1;33m.\u001b[0m\u001b[0mcheck_response\u001b[0m\u001b[1;33m(\u001b[0m\u001b[0mresponse\u001b[0m\u001b[1;33m)\u001b[0m\u001b[1;33m\u001b[0m\u001b[1;33m\u001b[0m\u001b[0m\n\u001b[0m\u001b[0;32m    430\u001b[0m             response['value'] = self._unwrap_value(\n\u001b[0;32m    431\u001b[0m                 response.get('value', None))\n",
      "\u001b[1;32mc:\\Users\\sunah\\anaconda3\\envs\\snake\\lib\\site-packages\\selenium\\webdriver\\remote\\errorhandler.py\u001b[0m in \u001b[0;36mcheck_response\u001b[1;34m(self, response)\u001b[0m\n\u001b[0;32m    241\u001b[0m                 \u001b[0malert_text\u001b[0m \u001b[1;33m=\u001b[0m \u001b[0mvalue\u001b[0m\u001b[1;33m[\u001b[0m\u001b[1;34m'alert'\u001b[0m\u001b[1;33m]\u001b[0m\u001b[1;33m.\u001b[0m\u001b[0mget\u001b[0m\u001b[1;33m(\u001b[0m\u001b[1;34m'text'\u001b[0m\u001b[1;33m)\u001b[0m\u001b[1;33m\u001b[0m\u001b[1;33m\u001b[0m\u001b[0m\n\u001b[0;32m    242\u001b[0m             \u001b[1;32mraise\u001b[0m \u001b[0mexception_class\u001b[0m\u001b[1;33m(\u001b[0m\u001b[0mmessage\u001b[0m\u001b[1;33m,\u001b[0m \u001b[0mscreen\u001b[0m\u001b[1;33m,\u001b[0m \u001b[0mstacktrace\u001b[0m\u001b[1;33m,\u001b[0m \u001b[0malert_text\u001b[0m\u001b[1;33m)\u001b[0m  \u001b[1;31m# type: ignore[call-arg]  # mypy is not smart enough here\u001b[0m\u001b[1;33m\u001b[0m\u001b[1;33m\u001b[0m\u001b[0m\n\u001b[1;32m--> 243\u001b[1;33m         \u001b[1;32mraise\u001b[0m \u001b[0mexception_class\u001b[0m\u001b[1;33m(\u001b[0m\u001b[0mmessage\u001b[0m\u001b[1;33m,\u001b[0m \u001b[0mscreen\u001b[0m\u001b[1;33m,\u001b[0m \u001b[0mstacktrace\u001b[0m\u001b[1;33m)\u001b[0m\u001b[1;33m\u001b[0m\u001b[1;33m\u001b[0m\u001b[0m\n\u001b[0m",
      "\u001b[1;31mStaleElementReferenceException\u001b[0m: Message: stale element reference: element is not attached to the page document\n  (Session info: chrome=107.0.5304.88)\nStacktrace:\nBacktrace:\n\tOrdinal0 [0x00891ED3+2236115]\n\tOrdinal0 [0x008292F1+1807089]\n\tOrdinal0 [0x007366FD+812797]\n\tOrdinal0 [0x007392B4+823988]\n\tOrdinal0 [0x00739165+823653]\n\tOrdinal0 [0x00739400+824320]\n\tOrdinal0 [0x00760FD7+987095]\n\tOrdinal0 [0x00781A8C+1120908]\n\tOrdinal0 [0x0075BD84+966020]\n\tOrdinal0 [0x00781CA4+1121444]\n\tOrdinal0 [0x007959E2+1202658]\n\tOrdinal0 [0x007818A6+1120422]\n\tOrdinal0 [0x0075A73D+960317]\n\tOrdinal0 [0x0075B71F+964383]\n\tGetHandleVerifier [0x00B3E7E2+2743074]\n\tGetHandleVerifier [0x00B308D4+2685972]\n\tGetHandleVerifier [0x00922BAA+532202]\n\tGetHandleVerifier [0x00921990+527568]\n\tOrdinal0 [0x0083080C+1837068]\n\tOrdinal0 [0x00834CD8+1854680]\n\tOrdinal0 [0x00834DC5+1854917]\n\tOrdinal0 [0x0083ED64+1895780]\n\tBaseThreadInitThunk [0x76A26739+25]\n\tRtlGetFullPathName_UEx [0x77138FD2+1218]\n\tRtlGetFullPathName_UEx [0x77138F9D+1165]\n"
     ]
    }
   ],
   "source": [
    "# titles = browser.find_elements(By.CLASS_NAME, 'mCBkyc.y355M.ynAwRc.MBeuO.nDgy9d')\n",
    "# search_word = \"데이터분석\"\n",
    "\n",
    "# title = []\n",
    "\n",
    "# for page in range(10):\n",
    "#     browser.get(\"https://www.google.com/search?q={}&tbm=nws&ei=k6lYY82hJIG-hwO6q6rwCg&start={}sa=N&ved=2ahUKEwiNt6GM-vz6AhUB32EKHbqVCq44ChDy0wN6BAgBEAQ&biw=1036&bih=666&dpr=1.25\".format(search_word, page))\n",
    "#     for t in titles:\n",
    "#         title.append(t.text)\n",
    "        \n",
    "# title"
   ]
  },
  {
   "cell_type": "code",
   "execution_count": null,
   "id": "11b513db",
   "metadata": {},
   "outputs": [],
   "source": []
  },
  {
   "cell_type": "markdown",
   "id": "0d08d9c0",
   "metadata": {},
   "source": [
    "## 다시해보자고 \n",
    "- 구글 뉴스 페이지 10까지 가져오는 것"
   ]
  },
  {
   "cell_type": "code",
   "execution_count": 17,
   "id": "39dd879b",
   "metadata": {
    "scrolled": true
   },
   "outputs": [
    {
     "name": "stdout",
     "output_type": "stream",
     "text": [
      "google.com/page=0\n",
      "google.com/page=10\n",
      "google.com/page=20\n",
      "google.com/page=30\n",
      "google.com/page=40\n",
      "google.com/page=50\n",
      "google.com/page=60\n",
      "google.com/page=70\n",
      "google.com/page=80\n",
      "google.com/page=90\n"
     ]
    }
   ],
   "source": [
    "page = int(input(\"page number: \"))\n",
    "for i in range(0, page*10, 10):\n",
    "    url = \"google.com/page={}\".format(i)\n",
    "    print(url)"
   ]
  },
  {
   "cell_type": "code",
   "execution_count": 19,
   "id": "0fa31d2c",
   "metadata": {},
   "outputs": [
    {
     "name": "stdout",
     "output_type": "stream",
     "text": [
      "0\n",
      "https://www.google.com/search?q=데이터분석&tbm=nws&ei=U7RYY-DXLYfo-QaO7IXADw&start=0&sa=N&ved=2ahUKEwigzcushP36AhUHdN4KHQ52AfgQ8tMDegQIARAE&biw=820&bih=691&dpr=1.25\n",
      "10\n",
      "https://www.google.com/search?q=데이터분석&tbm=nws&ei=U7RYY-DXLYfo-QaO7IXADw&start=10&sa=N&ved=2ahUKEwigzcushP36AhUHdN4KHQ52AfgQ8tMDegQIARAE&biw=820&bih=691&dpr=1.25\n",
      "20\n",
      "https://www.google.com/search?q=데이터분석&tbm=nws&ei=U7RYY-DXLYfo-QaO7IXADw&start=20&sa=N&ved=2ahUKEwigzcushP36AhUHdN4KHQ52AfgQ8tMDegQIARAE&biw=820&bih=691&dpr=1.25\n",
      "30\n",
      "https://www.google.com/search?q=데이터분석&tbm=nws&ei=U7RYY-DXLYfo-QaO7IXADw&start=30&sa=N&ved=2ahUKEwigzcushP36AhUHdN4KHQ52AfgQ8tMDegQIARAE&biw=820&bih=691&dpr=1.25\n",
      "40\n",
      "https://www.google.com/search?q=데이터분석&tbm=nws&ei=U7RYY-DXLYfo-QaO7IXADw&start=40&sa=N&ved=2ahUKEwigzcushP36AhUHdN4KHQ52AfgQ8tMDegQIARAE&biw=820&bih=691&dpr=1.25\n",
      "50\n",
      "https://www.google.com/search?q=데이터분석&tbm=nws&ei=U7RYY-DXLYfo-QaO7IXADw&start=50&sa=N&ved=2ahUKEwigzcushP36AhUHdN4KHQ52AfgQ8tMDegQIARAE&biw=820&bih=691&dpr=1.25\n",
      "60\n",
      "https://www.google.com/search?q=데이터분석&tbm=nws&ei=U7RYY-DXLYfo-QaO7IXADw&start=60&sa=N&ved=2ahUKEwigzcushP36AhUHdN4KHQ52AfgQ8tMDegQIARAE&biw=820&bih=691&dpr=1.25\n",
      "70\n",
      "https://www.google.com/search?q=데이터분석&tbm=nws&ei=U7RYY-DXLYfo-QaO7IXADw&start=70&sa=N&ved=2ahUKEwigzcushP36AhUHdN4KHQ52AfgQ8tMDegQIARAE&biw=820&bih=691&dpr=1.25\n",
      "80\n",
      "https://www.google.com/search?q=데이터분석&tbm=nws&ei=U7RYY-DXLYfo-QaO7IXADw&start=80&sa=N&ved=2ahUKEwigzcushP36AhUHdN4KHQ52AfgQ8tMDegQIARAE&biw=820&bih=691&dpr=1.25\n",
      "90\n",
      "https://www.google.com/search?q=데이터분석&tbm=nws&ei=U7RYY-DXLYfo-QaO7IXADw&start=90&sa=N&ved=2ahUKEwigzcushP36AhUHdN4KHQ52AfgQ8tMDegQIARAE&biw=820&bih=691&dpr=1.25\n"
     ]
    }
   ],
   "source": [
    "search_word = input(\"크롤링 키워드: \")\n",
    "page = int(input(\"크롤링 페이지 수: \"))\n",
    "\n",
    "url = 'https://www.google.com/search?q={}&tbm=nws&ei=U7RYY-DXLYfo-QaO7IXADw&start={}&sa=N&ved=2ahUKEwigzcushP36AhUHdN4KHQ52AfgQ8tMDegQIARAE&biw=820&bih=691&dpr=1.25'\n",
    "\n",
    "for i in range(0, page*10, 10):\n",
    "    print(i)\n",
    "    final_url = url.format(search_word, i)\n",
    "    print(final_url)"
   ]
  },
  {
   "cell_type": "code",
   "execution_count": 20,
   "id": "27606a15",
   "metadata": {},
   "outputs": [
    {
     "name": "stdout",
     "output_type": "stream",
     "text": [
      "[<selenium.webdriver.remote.webelement.WebElement (session=\"33cea99e81a22c9a05ed509c420ce373\", element=\"bc74bd2a-f35b-4cf6-8384-11f4c4ce20e8\")>]\n",
      "[<selenium.webdriver.remote.webelement.WebElement (session=\"33cea99e81a22c9a05ed509c420ce373\", element=\"bc74bd2a-f35b-4cf6-8384-11f4c4ce20e8\")>, <selenium.webdriver.remote.webelement.WebElement (session=\"33cea99e81a22c9a05ed509c420ce373\", element=\"95f0970a-0ccc-4ffb-92ca-6350b79cdb6b\")>]\n",
      "[<selenium.webdriver.remote.webelement.WebElement (session=\"33cea99e81a22c9a05ed509c420ce373\", element=\"bc74bd2a-f35b-4cf6-8384-11f4c4ce20e8\")>, <selenium.webdriver.remote.webelement.WebElement (session=\"33cea99e81a22c9a05ed509c420ce373\", element=\"95f0970a-0ccc-4ffb-92ca-6350b79cdb6b\")>, <selenium.webdriver.remote.webelement.WebElement (session=\"33cea99e81a22c9a05ed509c420ce373\", element=\"7448d9ac-4e54-4acb-bdb6-c2543284ff3f\")>]\n",
      "[<selenium.webdriver.remote.webelement.WebElement (session=\"33cea99e81a22c9a05ed509c420ce373\", element=\"bc74bd2a-f35b-4cf6-8384-11f4c4ce20e8\")>, <selenium.webdriver.remote.webelement.WebElement (session=\"33cea99e81a22c9a05ed509c420ce373\", element=\"95f0970a-0ccc-4ffb-92ca-6350b79cdb6b\")>, <selenium.webdriver.remote.webelement.WebElement (session=\"33cea99e81a22c9a05ed509c420ce373\", element=\"7448d9ac-4e54-4acb-bdb6-c2543284ff3f\")>, <selenium.webdriver.remote.webelement.WebElement (session=\"33cea99e81a22c9a05ed509c420ce373\", element=\"83c4481b-415a-4f13-9bf3-988845860e45\")>]\n",
      "[<selenium.webdriver.remote.webelement.WebElement (session=\"33cea99e81a22c9a05ed509c420ce373\", element=\"bc74bd2a-f35b-4cf6-8384-11f4c4ce20e8\")>, <selenium.webdriver.remote.webelement.WebElement (session=\"33cea99e81a22c9a05ed509c420ce373\", element=\"95f0970a-0ccc-4ffb-92ca-6350b79cdb6b\")>, <selenium.webdriver.remote.webelement.WebElement (session=\"33cea99e81a22c9a05ed509c420ce373\", element=\"7448d9ac-4e54-4acb-bdb6-c2543284ff3f\")>, <selenium.webdriver.remote.webelement.WebElement (session=\"33cea99e81a22c9a05ed509c420ce373\", element=\"83c4481b-415a-4f13-9bf3-988845860e45\")>, <selenium.webdriver.remote.webelement.WebElement (session=\"33cea99e81a22c9a05ed509c420ce373\", element=\"bd6abc76-242e-4e32-a1c5-1242daabfc11\")>]\n",
      "[<selenium.webdriver.remote.webelement.WebElement (session=\"33cea99e81a22c9a05ed509c420ce373\", element=\"bc74bd2a-f35b-4cf6-8384-11f4c4ce20e8\")>, <selenium.webdriver.remote.webelement.WebElement (session=\"33cea99e81a22c9a05ed509c420ce373\", element=\"95f0970a-0ccc-4ffb-92ca-6350b79cdb6b\")>, <selenium.webdriver.remote.webelement.WebElement (session=\"33cea99e81a22c9a05ed509c420ce373\", element=\"7448d9ac-4e54-4acb-bdb6-c2543284ff3f\")>, <selenium.webdriver.remote.webelement.WebElement (session=\"33cea99e81a22c9a05ed509c420ce373\", element=\"83c4481b-415a-4f13-9bf3-988845860e45\")>, <selenium.webdriver.remote.webelement.WebElement (session=\"33cea99e81a22c9a05ed509c420ce373\", element=\"bd6abc76-242e-4e32-a1c5-1242daabfc11\")>, <selenium.webdriver.remote.webelement.WebElement (session=\"33cea99e81a22c9a05ed509c420ce373\", element=\"6c84c737-6dba-40c0-83dc-edfce42cd0ff\")>]\n",
      "[<selenium.webdriver.remote.webelement.WebElement (session=\"33cea99e81a22c9a05ed509c420ce373\", element=\"bc74bd2a-f35b-4cf6-8384-11f4c4ce20e8\")>, <selenium.webdriver.remote.webelement.WebElement (session=\"33cea99e81a22c9a05ed509c420ce373\", element=\"95f0970a-0ccc-4ffb-92ca-6350b79cdb6b\")>, <selenium.webdriver.remote.webelement.WebElement (session=\"33cea99e81a22c9a05ed509c420ce373\", element=\"7448d9ac-4e54-4acb-bdb6-c2543284ff3f\")>, <selenium.webdriver.remote.webelement.WebElement (session=\"33cea99e81a22c9a05ed509c420ce373\", element=\"83c4481b-415a-4f13-9bf3-988845860e45\")>, <selenium.webdriver.remote.webelement.WebElement (session=\"33cea99e81a22c9a05ed509c420ce373\", element=\"bd6abc76-242e-4e32-a1c5-1242daabfc11\")>, <selenium.webdriver.remote.webelement.WebElement (session=\"33cea99e81a22c9a05ed509c420ce373\", element=\"6c84c737-6dba-40c0-83dc-edfce42cd0ff\")>, <selenium.webdriver.remote.webelement.WebElement (session=\"33cea99e81a22c9a05ed509c420ce373\", element=\"10334468-3d91-45d7-a55c-c2b588827258\")>]\n",
      "[<selenium.webdriver.remote.webelement.WebElement (session=\"33cea99e81a22c9a05ed509c420ce373\", element=\"bc74bd2a-f35b-4cf6-8384-11f4c4ce20e8\")>, <selenium.webdriver.remote.webelement.WebElement (session=\"33cea99e81a22c9a05ed509c420ce373\", element=\"95f0970a-0ccc-4ffb-92ca-6350b79cdb6b\")>, <selenium.webdriver.remote.webelement.WebElement (session=\"33cea99e81a22c9a05ed509c420ce373\", element=\"7448d9ac-4e54-4acb-bdb6-c2543284ff3f\")>, <selenium.webdriver.remote.webelement.WebElement (session=\"33cea99e81a22c9a05ed509c420ce373\", element=\"83c4481b-415a-4f13-9bf3-988845860e45\")>, <selenium.webdriver.remote.webelement.WebElement (session=\"33cea99e81a22c9a05ed509c420ce373\", element=\"bd6abc76-242e-4e32-a1c5-1242daabfc11\")>, <selenium.webdriver.remote.webelement.WebElement (session=\"33cea99e81a22c9a05ed509c420ce373\", element=\"6c84c737-6dba-40c0-83dc-edfce42cd0ff\")>, <selenium.webdriver.remote.webelement.WebElement (session=\"33cea99e81a22c9a05ed509c420ce373\", element=\"10334468-3d91-45d7-a55c-c2b588827258\")>, <selenium.webdriver.remote.webelement.WebElement (session=\"33cea99e81a22c9a05ed509c420ce373\", element=\"3d5419d9-701b-4a98-84b8-59ac81db08c2\")>]\n",
      "[<selenium.webdriver.remote.webelement.WebElement (session=\"33cea99e81a22c9a05ed509c420ce373\", element=\"bc74bd2a-f35b-4cf6-8384-11f4c4ce20e8\")>, <selenium.webdriver.remote.webelement.WebElement (session=\"33cea99e81a22c9a05ed509c420ce373\", element=\"95f0970a-0ccc-4ffb-92ca-6350b79cdb6b\")>, <selenium.webdriver.remote.webelement.WebElement (session=\"33cea99e81a22c9a05ed509c420ce373\", element=\"7448d9ac-4e54-4acb-bdb6-c2543284ff3f\")>, <selenium.webdriver.remote.webelement.WebElement (session=\"33cea99e81a22c9a05ed509c420ce373\", element=\"83c4481b-415a-4f13-9bf3-988845860e45\")>, <selenium.webdriver.remote.webelement.WebElement (session=\"33cea99e81a22c9a05ed509c420ce373\", element=\"bd6abc76-242e-4e32-a1c5-1242daabfc11\")>, <selenium.webdriver.remote.webelement.WebElement (session=\"33cea99e81a22c9a05ed509c420ce373\", element=\"6c84c737-6dba-40c0-83dc-edfce42cd0ff\")>, <selenium.webdriver.remote.webelement.WebElement (session=\"33cea99e81a22c9a05ed509c420ce373\", element=\"10334468-3d91-45d7-a55c-c2b588827258\")>, <selenium.webdriver.remote.webelement.WebElement (session=\"33cea99e81a22c9a05ed509c420ce373\", element=\"3d5419d9-701b-4a98-84b8-59ac81db08c2\")>, <selenium.webdriver.remote.webelement.WebElement (session=\"33cea99e81a22c9a05ed509c420ce373\", element=\"84f1d291-d7af-4cf2-8d14-b5f542e1cb79\")>]\n"
     ]
    }
   ],
   "source": [
    "title = []\n",
    "for j in titles:\n",
    "    title.append(j)\n",
    "    print(title)"
   ]
  },
  {
   "cell_type": "code",
   "execution_count": 21,
   "id": "2f91ecb9",
   "metadata": {},
   "outputs": [
    {
     "data": {
      "text/plain": [
       "[<selenium.webdriver.remote.webelement.WebElement (session=\"33cea99e81a22c9a05ed509c420ce373\", element=\"69646bfa-7474-4ffc-b426-8ee390794cc7\")>,\n",
       " <selenium.webdriver.remote.webelement.WebElement (session=\"33cea99e81a22c9a05ed509c420ce373\", element=\"aa81a613-8e6e-4eda-bff3-af87f5d4e78c\")>,\n",
       " <selenium.webdriver.remote.webelement.WebElement (session=\"33cea99e81a22c9a05ed509c420ce373\", element=\"5feb8b12-1516-4944-88dc-dbc73b8fa746\")>,\n",
       " <selenium.webdriver.remote.webelement.WebElement (session=\"33cea99e81a22c9a05ed509c420ce373\", element=\"f7439d81-ffea-4b14-8f81-c63b02450e99\")>,\n",
       " <selenium.webdriver.remote.webelement.WebElement (session=\"33cea99e81a22c9a05ed509c420ce373\", element=\"7c173339-eeaa-422d-b449-33e107d5e4fa\")>,\n",
       " <selenium.webdriver.remote.webelement.WebElement (session=\"33cea99e81a22c9a05ed509c420ce373\", element=\"c85b20c3-1655-4555-ad11-7635a16ddcfd\")>,\n",
       " <selenium.webdriver.remote.webelement.WebElement (session=\"33cea99e81a22c9a05ed509c420ce373\", element=\"75bea143-03d8-448a-98db-b556bb4354de\")>,\n",
       " <selenium.webdriver.remote.webelement.WebElement (session=\"33cea99e81a22c9a05ed509c420ce373\", element=\"51a8a365-040f-4710-905c-306cc3e115f5\")>,\n",
       " <selenium.webdriver.remote.webelement.WebElement (session=\"33cea99e81a22c9a05ed509c420ce373\", element=\"f096d968-9731-4cb0-a6c0-3a037e104ad3\")>,\n",
       " <selenium.webdriver.remote.webelement.WebElement (session=\"33cea99e81a22c9a05ed509c420ce373\", element=\"8e4501e4-0fc4-4bef-a201-3c04c95506a0\")>,\n",
       " <selenium.webdriver.remote.webelement.WebElement (session=\"33cea99e81a22c9a05ed509c420ce373\", element=\"a8a27eef-da10-4f05-a064-02b09f016b71\")>,\n",
       " <selenium.webdriver.remote.webelement.WebElement (session=\"33cea99e81a22c9a05ed509c420ce373\", element=\"0380375c-0cea-4f72-9530-02eb202393bd\")>]"
      ]
     },
     "execution_count": 21,
     "metadata": {},
     "output_type": "execute_result"
    }
   ],
   "source": [
    "titles = browser.find_elements(By.CLASS_NAME, 'mCBkyc')\n",
    "titles"
   ]
  },
  {
   "cell_type": "code",
   "execution_count": 22,
   "id": "6f986cbc",
   "metadata": {},
   "outputs": [
    {
     "name": "stdout",
     "output_type": "stream",
     "text": [
      "0 : 삼성SDS, 데이터 분석 플랫폼에 함수·국영문 지원 등 추가\n",
      "1 : 삼성SDS, '브라이틱스 스튜디오' 데이터 분석 인재 양성 지원\n",
      "2 : 삼성SDS, 데이터 분석 플랫폼에 함수·국영문 지원 등 추가\n",
      "3 : 삼성SDS, 데이터 분석 플랫폼에 함수·국영문 지원 등 추가\n",
      "4 : 삼성SDS, 개방형 AI 플랫폼으로 데이터 인재 키운다\n",
      "5 : 삼성SDS, 데이터 플랫폼에 함수옵션·국영문 지원 등 기능 강화\n",
      "6 : 삼성SDS, 더 똑똑해진 '브라이틱스 스튜디오'로 데이터 분석 인재 양성 지원\n",
      "7 : 데이터인재 키우는 삼성SDS `AI 플랫폼` -\n",
      "8 : 삼성SDS, 더 똑똑해진 `브라이틱스 스튜디오`로 데이터 분석 인재 양성 지원\n",
      "9 : 삼성SDS 브라이틱스 스튜디오로 데이터 분석 인재 양성 지원\n",
      "10 : [미래기술25]“한국의 코로나19 방역, 뒤에는 빅데이터 분석이 있었죠”\n",
      "11 : 삼성SDS 데이터 분석 플랫폼 '브라이틱스 스튜디오', 교육 툴로 '인기'\n",
      "12 : 삼성SDS, 브라이틱스 스튜디오 기능 강화...데이터 분석 인재 ...\n",
      "13 : 삼성SDS, 데이터 분석 플랫폼 '브라이틱스 스튜디오' 기능 강화\n",
      "14 : 삼성SDS, 데이터 분석 플랫폼에 함수·국영문 지원 등 추가\n",
      "15 : [화제의 현장] “그래프DB, 데이터 분석의 선택이 아닌 필수가 될 것”\n",
      "16 : 데이터분석과 시각화! 우리는 데이터로 새로운 가치를 창출하는 ...\n",
      "17 : 삼성SDS, Brightics Studio로 데이터 분석 인재 양성 지원\n",
      "18 : 삼성SDS, '브라이틱스 스튜디오'로 데이터 분석 인재양성 지원\n",
      "19 : 정부, 과학기술 미공개 통계데이터 분석 서비스 개시\n",
      "20 : 통신·택배·쇼핑 데이터 분석…LGU+ \"오프라인 매출 1위는 홍삼 ...\n",
      "21 : 인천 부평구, 고령보행자 교통안전 취약지역 빅데이터 분석\n",
      "22 : 부평구, 고령보행자 교통안전 취약지역 빅데이터 분석\n",
      "23 : 엔코아, 그래프 데이터베이스 활용 데이터 분석 세미나 개최\n",
      "24 : CJ프레시웨이, 빅데이터 플랫폼 가동\n",
      "25 : 삼성SDS, 더 똑똑해진 '브라이틱스 스튜디오'로 데이터 분석 인재 양성 지원\n",
      "26 : 동국대 MBA, 데이터 분석능력 갖춘 직장인 경영전문가 양성\n",
      "27 : 헤어린스 브랜드평판 10월 빅데이터 분석결과...1위 케라시스 ...\n",
      "28 : 클라우데라, 하이브리드 데이터 기능 3종 발표\n",
      "29 : [화제의 현장] “AI‧빅데이터 기술 활용의 해답노트 제시한다”\n",
      "30 : 2022년 축산데이터 분석·ICT 활용 아이디어 경진대회 열린다\n",
      "31 : 행안부·디지털플랫폼정부위, '2022 데이터 분석활용 공모전'개최 ...\n",
      "32 : 행안부·디플정위, '2022 데이터 분석활용 공모전' 개최\n",
      "33 : 케라시스, 10월 헤어린스 브랜드평판 1위 '고수'\n",
      "34 : 클라우데라, 새로운 하이브리드 데이터 기능 3종 발표\n",
      "35 : 효성인포메이션시스템, 데이터 분석 및 엔터프라이즈 AI 혁신 ...\n",
      "36 : 스타 브랜드평판 2022년 10월 빅데이터 분석결과... 1위 방탄 ...\n",
      "37 : 완도군, '빅 데이터 분석·활용' 관광 활성화 도모\n",
      "38 : 100년전 관측부터 100년후 전망까지…기상기후 빅데이터 제공\n",
      "39 : 인라이플 “통찰력 있는 고객 데이터 분석으로 VIP 집중 마케팅”\n",
      "40 : 행안부·디플정위 「2022 데이터 분석활용 공모전」 개최\n",
      "41 : SAP-밸브, 디 인터내셔널 11에 실시간 데이터 분석 기능 제공\n",
      "42 : “광주 관광, 데이터 분석 기반 수용성 갖춰야” < 시민자치 < 뉴스 ...\n",
      "43 : TIPA, K-인공지능 제조데이터 분석 경진대회 개최\n",
      "44 : 도로교통공단, 데이터 분석·활용 경진대회 개최\n",
      "45 : [기획/DB①] '관계형'VS'비관계형' DB 경쟁에서 융합의 시대로 ...\n",
      "46 : 클라우데라, 새로운 하이브리드 데이터 기능 3종 발표\n",
      "47 : '누구나 쉽게' 빅데이터 분석 전문가가 될 수 있다\n",
      "48 : 모비젠, 시각적 데이터 분석 플랫폼 출시… “기업의 데이터 활용 ...\n",
      "49 : 대전 유성구, 공공데이터분석 전문가 양성 프로그램 운영\n",
      "50 : [생활경제 이슈] CJ프레시웨이, 빅데이터 플랫폼 가동 外\n",
      "51 : 카카오모빌리티, 이동 데이터 분석 콘텐츠로 한국 사회 트렌드 ...\n",
      "52 : 금융보안원, 데이터 분석·활용 경진대회 'FSI 데이터 챌린지 ...\n",
      "53 : 행안부·디플정위 ‘데이터 분석활용 공모전’ 18일까지\n",
      "54 : SAP, 밸브와 손잡고 세계 최대 규모 e스포츠 대회에 실시간 ...\n",
      "55 : 택배 브랜드 10월 빅데이터 분석결과....1위 롯데택배, 2위 ...\n",
      "56 : “올해 국내 빅데이터·분석도구 2조 3302억 규모”\n",
      "57 : 지케스, KES서 바이오데이터분석 솔루션 소개\n",
      "58 : [CASE STUDY] 슈퍼마이크로, NEC AI 연구 개발에 최첨단 GPU ...\n",
      "59 : 양산시, 빅데이터 분석 업무 활용…시민소통 시정 추진\n",
      "60 : [지금은 디지털마케팅 시대] 데이터분석, 마케팅 예산을 늘리 ...\n",
      "61 : 항공화물운송 상장기업 브랜드 10월 빅데이터 분석결과...1위 ...\n",
      "62 : 비아이매트릭스 AUD플랫폼, 공공에서 주목한 노코드\n",
      "63 : <한종화의 채권분석> 피벗 기대에 역행하는 데이터\n",
      "64 : 빅데이터 분석으로 노인 교통사고 줄인다\n",
      "65 : 與 허은아 \"빅데이터분석기사 시험, 매회 문제 오류\"\n",
      "66 : 엔키노, 오토 머신러닝 솔루션 'AISO Data Analysis'를 통한 머신 ...\n",
      "67 : 현대중공업그룹, 美팔란티어 빅데이터 합작사 연내 설립하기로\n",
      "68 : 완도군, '빅 데이터 분석·활용' 관광 활성화 도모\n",
      "69 : DB손보, 빅데이터 분석으로 보험사기 공모 막는다\n",
      "70 : 빅데이터 분석으로 노인 교통사고 줄인다\n",
      "71 : TIPA, AI 제조데이터 분석 경진대회…총상금 2900만원\n",
      "72 : 완도 관광 활성화에 빅데이터 분석 활용한다\n",
      "73 : [흔한 전략기획의 브랜드 지키기] 가설 검증을 통한 데이터 분석 ...\n",
      "74 : 조선 상장기업 브랜드 10월 빅데이터 분석결과...1위 현대중공업 ...\n",
      "75 : 광주에 세계 톱10급 데이터센터 구축\n",
      "76 : KPR 디지털커뮤니케이션연구소, '팝업스토어 명소' 빅데이터 ...\n",
      "77 : 데일리벳\n",
      "78 : KB국민카드 불꽃축제 빅데이터 분석, 여의나루역 이용객 증가폭 ...\n",
      "79 : 도로교통공단 '데이터 분석·활용 경진대회' 개최\n",
      "80 : 정부, 데이터 분석·활용 공모전 개최…민간기업 자원 활용\n",
      "81 : 성균관대 SKK GSB, 데이터 분석·디지털 전환·애널리틱스·AI…모든 교육과정에 관련 과목·기업 사례 포함\n",
      "82 : UAV 데이터 분석 플랫폼 시장 2022 SWOT 분석, 주요 업계 선수 ...\n",
      "83 : [미래기술25]홍수처럼 쏟아지는 데이터 모아 AI분석, 인간의 ...\n",
      "84 : [월드가 만난 사람] “AI, 빅데이터 기반의 노지스마트농업으로 ...\n",
      "85 : ＂국가자격 ＇빅데이터 분석기사＇ 매회 문제 오류…수험생 ...\n",
      "86 : 글로벌 빅 데이터 분석 소프트웨어 시장 2022 주요 선수, 산업 ...\n",
      "87 : [마케팅+]'A/B테스트 맛집'된 핵클, 알고보면 쿠팡 DNA?\n",
      "88 : KPR 디지털커뮤니케이션연구소, '해외여행' 빅데이터 분석 결과 ...\n",
      "89 : SKT, 'AI컴퍼니' 도약 속도 낸다...코난테크놀로지 지분 20.77 ...\n",
      "90 : 원격 근무 작업 효율성 높일 빅데이터 분석 도구 10종\n",
      "91 : 사람인 빅데이터 분석 결과 “K-컬처 인재 채용 급증”\n",
      "92 : [인터뷰] 라비 나익 씨게이트 부사장 “제조 강국 韓, 스마트 팩토리 전환 위해선 데이터 분석 효율 높여야” - 조선비즈\n",
      "93 : 신한카드, 빅데이터 분석 통해 MZ고객 겨냥한 '신한카드 핏' 출시\n",
      "94 : 금융보안원, 금융권 데이터 분석·활용 경진대회 개최\n",
      "95 : 10월 BB크림 브랜드평판 빅데이터 분석결과...1위 헤라, 2위 셀 ...\n",
      "96 : KIA, 퓨처스 감독에 손승락 선임…\"데이터 분석 및 선수 육성 역량 탁월\" - 조선비즈\n",
      "97 : 거리두기 없는 올해 핼러윈 키워드는 '이벤트·축제·공연'\n",
      "98 : SK컴즈, 16년 동반자 코난테크놀로지 지분 매각한 이유\n",
      "99 : [빅데이터 분석으로 본 뜨는 상권 vs 지는 상권] 서울·수도권 상권 ‘핫플’ 용리단길·청와대·동탄 신도시가 이끌었다\n",
      "100 : 신한카드, MZ세대 맞춤 '신한카드 핏' 선봬...빅데이터 분석\n",
      "101 : 야놀자·인터파크, 올해 황금연휴 기간 예약 데이터 분석 결과 발표\n"
     ]
    }
   ],
   "source": [
    "search_word = input(\"크롤링 키워드: \")\n",
    "page = int(input(\"크롤링 페이지 수: \"))\n",
    "\n",
    "url = 'https://www.google.com/search?q={}&tbm=nws&ei=U7RYY-DXLYfo-QaO7IXADw&start={}&sa=N&ved=2ahUKEwigzcushP36AhUHdN4KHQ52AfgQ8tMDegQIARAE&biw=820&bih=691&dpr=1.25'\n",
    "title = []\n",
    "\n",
    "for i in range(0, page*10, 10):\n",
    "#     print(i)\n",
    "    temp_url = url.format(search_word, i)\n",
    "#     print(temp_url)\n",
    "    final_url = browser.get(temp_url)\n",
    "    \n",
    "    # 안에다가 둬야지 ^^^^\n",
    "    titles = browser.find_elements(By.CLASS_NAME, 'mCBkyc')\n",
    "#     print(titles)\n",
    "\n",
    "    for j in titles:\n",
    "        title.append(j.text)\n",
    "\n",
    "# print(title)\n",
    "\n",
    "for i, t in enumerate(title): \n",
    "    print(i, \":\", t)"
   ]
  },
  {
   "cell_type": "code",
   "execution_count": 14,
   "id": "cbe765e6",
   "metadata": {},
   "outputs": [
    {
     "data": {
      "text/plain": [
       "[0, 1, 2, 3, 4, 5, 6, 7, 8, 9]"
      ]
     },
     "execution_count": 14,
     "metadata": {},
     "output_type": "execute_result"
    }
   ],
   "source": [
    "title = []\n",
    "for i in range(10):\n",
    "    title.append(i)\n",
    "    \n",
    "title"
   ]
  },
  {
   "cell_type": "code",
   "execution_count": 41,
   "id": "a44bc39f",
   "metadata": {
    "scrolled": true
   },
   "outputs": [
    {
     "name": "stdout",
     "output_type": "stream",
     "text": [
      "(0, 'A')\n",
      "(1, 'B')\n",
      "(2, 'C')\n",
      "(3, 'D')\n"
     ]
    }
   ],
   "source": [
    "ls = [\"A\", \"B\", \"C\", \"D\"]\n",
    "for i in enumerate(ls):\n",
    "    print(i)"
   ]
  },
  {
   "cell_type": "code",
   "execution_count": null,
   "id": "b4e878cd",
   "metadata": {},
   "outputs": [],
   "source": []
  },
  {
   "cell_type": "markdown",
   "id": "04a0c2bc",
   "metadata": {},
   "source": [
    "# 정리된 최종 코드"
   ]
  },
  {
   "cell_type": "code",
   "execution_count": 46,
   "id": "3c2f472f",
   "metadata": {},
   "outputs": [
    {
     "name": "stdout",
     "output_type": "stream",
     "text": [
      "크롤링 키워드: 데이터분석\n",
      "크롤링 페이지 수: 3\n",
      "과기정통부, '과학기술 통계 데이터 분석 서비스' 시작\n",
      "과학기술 통계 데이터, 더 자유롭게 활용한다\n",
      "성동구 데이터 분석으로 1인가구 건강 지킨다\n",
      "강기정 광주시장 \"데이터 분석 기반, 스토리 있는 축제 만들어야\"\n",
      "공인회계사회 '재무빅데이터분석 자격시험' 신설\n",
      "강기정 \"데이터 분석에 기반한 스토리 있는 축제 만들어야\"\n",
      "국내 블록체인 데이터 분석기업 크립토퀀트, 美 CME에 데이터 공급\n",
      "과기정통부 \"과학기술 통계 데이터 활용 확대\"\n",
      "한공회, `재무빅데이터분석사 자격시험` 국내 최초 신설\n",
      "강기정 광주광역시장 “데이터 분석에 기반한 스토리 있는 축제 만들어야”\n",
      "정부, 과학기술 미공개 통계데이터 분석 서비스 개시\n",
      "과기정통부, '과학기술 통계 데이터 분석 서비스' 시작\n",
      "의료 단체의 데이터 분석 도구 통해 300만 정보 유출돼\n",
      "“광주 관광, 데이터 분석 기반 수용성 갖춰야” < 시민자치 < 뉴스 ...\n",
      "강기정 시장 “데이터 분석에 기반한 스토리 있는 축제 만들어야”\n",
      "엔키노, 오토 머신러닝 솔루션 'AISO Data Analysis'으로 머신 ...\n",
      "과기정통부 “과학기술 통계 데이터 활용 확대” – Sciencetimes\n",
      "효성인포메이션시스템, 데이터 분석 및 엔터프라이즈 AI 혁신 ...\n",
      "2022년 축산데이터 분석·ICT 활용 아이디어 경진대회 열린다\n",
      "행안부·디지털플랫폼정부위, '2022 데이터 분석활용 공모전'개최 ...\n",
      "도로교통공단, 데이터 분석·활용 경진대회 개최\n",
      "한공회, '재무빅데이터분석사 자격시험' 국내 최초 신설\n",
      "엔키노, 오토 머신러닝 솔루션 'AISO Data Analysis'으로 머신 ...\n",
      "TIPA, K-인공지능 제조데이터 분석 경진대회 개최\n",
      "엔키노, 오토 머신러닝 솔루션 'AISO Data Analysis'으로 머신 ...\n",
      "[특허뉴스] [포커스] 윕스, 국내 최초 AI 특허·기술 자동분류 ...\n",
      "인라이플 모비튠, 올해 패션 분야 빅데이터 분석 결과...TOP ...\n",
      "마이크로스트레티지 코리아, MicroWorld Seoul 2022 성황리 개최\n",
      "완도군, '빅 데이터 분석·활용' 관광 활성화 도모\n",
      "생물공학 상장기업 브랜드평판 10월 빅데이터 분석결과...1위 ...\n"
     ]
    }
   ],
   "source": [
    "search_word = input(\"크롤링 키워드: \")\n",
    "page = int(input(\"크롤링 페이지 수: \"))\n",
    "\n",
    "url = 'https://www.google.com/search?q={}&tbm=nws&ei=U7RYY-DXLYfo-QaO7IXADw&start={}&sa=N&ved=2ahUKEwigzcushP36AhUHdN4KHQ52AfgQ8tMDegQIARAE&biw=820&bih=691&dpr=1.25'\n",
    "\n",
    "for i in range(0, page*10, 10):\n",
    "    final_url = url.format(search_word, i)\n",
    "    browser.get(final_url)\n",
    "    \n",
    "    titles = browser.find_elements(By.CLASS_NAME, 'mCBkyc')\n",
    "    \n",
    "    for title in titles:\n",
    "        print(title.text)"
   ]
  },
  {
   "cell_type": "markdown",
   "id": "0b7e8a3c",
   "metadata": {},
   "source": [
    "### 방법 1. 사람이 하는 것처럼 time.sleep 줘야 함\n",
    "   - 5초 정도는 줌"
   ]
  },
  {
   "cell_type": "code",
   "execution_count": 47,
   "id": "3048acdd",
   "metadata": {},
   "outputs": [
    {
     "name": "stdout",
     "output_type": "stream",
     "text": [
      "크롤링 키워드: ㄸㄷ\n",
      "크롤링 페이지 수: 1\n",
      "타겟 2번째 매장 오픈…버몬트·올림픽 교차로에\n",
      "데일리벳\n",
      "[N잡_앱테크] GS25 편스토랑, 27일 OK캐쉬백 오퀴즈 정답\n",
      "'연봉킹' 장현국 위메이드 대표, 마냥 웃지 못하는 이유는?\n",
      "[인터뷰] 2017년 입법고시 재경직 최고득점 권혁만씨\n",
      "\"생일선물로 5천원짜리 틴트 사온 군인 남친, 정뚝떨이에요\"\n",
      "[오버워치]파라 코스프레-오즈짱 | 웹진 인벤\n"
     ]
    }
   ],
   "source": [
    "import time\n",
    "\n",
    "search_word = input(\"크롤링 키워드: \")\n",
    "page = int(input(\"크롤링 페이지 수: \"))\n",
    "\n",
    "url = 'https://www.google.com/search?q={}&tbm=nws&ei=U7RYY-DXLYfo-QaO7IXADw&start={}&sa=N&ved=2ahUKEwigzcushP36AhUHdN4KHQ52AfgQ8tMDegQIARAE&biw=820&bih=691&dpr=1.25'\n",
    "\n",
    "for i in range(0, page*10, 10):\n",
    "    final_url = url.format(search_word, i)\n",
    "    \n",
    "    browser.get(final_url)\n",
    "    time.sleep(3)\n",
    "    \n",
    "    titles = browser.find_elements(By.CLASS_NAME, 'mCBkyc')\n",
    "    \n",
    "    for title in titles:\n",
    "        print(title.text)"
   ]
  },
  {
   "cell_type": "markdown",
   "id": "ef2c7c7a",
   "metadata": {},
   "source": [
    "### 방법 2. 사이트 로딩이 느린 경우 \n",
    "- 반복문 None에서 돌리면 터짐"
   ]
  },
  {
   "cell_type": "code",
   "execution_count": 48,
   "id": "2a1f3b27",
   "metadata": {},
   "outputs": [
    {
     "ename": "TypeError",
     "evalue": "'NoneType' object is not iterable",
     "output_type": "error",
     "traceback": [
      "\u001b[1;31m---------------------------------------------------------------------------\u001b[0m",
      "\u001b[1;31mTypeError\u001b[0m                                 Traceback (most recent call last)",
      "Input \u001b[1;32mIn [48]\u001b[0m, in \u001b[0;36m<cell line: 1>\u001b[1;34m()\u001b[0m\n\u001b[1;32m----> 1\u001b[0m \u001b[38;5;28;01mfor\u001b[39;00m i \u001b[38;5;129;01min\u001b[39;00m \u001b[38;5;28;01mNone\u001b[39;00m:\n\u001b[0;32m      2\u001b[0m     \u001b[38;5;28mprint\u001b[39m(i)\n",
      "\u001b[1;31mTypeError\u001b[0m: 'NoneType' object is not iterable"
     ]
    }
   ],
   "source": [
    "for i in None:\n",
    "    print(i)"
   ]
  },
  {
   "cell_type": "code",
   "execution_count": 54,
   "id": "52250be5",
   "metadata": {},
   "outputs": [],
   "source": [
    "browser.implicitly_wait(5)  # 5초를 기다려봐. 안되면 오류를 뱉어내고, 만약에 그전에 로딩되면 그대로 진행해. "
   ]
  },
  {
   "cell_type": "code",
   "execution_count": 56,
   "id": "7e5100cb",
   "metadata": {},
   "outputs": [
    {
     "name": "stdout",
     "output_type": "stream",
     "text": [
      "크롤링 키워드: 쇼핑\n",
      "크롤링 페이지 수: 2\n",
      "'1년간 노쇼핑' 치솟는 물가에 미니멀 라이프\n",
      "하루틴, '할로윈 파티 쇼핑 라이브' 리포좀 비타민C 라방 진행\n",
      "'쇼핑앱으로 소비 패턴 관리'…자산관리 도우미된 e커머스 - 서울경제\n",
      "티몬, 연간 최대 쇼핑 행사 '몬스터절' 연다 - 머니S\n",
      "\"11월은 쇼핑의 달\" 이커머스 업계, 최대 행사 잇따라\n",
      "\"쇼핑 큰손 다 산다라\"…산다라박, 잘 된 메이크업은 핑계일뿐→폭풍 쇼핑으로 마무리 - 조선일보\n",
      "롯데쇼핑, 고객과 함께하는 지구 살리기 ‘리어스’ 론칭\n",
      "1천개 한정판 모나미 다이어리…네이버 쇼핑라이브 출시\n",
      "\"무아인과 함께 쇼핑을\"…메타, '밋 메타(Meet Meta) 팝업' 오픈\n",
      "박나래, \"베이글에만 20만 원 가까이 쓰다니\"...베이글 성지에서 원없이 빵쇼핑('줄 서는 식당')\n",
      "알리익스프레스, 글로벌 쇼핑 페스티벌 11월 1일부터 한다\n",
      "알리익스프레스, ‘11.11 글로벌 쇼핑 페스티벌’ 개최\n",
      "비건 가방·방화복 백팩…'윤리적 패션' 쇼핑하세요\n",
      "온라인쇼핑 마트는 '고기', 슈퍼마켓은 '찬거리' 많이 샀다\n",
      "11월 온라인 쇼핑 대목 앞두고 유통업계 할인경쟁 개막(종합)\n",
      "알리바바그룹, 2022년 11.11 글로벌 쇼핑 페스티벌 개막\n",
      "\"11월은 쇼핑의 달\" 이커머스 업계, 최대 행사 잇따라\n",
      "2022 코세페, 내달 1일 개막…'모두의 쇼핑 축제' 열린다\n",
      "2022년 11.11 글로벌 쇼핑 페스티벌 콘텐츠 특집 페이지 ...\n",
      "LG CNS, KDX에 쇼핑 데이터 공유\n"
     ]
    }
   ],
   "source": [
    "import time\n",
    "\n",
    "search_word = input(\"크롤링 키워드: \")\n",
    "page = int(input(\"크롤링 페이지 수: \"))\n",
    "\n",
    "url = 'https://www.google.com/search?q={}&tbm=nws&ei=U7RYY-DXLYfo-QaO7IXADw&start={}&sa=N&ved=2ahUKEwigzcushP36AhUHdN4KHQ52AfgQ8tMDegQIARAE&biw=820&bih=691&dpr=1.25'\n",
    "\n",
    "for i in range(0, page*10, 10):\n",
    "    final_url = url.format(search_word, i)\n",
    "    \n",
    "    browser.get(final_url)\n",
    "    time.sleep(3) # 보통 얘 먼저 주고\n",
    "    browser.implicitly_wait(5)  # 얘는 기회를 주는 느낌 \n",
    "    \n",
    "    titles = browser.find_elements(By.CLASS_NAME, 'mCBkyc')\n",
    "    \n",
    "    for title in titles:\n",
    "        print(title.text)"
   ]
  },
  {
   "cell_type": "code",
   "execution_count": null,
   "id": "abe67ec0",
   "metadata": {},
   "outputs": [],
   "source": []
  },
  {
   "cell_type": "markdown",
   "id": "d146e970",
   "metadata": {},
   "source": [
    "## 시간 남으면) 배달의 민족 play store review 크롤링"
   ]
  },
  {
   "cell_type": "code",
   "execution_count": 60,
   "id": "ef7d5230",
   "metadata": {},
   "outputs": [],
   "source": [
    "browser.get(\"https://play.google.com/store/apps/details?id=com.sampleapp\")"
   ]
  },
  {
   "cell_type": "code",
   "execution_count": 62,
   "id": "4ab23a28",
   "metadata": {},
   "outputs": [],
   "source": [
    "browser.find_element(By.XPATH, '//*[@id=\"ow78\"]/section/div/div/div[5]/div/div/button/span').click()"
   ]
  },
  {
   "cell_type": "code",
   "execution_count": null,
   "id": "cfdd7772",
   "metadata": {},
   "outputs": [],
   "source": [
    "RHo1pe"
   ]
  },
  {
   "cell_type": "code",
   "execution_count": null,
   "id": "5a4c459e",
   "metadata": {},
   "outputs": [],
   "source": []
  },
  {
   "cell_type": "code",
   "execution_count": null,
   "id": "2bb52c97",
   "metadata": {},
   "outputs": [],
   "source": []
  }
 ],
 "metadata": {
  "kernelspec": {
   "display_name": "Python 3.7.13 ('snake')",
   "language": "python",
   "name": "python3"
  },
  "language_info": {
   "codemirror_mode": {
    "name": "ipython",
    "version": 3
   },
   "file_extension": ".py",
   "mimetype": "text/x-python",
   "name": "python",
   "nbconvert_exporter": "python",
   "pygments_lexer": "ipython3",
   "version": "3.7.13"
  },
  "vscode": {
   "interpreter": {
    "hash": "e11bcb469b452252c56617e12dbf8783bee893ca311ba75755e6042d61ffc62c"
   }
  }
 },
 "nbformat": 4,
 "nbformat_minor": 5
}

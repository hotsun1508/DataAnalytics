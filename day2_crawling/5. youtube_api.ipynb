{
 "cells": [
  {
   "cell_type": "markdown",
   "id": "2f4e6149",
   "metadata": {},
   "source": [
    "## Youtube 댓글 크롤링 API\n",
    "- https://developers.google.com/youtube/v3/getting-started"
   ]
  },
  {
   "cell_type": "code",
   "execution_count": null,
   "id": "4e6b37b5",
   "metadata": {},
   "outputs": [],
   "source": []
  },
  {
   "cell_type": "code",
   "execution_count": null,
   "id": "fd47d6bd",
   "metadata": {},
   "outputs": [],
   "source": []
  },
  {
   "cell_type": "code",
   "execution_count": null,
   "id": "435fc60a",
   "metadata": {},
   "outputs": [],
   "source": []
  }
 ],
 "metadata": {
  "kernelspec": {
   "display_name": "Python 3 (ipykernel)",
   "language": "python",
   "name": "python3"
  },
  "language_info": {
   "codemirror_mode": {
    "name": "ipython",
    "version": 3
   },
   "file_extension": ".py",
   "mimetype": "text/x-python",
   "name": "python",
   "nbconvert_exporter": "python",
   "pygments_lexer": "ipython3",
   "version": "3.9.12"
  }
 },
 "nbformat": 4,
 "nbformat_minor": 5
}

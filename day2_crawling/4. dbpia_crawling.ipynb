{
 "cells": [
  {
   "cell_type": "markdown",
   "id": "bb197668",
   "metadata": {},
   "source": [
    "# DBPIA 내용 가져오기\n",
    "1. (효율적) 링크를 먼저 다 가져와서 > `상세페이지`에서 내용 가져오기\n",
    "2. 하나 클릭 > 내용 긁어오고 > 뒤로가기"
   ]
  },
  {
   "cell_type": "code",
   "execution_count": 2,
   "id": "2f88be17",
   "metadata": {},
   "outputs": [],
   "source": [
    "from selenium import webdriver\n",
    "from selenium.webdriver.common.by import By"
   ]
  },
  {
   "cell_type": "code",
   "execution_count": 3,
   "id": "39205cd4",
   "metadata": {},
   "outputs": [
    {
     "name": "stderr",
     "output_type": "stream",
     "text": [
      "c:\\Users\\sunah\\anaconda3\\envs\\snake\\lib\\site-packages\\ipykernel_launcher.py:2: DeprecationWarning: executable_path has been deprecated, please pass in a Service object\n",
      "  \n"
     ]
    }
   ],
   "source": [
    "path = \"/Users/sunah/OneDrive/바탕 화면/SUN/러닝스푼즈/데이터분석/DataAnalytics/day2_crawling/chromedriver.exe\"\n",
    "browser = webdriver.Chrome(path)"
   ]
  },
  {
   "cell_type": "code",
   "execution_count": 5,
   "id": "ed43f9d4",
   "metadata": {},
   "outputs": [
    {
     "name": "stdout",
     "output_type": "stream",
     "text": [
      "https://www.dbpia.co.kr/search/topSearch?startCount=0&collection=ALL&range=A&searchField=ALL&sort=RANK&query=인공지능\n"
     ]
    }
   ],
   "source": [
    "search_word = input(\"검색하고자 하는 논문 제목 입력하시오.\")\n",
    "url = 'https://www.dbpia.co.kr/search/topSearch?startCount=0&collection=ALL&range=A&searchField=ALL&sort=RANK&query={}'\n",
    "final_url = url.format(search_word)\n",
    "\n",
    "\n",
    "print(final_url)\n",
    "browser.get(final_url)\n",
    "\n",
    "browser.implicitly_wait(10)"
   ]
  },
  {
   "cell_type": "code",
   "execution_count": 6,
   "id": "7f917f2b",
   "metadata": {
    "scrolled": true
   },
   "outputs": [
    {
     "data": {
      "text/plain": [
       "'이전 페이지\\n1\\n2\\n3\\n4\\n5\\n6\\n7\\n8\\n9\\n10\\n다음 페이지'"
      ]
     },
     "execution_count": 6,
     "metadata": {},
     "output_type": "execute_result"
    }
   ],
   "source": [
    "page_num = browser.find_element(By.CLASS_NAME, 'dpPaging')\n",
    "page_num.text"
   ]
  },
  {
   "cell_type": "code",
   "execution_count": 27,
   "id": "6e6607ca",
   "metadata": {},
   "outputs": [
    {
     "data": {
      "text/plain": [
       "'setPageNum(1)'"
      ]
     },
     "execution_count": 27,
     "metadata": {},
     "output_type": "execute_result"
    }
   ],
   "source": [
    "browser.find_element(By.CLASS_NAME, 'dpPaging__link ').get_attribute('onclick')"
   ]
  },
  {
   "cell_type": "code",
   "execution_count": 51,
   "id": "b5420a31",
   "metadata": {},
   "outputs": [
    {
     "data": {
      "text/plain": [
       "[<selenium.webdriver.remote.webelement.WebElement (session=\"abddb5f67fd56b2a22661140d3514349\", element=\"98f94d4f-8799-4076-9749-3fded8a81f77\")>,\n",
       " <selenium.webdriver.remote.webelement.WebElement (session=\"abddb5f67fd56b2a22661140d3514349\", element=\"6cb18538-e482-43ee-8cb1-d69e348677de\")>,\n",
       " <selenium.webdriver.remote.webelement.WebElement (session=\"abddb5f67fd56b2a22661140d3514349\", element=\"a45d6813-bc19-44cd-afc7-05b3e6a46bfd\")>,\n",
       " <selenium.webdriver.remote.webelement.WebElement (session=\"abddb5f67fd56b2a22661140d3514349\", element=\"0114678a-2e78-4ff9-9dfa-316317c2f457\")>,\n",
       " <selenium.webdriver.remote.webelement.WebElement (session=\"abddb5f67fd56b2a22661140d3514349\", element=\"b81761b0-73a8-42a4-8093-53531bb534cc\")>,\n",
       " <selenium.webdriver.remote.webelement.WebElement (session=\"abddb5f67fd56b2a22661140d3514349\", element=\"71fb21c7-df13-4e78-8079-507666ee5834\")>,\n",
       " <selenium.webdriver.remote.webelement.WebElement (session=\"abddb5f67fd56b2a22661140d3514349\", element=\"5b70896a-dbb0-47d1-a1fe-735ad1e0a094\")>,\n",
       " <selenium.webdriver.remote.webelement.WebElement (session=\"abddb5f67fd56b2a22661140d3514349\", element=\"e83db1c1-1efd-4574-ab43-44dcafb8cb5a\")>,\n",
       " <selenium.webdriver.remote.webelement.WebElement (session=\"abddb5f67fd56b2a22661140d3514349\", element=\"eb0f3952-084d-4848-bbdf-014458beeb5d\")>,\n",
       " <selenium.webdriver.remote.webelement.WebElement (session=\"abddb5f67fd56b2a22661140d3514349\", element=\"af29af1f-61eb-497b-8214-110d3148729f\")>]"
      ]
     },
     "execution_count": 51,
     "metadata": {},
     "output_type": "execute_result"
    }
   ],
   "source": [
    "paging = browser.find_elements(By.CLASS_NAME, 'dpPaging__link ')\n",
    "paging"
   ]
  },
  {
   "cell_type": "code",
   "execution_count": 52,
   "id": "9127f49e",
   "metadata": {
    "scrolled": true
   },
   "outputs": [
    {
     "name": "stdout",
     "output_type": "stream",
     "text": [
      "setPageNum(1)\n",
      "setPageNum(2)\n",
      "setPageNum(3)\n",
      "setPageNum(4)\n",
      "setPageNum(5)\n",
      "setPageNum(6)\n",
      "setPageNum(7)\n",
      "setPageNum(8)\n",
      "setPageNum(9)\n",
      "setPageNum(10)\n"
     ]
    }
   ],
   "source": [
    "for i in paging:\n",
    "    onclick = i.get_attribute('onclick')\n",
    "    print(onclick)"
   ]
  },
  {
   "cell_type": "code",
   "execution_count": 55,
   "id": "b3d2af4a",
   "metadata": {},
   "outputs": [],
   "source": [
    "browser.find_element(By.CLASS_NAME, 'dpPaging__link ').get_attribute('setPageNum(1)')\n"
   ]
  },
  {
   "cell_type": "code",
   "execution_count": 53,
   "id": "e67556aa",
   "metadata": {
    "scrolled": true
   },
   "outputs": [
    {
     "name": "stdout",
     "output_type": "stream",
     "text": [
      "None\n",
      "None\n",
      "None\n",
      "None\n",
      "None\n",
      "None\n",
      "None\n",
      "None\n",
      "None\n",
      "None\n"
     ]
    }
   ],
   "source": [
    "for i in paging:\n",
    "    set_page = i.get_attribute('setPageNum(1)')\n",
    "    print(set_page)"
   ]
  },
  {
   "cell_type": "code",
   "execution_count": 26,
   "id": "6a30efb1",
   "metadata": {},
   "outputs": [],
   "source": [
    "next = browser.find_element(By.CLASS_NAME, 'dpPaging__link ').get_attribute('onclick')\n",
    "\n",
    "for i in range(10):\n",
    "    "
   ]
  },
  {
   "cell_type": "markdown",
   "id": "962703b3",
   "metadata": {},
   "source": [
    "## ID를 사용하는 것이 가장 안전함 !! \n",
    "-> 반복이 안되기 때문에 !"
   ]
  },
  {
   "cell_type": "code",
   "execution_count": 32,
   "id": "f28314df",
   "metadata": {},
   "outputs": [],
   "source": [
    "id=\"goPrevPage\""
   ]
  },
  {
   "cell_type": "code",
   "execution_count": null,
   "id": "e46a1187",
   "metadata": {},
   "outputs": [],
   "source": []
  },
  {
   "cell_type": "markdown",
   "id": "e4f75f1b",
   "metadata": {},
   "source": [
    "## 강사님 X_path 사용"
   ]
  },
  {
   "cell_type": "code",
   "execution_count": null,
   "id": "b91ea23b",
   "metadata": {},
   "outputs": [],
   "source": [
    "//*[@id=\"pageList\"]/a[1]\n",
    "//*[@id=\"pageList\"]/a[2]\n",
    "//*[@id=\"pageList\"]/a[2]"
   ]
  },
  {
   "cell_type": "code",
   "execution_count": 38,
   "id": "d0c856a8",
   "metadata": {},
   "outputs": [
    {
     "name": "stdout",
     "output_type": "stream",
     "text": [
      "//*[@id=\"pageList\"]/a[1]\n",
      "//*[@id=\"pageList\"]/a[2]\n",
      "//*[@id=\"pageList\"]/a[3]\n",
      "//*[@id=\"pageList\"]/a[4]\n",
      "//*[@id=\"pageList\"]/a[5]\n",
      "//*[@id=\"pageList\"]/a[6]\n",
      "//*[@id=\"pageList\"]/a[7]\n",
      "//*[@id=\"pageList\"]/a[8]\n",
      "//*[@id=\"pageList\"]/a[9]\n",
      "//*[@id=\"pageList\"]/a[10]\n"
     ]
    }
   ],
   "source": [
    "import time\n",
    "\n",
    "for i in range(1,11):\n",
    "    xpath = '//*[@id=\"pageList\"]/a[{}]'.format(str(i))\n",
    "    print(xpath)\n",
    "    \n",
    "    time.sleep(3)\n",
    "    browser.find_element(By.XPATH, xpath).click()\n",
    "    \n",
    "    time.sleep(5)\n",
    "    browser.implicitly_wait(5)"
   ]
  },
  {
   "cell_type": "code",
   "execution_count": 39,
   "id": "cebb7a4c",
   "metadata": {},
   "outputs": [
    {
     "data": {
      "text/plain": [
       "'https://www.dbpia.co.kr/journal/articleDetail?nodeId=NODE11101547'"
      ]
     },
     "execution_count": 39,
     "metadata": {},
     "output_type": "execute_result"
    }
   ],
   "source": [
    "browser.find_element(By.CLASS_NAME, 'thesis__link').get_attribute('href')"
   ]
  },
  {
   "cell_type": "code",
   "execution_count": 61,
   "id": "a0a2133a",
   "metadata": {},
   "outputs": [
    {
     "name": "stdout",
     "output_type": "stream",
     "text": [
      "https://www.dbpia.co.kr/journal/articleDetail?nodeId=NODE11139855\n",
      "https://www.dbpia.co.kr/journal/articleDetail?nodeId=NODE11138506\n",
      "https://www.dbpia.co.kr/journal/articleDetail?nodeId=NODE11139397\n",
      "https://www.dbpia.co.kr/journal/articleDetail?nodeId=NODE11144464\n",
      "https://www.dbpia.co.kr/journal/articleDetail?nodeId=NODE11140220\n",
      "https://www.dbpia.co.kr/journal/articleDetail?nodeId=NODE11136896\n",
      "https://www.dbpia.co.kr/journal/articleDetail?nodeId=NODE11143603\n",
      "https://www.dbpia.co.kr/journal/articleDetail?nodeId=NODE11140186\n",
      "https://www.dbpia.co.kr/journal/articleDetail?nodeId=NODE11143234\n",
      "https://www.dbpia.co.kr/journal/articleDetail?nodeId=NODE11139981\n",
      "https://www.dbpia.co.kr/journal/articleDetail?nodeId=NODE11139969\n",
      "https://www.dbpia.co.kr/journal/articleDetail?nodeId=NODE11138316\n",
      "https://www.dbpia.co.kr/journal/articleDetail?nodeId=NODE11140185\n",
      "https://www.dbpia.co.kr/journal/articleDetail?nodeId=NODE11143185\n",
      "https://www.dbpia.co.kr/journal/articleDetail?nodeId=NODE11139716\n",
      "https://www.dbpia.co.kr/journal/articleDetail?nodeId=NODE11139709\n",
      "https://www.dbpia.co.kr/journal/articleDetail?nodeId=NODE11144116\n",
      "https://www.dbpia.co.kr/journal/articleDetail?nodeId=NODE11135038\n",
      "https://www.dbpia.co.kr/journal/articleDetail?nodeId=NODE11142008\n",
      "https://www.dbpia.co.kr/journal/articleDetail?nodeId=NODE11137764\n"
     ]
    }
   ],
   "source": [
    "links = browser.find_elements(By.CLASS_NAME, 'thesis__link')\n",
    "# print(links)\n",
    "\n",
    "for link in links:\n",
    "    print(link.get_attribute('href'))"
   ]
  },
  {
   "cell_type": "code",
   "execution_count": 73,
   "id": "64189c89",
   "metadata": {},
   "outputs": [
    {
     "name": "stdout",
     "output_type": "stream",
     "text": [
      "[<selenium.webdriver.remote.webelement.WebElement (session=\"abddb5f67fd56b2a22661140d3514349\", element=\"86567bb9-f570-479b-bd72-f18d4056d591\")>, <selenium.webdriver.remote.webelement.WebElement (session=\"abddb5f67fd56b2a22661140d3514349\", element=\"7b40b844-3cdf-4193-89b0-fe10d7077d45\")>, <selenium.webdriver.remote.webelement.WebElement (session=\"abddb5f67fd56b2a22661140d3514349\", element=\"4f06e9bb-9fb1-4494-93dd-1d7face28066\")>, <selenium.webdriver.remote.webelement.WebElement (session=\"abddb5f67fd56b2a22661140d3514349\", element=\"455b6649-210f-473f-9290-50aeba290a8f\")>, <selenium.webdriver.remote.webelement.WebElement (session=\"abddb5f67fd56b2a22661140d3514349\", element=\"a860f494-1acc-48c9-bb63-f35cc5db181a\")>, <selenium.webdriver.remote.webelement.WebElement (session=\"abddb5f67fd56b2a22661140d3514349\", element=\"3a0f0b8f-92b4-403a-8d61-3b1bec4592c2\")>, <selenium.webdriver.remote.webelement.WebElement (session=\"abddb5f67fd56b2a22661140d3514349\", element=\"c528d5ac-e2a1-446f-976c-7c9d0bc10225\")>, <selenium.webdriver.remote.webelement.WebElement (session=\"abddb5f67fd56b2a22661140d3514349\", element=\"ec2a5c4d-7059-4cd5-b296-62f06f15352c\")>, <selenium.webdriver.remote.webelement.WebElement (session=\"abddb5f67fd56b2a22661140d3514349\", element=\"35014dfe-d571-40e9-8a2c-021a0dd2f16a\")>, <selenium.webdriver.remote.webelement.WebElement (session=\"abddb5f67fd56b2a22661140d3514349\", element=\"01d6999d-32b2-4387-be09-4cc968078c69\")>, <selenium.webdriver.remote.webelement.WebElement (session=\"abddb5f67fd56b2a22661140d3514349\", element=\"eb191850-3319-4873-b6d0-c9479bd871ed\")>, <selenium.webdriver.remote.webelement.WebElement (session=\"abddb5f67fd56b2a22661140d3514349\", element=\"b9662bd7-516d-4ebb-a067-d6e93238c059\")>, <selenium.webdriver.remote.webelement.WebElement (session=\"abddb5f67fd56b2a22661140d3514349\", element=\"f94f8026-20f3-471e-bb02-b3a565f34a17\")>, <selenium.webdriver.remote.webelement.WebElement (session=\"abddb5f67fd56b2a22661140d3514349\", element=\"b9a13cbe-691f-4504-b972-59a2adf65341\")>, <selenium.webdriver.remote.webelement.WebElement (session=\"abddb5f67fd56b2a22661140d3514349\", element=\"6ceb6ac7-6c7c-4e40-a086-616da1724660\")>, <selenium.webdriver.remote.webelement.WebElement (session=\"abddb5f67fd56b2a22661140d3514349\", element=\"c55f0cfa-296a-480f-a5b4-87d307e718cf\")>, <selenium.webdriver.remote.webelement.WebElement (session=\"abddb5f67fd56b2a22661140d3514349\", element=\"4b1510bc-dc5e-4a65-9757-e5d3c3fa16df\")>, <selenium.webdriver.remote.webelement.WebElement (session=\"abddb5f67fd56b2a22661140d3514349\", element=\"dd63bc2a-d524-40d9-8914-dbad88b1c375\")>, <selenium.webdriver.remote.webelement.WebElement (session=\"abddb5f67fd56b2a22661140d3514349\", element=\"ed2ed6fe-43cb-4599-aea4-ae10695946f4\")>, <selenium.webdriver.remote.webelement.WebElement (session=\"abddb5f67fd56b2a22661140d3514349\", element=\"98d33ef4-c238-484d-9a4a-d5edfec714ee\")>]\n",
      "https://www.dbpia.co.kr/journal/articleDetail?nodeId=NODE11139855\n",
      "https://www.dbpia.co.kr/journal/articleDetail?nodeId=NODE11138506\n",
      "https://www.dbpia.co.kr/journal/articleDetail?nodeId=NODE11139397\n",
      "https://www.dbpia.co.kr/journal/articleDetail?nodeId=NODE11144464\n",
      "https://www.dbpia.co.kr/journal/articleDetail?nodeId=NODE11140220\n",
      "https://www.dbpia.co.kr/journal/articleDetail?nodeId=NODE11136896\n",
      "https://www.dbpia.co.kr/journal/articleDetail?nodeId=NODE11143603\n",
      "https://www.dbpia.co.kr/journal/articleDetail?nodeId=NODE11140186\n",
      "https://www.dbpia.co.kr/journal/articleDetail?nodeId=NODE11143234\n",
      "https://www.dbpia.co.kr/journal/articleDetail?nodeId=NODE11139981\n",
      "https://www.dbpia.co.kr/journal/articleDetail?nodeId=NODE11139969\n",
      "https://www.dbpia.co.kr/journal/articleDetail?nodeId=NODE11138316\n",
      "https://www.dbpia.co.kr/journal/articleDetail?nodeId=NODE11140185\n",
      "https://www.dbpia.co.kr/journal/articleDetail?nodeId=NODE11143185\n",
      "https://www.dbpia.co.kr/journal/articleDetail?nodeId=NODE11139716\n",
      "https://www.dbpia.co.kr/journal/articleDetail?nodeId=NODE11139709\n",
      "https://www.dbpia.co.kr/journal/articleDetail?nodeId=NODE11144116\n",
      "https://www.dbpia.co.kr/journal/articleDetail?nodeId=NODE11135038\n",
      "https://www.dbpia.co.kr/journal/articleDetail?nodeId=NODE11142008\n",
      "https://www.dbpia.co.kr/journal/articleDetail?nodeId=NODE11137764\n"
     ]
    }
   ],
   "source": [
    "containers = browser.find_elements(By.CLASS_NAME, 'thesis__summary')\n",
    "print(containers)\n",
    "\n",
    "for container in containers:\n",
    "    print(container.find_element(By.CLASS_NAME, 'thesis__link').get_attribute('href'))\n",
    "    "
   ]
  },
  {
   "cell_type": "markdown",
   "id": "b41778ff",
   "metadata": {},
   "source": [
    "## 목적: 상세페이지 제목과 내용 가져오기"
   ]
  },
  {
   "cell_type": "markdown",
   "id": "054912a0",
   "metadata": {},
   "source": [
    "## 최종 코드"
   ]
  },
  {
   "cell_type": "code",
   "execution_count": 65,
   "id": "8708f3bb",
   "metadata": {},
   "outputs": [],
   "source": [
    "containers = browser.find_elements(By.CLASS_NAME, 'thesis__summary')\n",
    "# print(links)\n",
    "\n",
    "content_list = []\n",
    "for container in containers:\n",
    "\n",
    "    link = browser.find_element(By.CLASS_NAME, 'thesis__link').get_attribute('href')\n",
    "    \n",
    "    # 1. 링크 세부 페이지로 하나하나 이동\n",
    "    browser.get(link)\n",
    "    time.sleep(3)\n",
    "#     browser.implicitly_wait(5)\n",
    "    \n",
    "    try:\n",
    "        content = browser.find_element(By.CLASS_NAME, 'abstractTxt').text\n",
    "    except:\n",
    "        content = \"vacant\"\n",
    "    \n",
    "    content_list.append(content)\n",
    "    browser.back() # 뒤로가기"
   ]
  },
  {
   "cell_type": "code",
   "execution_count": 74,
   "id": "c1b80fd1",
   "metadata": {},
   "outputs": [
    {
     "name": "stdout",
     "output_type": "stream",
     "text": [
      "[<selenium.webdriver.remote.webelement.WebElement (session=\"abddb5f67fd56b2a22661140d3514349\", element=\"86567bb9-f570-479b-bd72-f18d4056d591\")>, <selenium.webdriver.remote.webelement.WebElement (session=\"abddb5f67fd56b2a22661140d3514349\", element=\"7b40b844-3cdf-4193-89b0-fe10d7077d45\")>, <selenium.webdriver.remote.webelement.WebElement (session=\"abddb5f67fd56b2a22661140d3514349\", element=\"4f06e9bb-9fb1-4494-93dd-1d7face28066\")>, <selenium.webdriver.remote.webelement.WebElement (session=\"abddb5f67fd56b2a22661140d3514349\", element=\"455b6649-210f-473f-9290-50aeba290a8f\")>, <selenium.webdriver.remote.webelement.WebElement (session=\"abddb5f67fd56b2a22661140d3514349\", element=\"a860f494-1acc-48c9-bb63-f35cc5db181a\")>, <selenium.webdriver.remote.webelement.WebElement (session=\"abddb5f67fd56b2a22661140d3514349\", element=\"3a0f0b8f-92b4-403a-8d61-3b1bec4592c2\")>, <selenium.webdriver.remote.webelement.WebElement (session=\"abddb5f67fd56b2a22661140d3514349\", element=\"c528d5ac-e2a1-446f-976c-7c9d0bc10225\")>, <selenium.webdriver.remote.webelement.WebElement (session=\"abddb5f67fd56b2a22661140d3514349\", element=\"ec2a5c4d-7059-4cd5-b296-62f06f15352c\")>, <selenium.webdriver.remote.webelement.WebElement (session=\"abddb5f67fd56b2a22661140d3514349\", element=\"35014dfe-d571-40e9-8a2c-021a0dd2f16a\")>, <selenium.webdriver.remote.webelement.WebElement (session=\"abddb5f67fd56b2a22661140d3514349\", element=\"01d6999d-32b2-4387-be09-4cc968078c69\")>, <selenium.webdriver.remote.webelement.WebElement (session=\"abddb5f67fd56b2a22661140d3514349\", element=\"eb191850-3319-4873-b6d0-c9479bd871ed\")>, <selenium.webdriver.remote.webelement.WebElement (session=\"abddb5f67fd56b2a22661140d3514349\", element=\"b9662bd7-516d-4ebb-a067-d6e93238c059\")>, <selenium.webdriver.remote.webelement.WebElement (session=\"abddb5f67fd56b2a22661140d3514349\", element=\"f94f8026-20f3-471e-bb02-b3a565f34a17\")>, <selenium.webdriver.remote.webelement.WebElement (session=\"abddb5f67fd56b2a22661140d3514349\", element=\"b9a13cbe-691f-4504-b972-59a2adf65341\")>, <selenium.webdriver.remote.webelement.WebElement (session=\"abddb5f67fd56b2a22661140d3514349\", element=\"6ceb6ac7-6c7c-4e40-a086-616da1724660\")>, <selenium.webdriver.remote.webelement.WebElement (session=\"abddb5f67fd56b2a22661140d3514349\", element=\"c55f0cfa-296a-480f-a5b4-87d307e718cf\")>, <selenium.webdriver.remote.webelement.WebElement (session=\"abddb5f67fd56b2a22661140d3514349\", element=\"4b1510bc-dc5e-4a65-9757-e5d3c3fa16df\")>, <selenium.webdriver.remote.webelement.WebElement (session=\"abddb5f67fd56b2a22661140d3514349\", element=\"dd63bc2a-d524-40d9-8914-dbad88b1c375\")>, <selenium.webdriver.remote.webelement.WebElement (session=\"abddb5f67fd56b2a22661140d3514349\", element=\"ed2ed6fe-43cb-4599-aea4-ae10695946f4\")>, <selenium.webdriver.remote.webelement.WebElement (session=\"abddb5f67fd56b2a22661140d3514349\", element=\"98d33ef4-c238-484d-9a4a-d5edfec714ee\")>]\n",
      "['https://www.dbpia.co.kr/journal/articleDetail?nodeId=NODE11139855', 'https://www.dbpia.co.kr/journal/articleDetail?nodeId=NODE11138506', 'https://www.dbpia.co.kr/journal/articleDetail?nodeId=NODE11139397', 'https://www.dbpia.co.kr/journal/articleDetail?nodeId=NODE11144464', 'https://www.dbpia.co.kr/journal/articleDetail?nodeId=NODE11140220', 'https://www.dbpia.co.kr/journal/articleDetail?nodeId=NODE11136896', 'https://www.dbpia.co.kr/journal/articleDetail?nodeId=NODE11143603', 'https://www.dbpia.co.kr/journal/articleDetail?nodeId=NODE11140186', 'https://www.dbpia.co.kr/journal/articleDetail?nodeId=NODE11143234', 'https://www.dbpia.co.kr/journal/articleDetail?nodeId=NODE11139981', 'https://www.dbpia.co.kr/journal/articleDetail?nodeId=NODE11139969', 'https://www.dbpia.co.kr/journal/articleDetail?nodeId=NODE11138316', 'https://www.dbpia.co.kr/journal/articleDetail?nodeId=NODE11140185', 'https://www.dbpia.co.kr/journal/articleDetail?nodeId=NODE11143185', 'https://www.dbpia.co.kr/journal/articleDetail?nodeId=NODE11139716', 'https://www.dbpia.co.kr/journal/articleDetail?nodeId=NODE11139709', 'https://www.dbpia.co.kr/journal/articleDetail?nodeId=NODE11144116', 'https://www.dbpia.co.kr/journal/articleDetail?nodeId=NODE11135038', 'https://www.dbpia.co.kr/journal/articleDetail?nodeId=NODE11142008', 'https://www.dbpia.co.kr/journal/articleDetail?nodeId=NODE11137764']\n",
      "['인공지능(AI)의 확산과 함께 금융 분야에서도 상품추천, 고객 응대 자동화, 이상거래탐지, 신용 심사 등 다양한 인공지능 기반 서비스가 확대되고 있다. 하지만 데이터에 기반한 기계학습의 특성상 신뢰성과 관련된 문제 발생과 예상하지 못한 사회적 논란도 함께 발생하고 있다. 인공지능의 효용은 극대화하고 위험과 부작용은 최소화할 수 있는 신뢰할 수 있는 인공지능에 대한 필요성은 점점 더 커지고 있다.\\n이러한 배경에서 본 연구는 소비자의 금융 생활에 직접 영향을 끼치는 인공지능 기반 개인신용평가의 공정성 확보를 위한 체크리스트 제안을 통해 인공지능 기반 금융서비스에 대한 신뢰 향상에 기여하고자 하였다. 인공지능 신뢰성의 주요 핵심 요소인 투명성, 안전성, 책무성, 공정성 중 포용 금융의 관점에서 자동화된 알고리즘의 혜택을 사회적 차별 없이 모두가 누릴 수 있도록 공정성을 연구 대상으로 선정하였다.\\n문헌 연구를 통해 공정성이 영향을 끼치는 서비스 운용의 전 과정을 데이터, 알고리즘, 사용자의 세 개의 영역으로 구분하고, 12가지 하위 점검 항목과 항목별 세부 권고안으로 체크리스트를 구성하였다. 구성한 체크리스트는 이해관계자(금융 분야 종사자, 인공지능 분야 종사자, 일반 사용자)별 계층적 분석과정(AHP)을 통해 점검 항목에 대한 상대적 중요도 및 우선순위를 도출하였다. 이해관계자별 중요도에 따라 세 개의 그룹으로 분류하여 분석한 결과 학습데이터와 비금융정보 활용에 대한 타당성 검증 및 신규 유입 데이터 모니터링의 필요성 등 실용적 측면에서 구체적인 점검 사항을 파악하였고, 금융 소비자인 일반 사용자의 경우 결과에 대한 해석 오류 및 편향성 확인에 대한 중요도를 높게 평가한다는 것을 확인할 수 있었다.\\n본 연구의 결과가 더 공정한 인공지능 기반 금융서비스의 구축과 운영에 기여할 수 있기를 기대한다.\\n\\nWith the spread of Artificial Intelligence (AI), various AI-based services are expanding in the financial sector such as service recommendation, automated customer response, fraud detection system(FDS), credit scoring services, etc. At the same time, problems related to reliability and unexpected social controversy are also occurring due to the nature of data-based machine learning. The need Based on this background, this study aimed to contribute to improving trust in AI-based financial services by proposing a checklist to secure fairness in AI-based credit scoring services which directly affects consumers’ financial life. Among the key elements of trustworthy AI like transparency, safety, accountability, and fairness, fairness was selected as the subject of the study so that everyone could enjoy the benefits of automated algorithms from the perspective of inclusive finance without social discrimination. We divided the entire fairness related operation process into three areas like data, algorithms, and user areas through literature research. For each area, we constructed four detailed considerations for evaluation resulting in 12 checklists. The relative importance and priority of the categories were evaluated through the analytic hierarchy process (AHP). We use three different groups: financial field workers, artificial intelligence field workers, and general users which represent entire financial stakeholders. According to the importance of each stakeholder, three groups were classified and analyzed, and from a practical perspective, specific checks such as feasibility verification for using learning data and non-financial information and monitoring new inflow data were identified. Moreover, financial consumers in general were found to be highly considerate of the accuracy of result analysis and bias checks. We expect this result could contribute to the design and operation of fair AI-based financial services. With the spread of Artificial Intelligence (AI), various AI-based services are expanding in the financial sector such as service recommendation, automated customer response, fraud detection system(FDS), credit scoring services, etc. At the same time, problems related to reliability and unexpected social controversy are also occurring due to the nature of data-based machine learning. The need Based on this background, this study aimed to contribute to improving trust in AI-based financial services by proposing a checklist to secure fairness in AI-based credit scoring services which directly affects consumers’ financial life. Among the key elements of trustworthy AI like transparency, safety, accountability, and fairness, fairness was selected as the subject of the study so that everyone could enjoy the benefits of automated algorithms from the perspective of inclusive finance without social discrimination. We divided the entire fairness related operation process into three areas like data, algorithms, and user areas through literature research. For each area, we constructed four detailed considerations for evaluation resulting in 12 checklists. The relative importance and priority of the categories were evaluated through the analytic hierarchy process (AHP). We use three different groups: financial field workers, artificial intelligence field workers, and general users which represent entire financial stakeholders. According to the importance of each stakeholder, three groups were classified and analyzed, and from a practical perspective, specific checks such as feasibility verification for using learning data and non-financial information and monitoring new inflow data were identified. Moreover, financial consumers in general were found to be highly considerate of the accuracy of result analysis and bias checks. We expect this result could contribute to the design and operation of fair AI-based financial services.', '최근 인공지능 알고리즘과 빅데이터의 결합이 불평등과 사회적 갈등, 혐오 등을 증폭, 재생산하는 문제가 사회문제로 대두되면서, 인공지능 윤리기준의 마련과 알고리즘적 공정성 확보 등의 대안이 중요하게 논의되고 있다. 본 논문은 인공지능 기술을 둘러싼 사회적 문제에 대한 해결책으로 거론되고 있는 인공지능 윤리의 문제를 페미니스트 과학기술학의 관점에서 비판적으로 검토하며 페미니스트 인공지능의 가능성을 제시한다. IT 산업 종사자들에 대한 초점집단 인터뷰와 문헌연구를 바탕으로 하는 이 논문에서는 기술 개발과 제품 기획 사이의 관계가 보다 긴밀해지는 인공지능 업계의 젊은 개발자들이 디지털 기술의 사회적 영향에 대해 상당한 관심을 가지고 있음에 주목한다. 이들의 ‘위치지어짐(situatedness)’은 인공지능 알고리즘과 데이터의 편향 제거에 초점을 맞추는 현재의 인공지능 윤리 담론을 넘어, 다른 방식의 ‘인공지능 하기’의 필요성과 가능성을 동시에 보여준다. 개발자들의 부분적 시각이 대안적 기술의 실천을 가능하게 하는 도구가 될 수 있음을 강조하면서, 본 논문은 페미니스트 인공지능 하기를 실천하는 주체로서 여성개발자의 역할에 주목할 것을 제안한다. 이러한 논의를 바탕으로 본 논문은 지금까지의 인공지능 윤리에서 중요하게 다루어지지 않아 온 여성 개발자들이 정의로운 인공지능을 만들어가는 주체가 될 가능성을 제안한다.\\n\\nAI ethics and algorithmic fairness have become important policy areas to address the potential harms of data-driven algorithms that reproduce and amplify inequality, social conflict, and hatred. Drawing on insights from feminist science and technology studies, this article critically examines the depoliticizing effect of the current policies and technical discussions on AI ethics and proposes the possibility of feminist AIs. Furthermore, it brings attention to the potential and capacity of young women (and differently marginalized) developers in the AI industry who have considerable interest in the social impact of AI technology. Their ‘situatedness’ simultaneously poses the need and possibility to ‘do AI’ differently. Greater attention should be paid to the role of women developers as practitioners who can utilize their ‘partial perspectives’ to do feminist AI. AI ethics and algorithmic fairness have become important policy areas to address the potential harms of data-driven algorithms that reproduce and amplify inequality, social conflict, and hatred. Drawing on insights from feminist science and technology studies, this article critically examines the depoliticizing effect of the current policies and technical discussions on AI ethics and proposes the possibility of feminist AIs. Furthermore, it brings attention to the potential and capacity of young women (and differently marginalized) developers in the AI industry who have considerable interest in the social impact of AI technology. Their ‘situatedness’ simultaneously poses the need and possibility to ‘do AI’ differently. Greater attention should be paid to the role of women developers as practitioners who can utilize their ‘partial perspectives’ to do feminist AI.', '본고는 유치원부터 고등학생까지의 중국 교육용도서와 초등학생의 인공지능 교재를 연구 대상으로 삼고, 인공지능 교육의 역사와 정책, 교재의 제작 주체를 살펴보았다. 먼저 2004년부터 2021년까지 유치원생부터 고등학생 대상 전체 202권의 인공지능 교육용도서를 출판년도·지역·학령별 분포·도서 유형의 기준으로 분석하였다. 인공지능 교육은 2000년대 중국 교육부의 ‘정보기술’ 교과목을 보급하려는 시도에서부터 시작되었고, 2017년 중국 국무원의 『차세대 인공지능 발전규획』 발표 이후 2018년부터 2021년까지 202권의 유치원부터 고등학생 대상 인공지능 교육용도서가 출판된 것으로 추정된다. 학령별로 가장 많은 양을 차지하는 것은 초등학생이며, 도서의 유형 역시 학교 교육에서 사용하는 교재 외에도 이야기책이나 만화책 등 다양한 양상을 띤다. 초등학생의 인공지능 교재는 2018년부터 2021년까지 출판된 전체 38종 103권 가운데 16종 42권에 대해 제작 주체에 대해 살펴봤다. 전체 16종 가운데 지역 주도 교재는 8종, 기업 주도 교재는 6종, 교육기구 주도 교재는 2종이다. 지역 주도 교재는 지역 내 교수·연구원·교육연구사·교사·교육기관·기업 등의 다양한 주체들의 협업으로 제작하고, 이와 같은 교재는 지역 내 교육시스템 속에서 진입하는 데 유리하고, 실제로 출판 전 초등학교에서의 시범 교육이 이루어지기도 하였다. 기업주도 교재 6종은 에듀테크 및 ICT 기업의 주도 아래 교수 등의 협업으로 제작되고, 로봇·키트·앱 등의 다양한 교구를 활용함으로써, 인공지능에 대한 접근을 더욱 용이하게 한다. 에듀테크 기업의 일부 교재는 『발전규획』의 발표 이전에 중국의 교육정책을 반영하고 있으며, 이는 2012년에 발표된 교육정보화 정책과 긴밀한 연관이 있다.\\n\\nThis paper targeted AI teaching materials of from kindergarten to high school students and AI textbooks of elementary schools. This paper examined the history and policy of artificial intelligence education, and the writers and producers of the AI textbooks. First, published from 2004 to 2021, 202 books of artificial intelligence education for kindergarteners to high school students were analyzed based on the time of publication, region, distribution by school age, and book type. Artificial intelligence education in China began with the Chinese Ministry of Education\"s attempt to distribute \"information technology\" subjects in the 2000s, It is estimated that 202 books for artificial intelligence education for high school students have been published from 2018 to 2021 after the announcement of the \"New-generation Artificial Intelligence Development Plan\" by the State Council of China in 2017. Elementary school students account for the largest amount by school age, and the type of books also has various patterns such as storybooks and comic books in addition to textbooks used in school education. This paper analyzed 16 types and 42 Elementary school students\" artificial intelligence textbooks out of total 38 types and 102 books published from 2018 to 2021. Of the total 16 types, there were 8 types of regional-led textbooks, 6 types of corporate-led textbooks, and 2 types of educational organization-led textbooks. Regional-led textbooks were produced in collaboration with various producers such as local professors, researchers, educational researchers, teachers, educational institutions, and companies, and such textbooks were advantageous to enter the local education system, and in fact, pilot education was conducted in elementary schools before publication. Six types of corporate-led textbooks were produced in collaboration with professors under the leadership of EduTech and ICT companies, and access to artificial intelligence was made easier by utilizing various teaching tools such as robots, kits, and apps. Some textbooks of EduTech companies reflected China\"s education policy before the announcement of the Development Regulations, which were closely related to the education informationization policy announced in 2012. This paper targeted AI teaching materials of from kindergarten to high school students and AI textbooks of elementary schools. This paper examined the history and policy of artificial intelligence education, and the writers and producers of the AI textbooks. First, published from 2004 to 2021, 202 books of artificial intelligence education for kindergarteners to high school students were analyzed based on the time of publication, region, distribution by school age, and book type. Artificial intelligence education in China began with the Chinese Ministry of Education\"s attempt to distribute \"information technology\" subjects in the 2000s, It is estimated that 202 books for artificial intelligence education for high school students have been published from 2018 to 2021 after the announcement of the \"New-generation Artificial Intelligence Development Plan\" by the State Council of China in 2017. Elementary school students account for the largest amount by school age, and the type of books also has various patterns such as storybooks and comic books in addition to textbooks used in school education. This paper analyzed 16 types and 42 Elementary school students\" artificial intelligence textbooks out of total 38 types and 102 books published from 2018 to 2021. Of the total 16 types, there were 8 types of regional-led textbooks, 6 types of corporate-led textbooks, and 2 types of educational organization-led textbooks. Regional-led textbooks were produced in collaboration with various producers such as local professors, researchers, educational researchers, teachers, educational institutions, and companies, and such textbooks were advantageous to enter the local education system, and in fact, pilot education was conducted in elementary schools before publication. Six types of corporate-led textbooks were produced in collaboration with professors under the leadership of EduTech and ICT companies, and access to artificial intelligence was made easier by utilizing various teaching tools such as robots, kits, and apps. Some textbooks of EduTech companies reflected China\"s education policy before the announcement of the Development Regulations, which were closely related to the education informationization policy announced in 2012.', '이 글은 영상 예술에 나타난 인공지능(로봇) 양상에 대해 살펴본다. 이에 인공지능(로봇)을 소재로 한 애니메이션, 영화, TV 드라마 등을 연구 대상으로 삼는다.\\n인공지능을 소재로 한 한국 영상물들은 크게 인공지능 프로그램을 중요한 소재로 한 작품들, 인공지능 로봇(홀로그램)을 주인공으로 한 작품으로 나눌 수 있다. 인공지능 프로그램을 소재로 한 경우 슈퍼컴퓨터가 갖는 막강한 정보력에 집중한 작품들이 많았다. 인공지능 로봇(홀로그램)을 주인공으로 한 작품들은 로봇과의 우정이나 사랑을 주제로 한 경우가 많았다. 그렇지 않은 작품들은 대부분 단막극으로 깊은 논의를 하기엔 부족한 부분이 있다.\\n한국 영상 예술에서 인공지능은 시기적으로는 2016년에서 2020년 사이 가장 많이 만들어졌다. 이는 2016년 알파고와 이세돌의 바둑 대결 영향으로 보인다. 소재로는 인공지능 로봇과의 사랑을 다룬 작품들이 가장 많다. 서양에서 로봇에 대한 두려움을 표현했던 역사가 길었던 것과는 다르게 우리나라 영상물이 인공지능 로봇을 멜로의 대상으로 설정한 작품이 주를 이루는 현상은 다른 나라에 비해 남녀 관계를 주된 내러티브 욕망으로 삼는 한국 대중의 욕망이 반영된 것으로 보인다.\\n\\nThis study examined aspects of artificial intelligence (robots) in the visual arts by investigating animation, film, and TV dramas based on artificial intelligence (robots).\\nKorean videos based on artificial intelligence can be broadly divided into works with artificial intelligence programs as important material and works with artificial intelligence robots (holograms) as the main characters. In the case of artificial intelligence programs, numerous works have focused on the powerful information-processing power of supercomputers. The works with artificial intelligence robots (holograms) as the main characters often have the theme of friendship or love with robots. Most of the works that do not are one-act plays, which are insufficient for in-depth discussion.\\nIn the Korean visual arts, artificial intelligence made the greatest appearance between 2016 and 2020, which can be attributed to the effect of the 2016 Go match between AlphaGo and Lee Sedol. As for the subject matter, most of the works focus on love with artificial intelligence robots. In contrast to the long history of artistic works expressing fears of robots in the West, the phenomenon whereby Korean films mainly use artificial intelligence robots as objects of melodramatic plots reflects the Korean public’s strong narrative desire for male-female relationships compared to other countries. This study examined aspects of artificial intelligence (robots) in the visual arts by investigating animation, film, and TV dramas based on artificial intelligence (robots).\\nKorean videos based on artificial intelligence can be broadly divided into works with artificial intelligence programs as important material and works with artificial intelligence robots (holograms) as the main characters. In the case of artificial intelligence programs, numerous works have focused on the powerful information-processing power of supercomputers. The works with artificial intelligence robots (holograms) as the main characters often have the theme of friendship or love with robots. Most of the works that do not are one-act plays, which are insufficient for in-depth discussion.\\nIn the Korean visual arts, artificial intelligence made the greatest appearance between 2016 and 2020, which can be attributed to the effect of the 2016 Go match between AlphaGo and Lee Sedol. As for the subject matter, most of the works focus on love with artificial intelligence robots. In contrast to the long history of artistic works expressing fears of robots in the West, the phenomenon whereby Korean films mainly use artificial intelligence robots as objects of melodramatic plots reflects the Korean public’s strong narrative desire for male-female relationships compared to other countries.', '인공지능이 산업전반에 적용되고 있는 지능정보사회는 끊임없는 기술적 진화를 하고 있다. 우리 생활에 잠식해 있는 다양한 데이터는 인공지능에 적용되어 분석, 구현, 예측하며 활용된다. 이에 인공지능 학습용 우수 데이터의 필요성이 강조되고 인공지능 데이터산업도 급속도로 성장하고 있다. 우리나라도 2017년부터 정책적으로 ‘인공지능 학습용데이터 구축사업’을 추진하고 있다.\\n본 연구는 아직 생소한 인공지능 학습용 데이터에 관한 선행연구를 기반으로 인공지능 학습용 패션 레이블드데이터를 분석하고 그 활용 방안을 모색하고자 한다. 본 연구자는 패션 데이터 라벨링 작업의 중요성을 인지하여 직접 데이터 라벨링 작업에 참여하였다. 연구방법은 문헌중심의 질적 연구방법을 택하였다. 연구범위는 패션에 관련된 레이블드데이터로 제한하였다.\\n연구 결과는 다음과 같다.\\n첫째, 국내외 데이터 라벨링 관련 연구를 분석한 결과 레이블드데이터 산업은 성장기에 있으며 세분화된 연구가 필요하다. 둘째, 패션인공지능 헬퍼 ‘데이터고블린’을 실행하여 패션데이터의 어노테이션 방법과 과정을 제시하였다. 셋째, 패션 라벨디드데이터를 기반으로 패션산업에서의 활용방향을 모색하였다.\\n본 연구는 지식재산권 창출 및 인재양성을 통한 일자리 창출은 물론 패션산업 발전의 원동력을 제공하게 될 것이라 기대한다.\\n\\nIn intelligence information society where artificial intelligence (AI) is applied to overall industries, technologies have been evolved incessantly. A variety of data encroached in our lives are applied to AI, so that they are analyzed, realized, and predicted. Therefore, the necessity of data excellent for AI learning has been emphasized, and the AI data industry has been on the rapid growth. Since 2017, the Korean government has performed ‘the project of data establishment for AI learning’ as a policy.\\nThis study tries to find a plan for using the pattern fashion labeled data for AI learning by analyzing previous studies on the unfamiliar data for AI learning. Recognizing the importance of pattern labeling work, this researcher participated in such work directly. As a study method, qualitative research method based on literature was adopted. The scope of this study is limited to the labeled data related to patterns.\\nThe study results are as follows:\\nFirst, according to the analysis on domestic and foreign studies on data labeling, the labeled data industry is in the growth stage, and more detailed study is needed. Second, the pattern AI helper ‘Data Goblins’ was executed to suggest a pattern data annotation method and process. Third, based on pattern labelled data, the application direction in the pattern industry tried to be found.\\nThis study is expected to provide a driving force for the development of the fashion industry as well as job creation through the creation of intellectual property rights and human resource development. In intelligence information society where artificial intelligence (AI) is applied to overall industries, technologies have been evolved incessantly. A variety of data encroached in our lives are applied to AI, so that they are analyzed, realized, and predicted. Therefore, the necessity of data excellent for AI learning has been emphasized, and the AI data industry has been on the rapid growth. Since 2017, the Korean government has performed ‘the project of data establishment for AI learning’ as a policy.\\nThis study tries to find a plan for using the pattern fashion labeled data for AI learning by analyzing previous studies on the unfamiliar data for AI learning. Recognizing the importance of pattern labeling work, this researcher participated in such work directly. As a study method, qualitative research method based on literature was adopted. The scope of this study is limited to the labeled data related to patterns.\\nThe study results are as follows:\\nFirst, according to the analysis on domestic and foreign studies on data labeling, the labeled data industry is in the growth stage, and more detailed study is needed. Second, the pattern AI helper ‘Data Goblins’ was executed to suggest a pattern data annotation method and process. Third, based on pattern labelled data, the application direction in the pattern industry tried to be found.\\nThis study is expected to provide a driving force for the development of the fashion industry as well as job creation through the creation of intellectual property rights and human resource development.', '4차 산업혁명 시대를 맞이하여 인공지능 산업의 발전은 우리 삶에 많은 변화를 초래하고 있다. 특히 최첨단 인공지능을 탑재한 로봇의 본격적인 등장을 앞두고 많은 기대와 우려가 뒤섞이고 있다. 물론 가까운 미래에 AI로봇이 인간을 지배하는 시대가 올 것이라고 단정적으로 주장하는 학자들은 많지 않지만, 조만간 인간과 로봇이 공존하는 세상이 올 것이라고 전망하는 학자들은 수도 없이 많다. 그만큼 인공지능 산업은 최근 빠르게 발전하고 있으며 인간과 동등한 능력을 지니거나 또는 특정 분야에서는 인간의 능력을 훨씬 뛰어넘는 로봇들이 조만간 등장하게 될 것이다. 그 중에서도 자율주행자동차는 인공지능 로봇의 대표적인 유형이라고 할 수 있다. 자율주행자동차의 활성화는 인공지능 시스템이 지금까지 얼마나 많은 발전을 해왔는지 보여주는 지표가 될 것이며, 이를 통해 인공지능 시스템에 대한 종래의 가치관이 크게 변화하는 시점이 될 것이다. 또한 최근 인공지능을 탑재한 의료로봇의 수술성과는 의료계에 큰 파장을 불러일으키고 있다. 물론 여전히 의료로봇에 대한 관련법규를 재정비하고 이 로봇의 문제점에 대해서 꾸준히 논의해봐야 하는 상황이지만 이를 잘 보완한다면 의료분야에서 커다란 발전을 기대할 수 있을 것이라고 본다. 이외에도 인공지능을 탑재한 변호사, 판사, 검사 등 법률전문 로봇 등이 등장할 수 있을 것이라는 전망이 제시되고 있다. 물론 단순히 인공지능만을 탑재한 로봇이 이러한 전문가들의 역할을 완벽히 대체할 수 있을까 우려하는 목소리도 나오고 있지만 실제로 우리 사회에 어떠한 영향을 가져다 줄 것인지는 쉽게 예측하기 어려운 상황이다.\\n한편 인공지능 로봇의 활성화를 위해서는 간과해서는 안될 것이 있다. 첫 번째, 인공지능 시스템의 성능도 중요하겠지만 이보다 더욱 중요한 것은 결국 로봇에 대한 신뢰성이다. 우리 사회가 인간이 아닌 로봇을 전적으로 믿고 맡길 수 있는 신뢰성 확보에 대한 문제는 꽤 오랜 기간이 소요될 것으로 보인다. 두 번째, 인공지능 시스템의 핵심은 빅데이터에 있으므로 이에 대한 무분별한 활용은 곧 국민들의 개인정보 침해 문제를 발생시킬 우려가 있다. 따라서 이제는 AI로봇의 활성화로 인한 문제점과 선결과제에 대해서 자세히 살펴보고 우리와 AI로봇이 공존하는 삶에 대한 진지한 성찰과 본격적인 논의가 필요한 때이다.\\n\\nIn the era of the 4th Industrial Revolution, the development of the AI industry is causing many changes in our lives. In particular, many expectations and concerns are mixed in the face of the full-scale emergence of robots equipped with state-of-the-art artificial intelligence. Of course, there are not many scholars who categorically claim that there will be an era in which AI robots dominate humans in the near future, but there are countless scholars who predict that sooner or later there will be a world in which humans and robots coexist. The AI industry has been developing rapidly in recent years, and robots that have the same abilities as humans or, in certain areas, exceed human capabilities, will soon emerge. Among them, autonomous vehicles can be said to be a representative type of artificial intelligence robots. The activation of autonomous vehicles will be an indicator of how much progress AI systems have made so far, which will mark a significant change in the conventional values of AI systems. In addition, the recent surgical performance of medical robots equipped with artificial intelligence has caused a great wave in the medical community. Of course, we still have to refine the relevant laws and regulations on medical robots and discuss the problems of these robots constantly, but if we complement them well, we can expect great progress in the medical field. In addition, it is predicted that legal robots equipped with artificial intelligence, such as lawyers, judges, and prosecutors, may appear. Of course, there are voices of concern that robots equipped with simply artificial intelligence can completely replace the roles of these experts, but it is difficult to judge how they will actually affect our society.\\nOn the other hand, there is something that should not be overlooked for the activation of artificial intelligence robots. First, the performance of the AI system is important, but even more important is the reliability of the robot. It seems that it will take quite a long time to secure the reliability that our society can fully trust in non-human robots. Second, since the core of the AI system is big data, indiscriminate use of it may cause a problem of infringement of personal information of the people. Therefore, it is now time to take a closer look at the problems and prerequisites caused by the activation of AI robots, and to seriously reflect and discuss the life in which we and AI robots coexist. In the era of the 4th Industrial Revolution, the development of the AI industry is causing many changes in our lives. In particular, many expectations and concerns are mixed in the face of the full-scale emergence of robots equipped with state-of-the-art artificial intelligence. Of course, there are not many scholars who categorically claim that there will be an era in which AI robots dominate humans in the near future, but there are countless scholars who predict that sooner or later there will be a world in which humans and robots coexist. The AI industry has been developing rapidly in recent years, and robots that have the same abilities as humans or, in certain areas, exceed human capabilities, will soon emerge. Among them, autonomous vehicles can be said to be a representative type of artificial intelligence robots. The activation of autonomous vehicles will be an indicator of how much progress AI systems have made so far, which will mark a significant change in the conventional values of AI systems. In addition, the recent surgical performance of medical robots equipped with artificial intelligence has caused a great wave in the medical community. Of course, we still have to refine the relevant laws and regulations on medical robots and discuss the problems of these robots constantly, but if we complement them well, we can expect great progress in the medical field. In addition, it is predicted that legal robots equipped with artificial intelligence, such as lawyers, judges, and prosecutors, may appear. Of course, there are voices of concern that robots equipped with simply artificial intelligence can completely replace the roles of these experts, but it is difficult to judge how they will actually affect our society.\\nOn the other hand, there is something that should not be overlooked for the activation of artificial intelligence robots. First, the performance of the AI system is important, but even more important is the reliability of the robot. It seems that it will take quite a long time to secure the reliability that our society can fully trust in non-human robots. Second, since the core of the AI system is big data, indiscriminate use of it may cause a problem of infringement of personal information of the people. Therefore, it is now time to take a closer look at the problems and prerequisites caused by the activation of AI robots, and to seriously reflect and discuss the life in which we and AI robots coexist.', 'vacant', '정보사회를 넘어 인공지능이 중심이 되는 지능정보사회를 살아가는 오늘날, 인공지능 역량은 매우 필요한 시점이 되었다. 인공지능은 컴퓨팅을 통해 발전해온 분야이므로 컴퓨팅 사고력이 인공지능 역량에 직접 적용되지만 인공지능 역량과 컴퓨팅 사고력의 관계를 규명하는 연구는 부족한 상황이다. 본 연구에서는 인공지능 역량과 컴퓨팅 사고력 사이의 관계를 규명하고자 하였다. 문헌조사를 통해 인공지능 역량을 정의하고, 전문가 검토를 통해 세부 요인을 선정하였다. 인공지능 역량을 키울 수 있는 대학 교양 수준의 인공지능 수업을 설계하고 수업 사전, 사후로 컴퓨팅 사고력과 인공지능 역량에 대한 검사를 실시하여 분석하였다. 수업에 참여한 학생 중 117명의 데이터를 분석한 결과, 첫째, 교양 수준의 인공지능 교육을 받은 학생들의 인공지능 역량과 컴퓨팅 사고력이 모두 증가하는 것으로 나타났으며, 둘째, 인공지능 역량과 컴퓨팅 사고력은 정적 상관관계가 있는 것으로 나타났다. 교양 인공지능 수업의 설계 및 진행 시 인공지능 역량을 향상시키기 위해서는 컴퓨팅 사고력 중 상관이 있는 일부 영역을 함께 다루어야 하며 이론 위주의 수업보다 실습을 병행해야 하는 시사점을 도출하였다.\\n\\nToday, as we live in an intelligent information society centered on Artificial Intelligence(AI) beyond the information society, AI competencies have become very necessary. Since AI is a field that has been developed through computing, Computational Thinking(CT) is directly applied to AI competency, but research on the relationship between AI competency and CT is insufficient. In this study, the relationship between AI competency and CT ability was investigated. AI competencies were defined through literature review, and detailed factors were selected through experts review. We designed a university-level AI liberal arts class that can develop AI competency. CT and AI competency were tested before the 1st class and after the last class and analyzed. As a result of analyzing the data of 117 students who participated in the class, first, it was found that liberal arts-level AI learning improves both AI competency and CT ability. Second, it was found that there is a positive correlation between AI competency and computational thinking ability. In order to improve AI competency when designing and conducting liberal arts AI classes, some areas related to CT should be dealt with together, and the implications of a need for practicing rather than theory-oriented classes were derived. Today, as we live in an intelligent information society centered on Artificial Intelligence(AI) beyond the information society, AI competencies have become very necessary. Since AI is a field that has been developed through computing, Computational Thinking(CT) is directly applied to AI competency, but research on the relationship between AI competency and CT is insufficient. In this study, the relationship between AI competency and CT ability was investigated. AI competencies were defined through literature review, and detailed factors were selected through experts review. We designed a university-level AI liberal arts class that can develop AI competency. CT and AI competency were tested before the 1st class and after the last class and analyzed. As a result of analyzing the data of 117 students who participated in the class, first, it was found that liberal arts-level AI learning improves both AI competency and CT ability. Second, it was found that there is a positive correlation between AI competency and computational thinking ability. In order to improve AI competency when designing and conducting liberal arts AI classes, some areas related to CT should be dealt with together, and the implications of a need for practicing rather than theory-oriented classes were derived.', '4차 산업혁명과 맞물려 다양한 신기술 출현으로, 지식재산권의 확보는 국가 및 기업의 기술 경쟁력 유지 및 신성장 동력 구축에 있어 중요성이 날로 커지고 있다. 그중 특허는 보유기업의 핵심 기술을 포함하고 있는 문서로서, 기업 가치 측정 및 경쟁 기술분야 분석에 많이 활용되고 있다. 이러한 특허분석을 효율적으로 진행하기 위해서 최신 및 상세한 기술분야를 포함한 CPC(선진특허분류)가 개발되었다. CPC는 현존하는 특허분류체계 중 가장 세분화된 코드 수를 가지고 있고, 현재까지 전 세계 6,200만 건 이상의 문헌들이 CPC로 분류되었다. 매해 신규 특허출원의 CPC 분류를 위해 전 세계 특허출원의 약 80% 이상을 차지하는 선진 5개 특허청을 중심으로 많은 예산과 인력을 투입하고 있으며, 최근 인공지능 기술을 활용한 자동화된 분류 모델에 대한 연구·개발을 추진 중에 있다.\\n본 연구에서는 키워드의 한계를 벗어나 문맥과 문장에 내포된 의미를 이해하는 인공지능 언어모델인 BERT 기반의 특허문헌 사전학습을 진행하여, 특허분야에서 기존 모델 대비 우수한 KorPatBERT를 생성하였다. 그리고 CPC 코드별 불균형적인 데이터 분포를 완화한 효과적인 분류 학습데이터셋 구축방안을 제안하고 생성하였다. 최종적으로 실서비스 가능한 수준의 CPC 서브클래스 및 메인그룹의 분류를 가능케 하는 모델을 생성하였고, 객관적인 평가지표를 통하여 그 실효성을 성공적으로 검증하였다. 이러한 연구를 통하여 향후 한국어 특허 기반 분류 및 자연어처리 관련 분야의 지속가능한 발전에 기여하고자 한다.\\n\\nWith the advent of various new technologies in the 4th industrial revolution, securing intellectual property rights has become increasingly important to countries or companies for maintaining technological competitiveness and building growth engines. In particular, a patent is a technical document that contains the core technology and is widely used for measuring corporate value and analyzing competitive technologies. To make this support, the CPC that including latest and detailed technical fields has been developed and more than 62 million documents worldwide have been classified as CPC. And five advanced patent offices which account for more than 80% of the world’s patent applications invest big budget for CPC of new patent applications every year.\\nIn this study, we had generated the KorPatBERT that was pre-trained and outperformed in patent field using the BERT language model which understands the meaning of sentences beyond the limits of keywords. And we proposed the methods and constructed the dataset that relieved imbalanced distribution for each CPC code. And finally, we had generated the AI CPC model that can classify into main group level and verified through reliable evaluation indicators. Through this, we want to contribute the sustainable development of Korean patent based classification and NLP field. With the advent of various new technologies in the 4th industrial revolution, securing intellectual property rights has become increasingly important to countries or companies for maintaining technological competitiveness and building growth engines. In particular, a patent is a technical document that contains the core technology and is widely used for measuring corporate value and analyzing competitive technologies. To make this support, the CPC that including latest and detailed technical fields has been developed and more than 62 million documents worldwide have been classified as CPC. And five advanced patent offices which account for more than 80% of the world’s patent applications invest big budget for CPC of new patent applications every year.\\nIn this study, we had generated the KorPatBERT that was pre-trained and outperformed in patent field using the BERT language model which understands the meaning of sentences beyond the limits of keywords. And we proposed the methods and constructed the dataset that relieved imbalanced distribution for each CPC code. And finally, we had generated the AI CPC model that can classify into main group level and verified through reliable evaluation indicators. Through this, we want to contribute the sustainable development of Korean patent based classification and NLP field.', '정부는 2021년 1월에 \"중대재해처벌법\"을 제정 공포하여, 이 법을 시행하고 있다. 하지만, 2021년 산업재해 사고자수가 전년 동기 대비 10.7% 증가하였다. 따라서, 산업 현장에서는 안전대책이 시급한 현실이다. 본 연구에서는 통신환경이 열악한 고위험 산업현장의 안전관리를 위하여 BLE Mesh 네트워킹 기술을 적용한다. 복합 센서 AIoT 디바이스로 가스 센싱값, 음성, 모션값을 실시간으로 수집하여, 인공지능 LSTM 알고리즘과 CNN 알고리즘을 통해 정보값을 분석하여 위험 상황을 인식하고, 서버에 전송한다. 서버에서는 전송 받은 위험정보를 실시간으로 모니터링 하여 즉각적인 구호조치가 수행되도록 한다. 본 연구에서 제안하는 AIoT 디바이스와 안전관리 시스템을 고위험군 산업 현장에 적용함으로써, 산업재해를 최소화하고 사회안전망 확대에도 기여할 것이다.\\n\\nThe government enacted and promulgated the \"Severe Accident Punishment Act\" in January 2021 and is implementing this law. However, the number of occupational accidents in 2021 increased by 10.7% compared to the same period of the previous year. Therefore, safety measures are urgently needed in the industrial field. In this study, BLE Mesh networking technology is applied for safety management of high-risk industrial sites with poor communication environment. The complex sensor AIoT device collects gas sensing values, voice and motion values in real time, analyzes the information values through artificial intelligence LSTM algorithm and CNN algorithm, and recognizes dangerous situations and transmits them to the server. The server monitors the transmitted risk information in real time so that immediate relief measures are taken. By applying the AIoT device and safety management system proposed in this study to high-risk industrial sites, it will minimize industrial accidents and contribute to the expansion of the social safety net. The government enacted and promulgated the \"Severe Accident Punishment Act\" in January 2021 and is implementing this law. However, the number of occupational accidents in 2021 increased by 10.7% compared to the same period of the previous year. Therefore, safety measures are urgently needed in the industrial field. In this study, BLE Mesh networking technology is applied for safety management of high-risk industrial sites with poor communication environment. The complex sensor AIoT device collects gas sensing values, voice and motion values in real time, analyzes the information values through artificial intelligence LSTM algorithm and CNN algorithm, and recognizes dangerous situations and transmits them to the server. The server monitors the transmitted risk information in real time so that immediate relief measures are taken. By applying the AIoT device and safety management system proposed in this study to high-risk industrial sites, it will minimize industrial accidents and contribute to the expansion of the social safety net.', 'vacant', 'IoT 기반의 스마트 환경하에서 사용자 맞춤형 서비스를 제공하기 위해 동적으로 변화하는 상황 정보를 이용한 인공지능 몰입증강 기술을 제안한다. 이를 검증하기 위해 3차원 공간상의 사용자의 얼굴검출과 손, 손가락의 움직임 정보를 KNN 기법으로 검출하고, 검출된 정보를 활용하여 가상공간 객체와 상호작용을 한다. 이 과정에 사용자의 콘텐츠 몰입과 만족도 정도를 사용자 얼굴에 나타난 감정 정보를 인공지능 기법을 사용해 검출하고, 동시에 눈의 깜빡임, 하품 정보 등을 분석해 신뢰성 있는 상황 정보를 만들어 사용자의 감정과 신체상황에 기반한 맞춤형 서비스를 제공하는 방법이다. 제안한 알고리즘 실험결과 사용자의 섬세한 감정인식뿐 아니라 눈의 깜빡임, 하품 등의 신체 변화 분석을 통한 인공지능 기반 몰입 증강 기술의 유의미한 성능을 확인할 수 있었다. 제안한 방법은 사람을 더 잘 이해할 수 있는 기술을 만드는 기본 자료로 활용될 수 있다.\\n\\nWe propose an artificial intelligence immersion enhancement technology using dynamically changing context information to provide customized services in an IoT-based smart environment. To verify this, the user\"s face detection and hand and finger movement information in 3D space are detected using the KNN technique, and the detected information is used to interact with the virtual space object. In this process, the user\"s content immersion and satisfaction level is detected using artificial intelligence techniques to detect the emotional information displayed on the user\"s face, and at the same time, it analyzes eye blinking and yawning information to create reliable situational information. And provide customized services based on the user\"s emotions and physical conditions. As a result of the proposed algorithm experiment it was possible to confirm the meaningful performance of AI-based immersion enhancement technology through analysis of body changes such as blinking eyes and yawning as well as sensitive emotional recognition of users. The proposed method can be used as a basic data to create a technology that can better understand people. We propose an artificial intelligence immersion enhancement technology using dynamically changing context information to provide customized services in an IoT-based smart environment. To verify this, the user\"s face detection and hand and finger movement information in 3D space are detected using the KNN technique, and the detected information is used to interact with the virtual space object. In this process, the user\"s content immersion and satisfaction level is detected using artificial intelligence techniques to detect the emotional information displayed on the user\"s face, and at the same time, it analyzes eye blinking and yawning information to create reliable situational information. And provide customized services based on the user\"s emotions and physical conditions. As a result of the proposed algorithm experiment it was possible to confirm the meaningful performance of AI-based immersion enhancement technology through analysis of body changes such as blinking eyes and yawning as well as sensitive emotional recognition of users. The proposed method can be used as a basic data to create a technology that can better understand people.', '인공지능(artificial intelligence, AI)의 영향력이 커지면서, AI의 윤리적인 이슈들이 주목받고 있다. 이에 따라 AI 교육에서 AI 윤리에 대해서도 심도 있게 다뤄야 한다는 목소리가 나오고 있다. 하지만 특히 초중등학교 급에서 AI 윤리의 다양한 주제에 대해 다루고 있는 교육 프로그램은 아직 부족한 것이 현실이다. 이에 본 연구에서는 ADDIE 모형을 기반으로 초중등 학생을 위한 AI 윤리 교육 프로그램을 개발하고, 이를 적용하여 효과성을 검증하였다. 먼저 선행 연구 분석을 통해 AI 윤리 교육 프로그램에서 다룰 주제를 ‘신뢰성’, ‘편향성’, ‘악용가능성’, ‘책임성’ 네 가지로 선정하고, 이를 바탕으로 교육 목표와 성격, 내용의 초안을 설계하였다. 이후 개발된 초안을 파일럿 적용하여 시사점을 도출하고, 전문가 평가로부터 프로그램 개선점을 찾아 이를 반영하여 최종 프로그램을 도출하였다. 마지막으로, 최종 프로그램을 전국 초등학교 및 중학교 14개 학급의 312명 학생에게 적용하고, 그 효과성을 사전-사후 설문과 인터뷰를 통해 양적, 질적으로 분석하였다. 분석 결과, 본 교육 프로그램은 학생들의 AI 윤리에 대한 흥미와 AI 윤리 교육 필요성에 대한 인식, 그리고 AI 윤리에 대한 태도에 유의미한 변화를 가져왔다. 본 연구에서 제안한 교육 프로그램은 AI 윤리 교육 프로그램을 설계 및 개발하려는 교육자들에게 참고가 될 수 있다. 또한 본 연구에서 제안한 교육 프로그램을 바탕으로 제작된 교사용 수업 자료 및 학생용 활동지가 웹상에 무료로 배포되어, 초중등학생을 대상으로 AI 윤리 교육을 실행하려는 교육 집단에게 실질적으로 사용될 수 있을 것으로 기대된다.\\n\\nAs the impact of artificial intelligence (AI) grows, ethical concerns about AI are becoming more prominent. As a result, some argue that AI ethics should be covered in depth in AI education. However, education programs dealing with various topics of AI ethics, particularly at the elementary and middle school levels, remain scarce. In this study, an AI ethics education program for elementary and middle school students was developed using the ADDIE model, and its effectiveness was demonstrated. First, five topics to be covered in the AI ethics education program were chosen based on prior research, including \"reliability,\" \"bias,\" \"non-maleficence,\" and \"responsibility.\" On this basis, a draft of educational goals, characteristics, and content was designed. Following that, implications were derived from the pilot program\"s application, and program improvement points were discovered through expert evaluation and reflected on to derive the final program. Finally, the final program was implemented to 312 students in 14 elementary and middle school classes across the country, and its effectiveness was assessed quantitatively and qualitatively via pre-post questionnaires and interviews. As a result of the analysis, this educational program brought significant changes to students\" interest in AI ethics, awareness of the need for AI ethics education, and attitude toward AI ethics. The education program proposed in this study can be a reference for educators who want to design and develop an AI ethics education program. Furthermore, free class materials for teachers and student activity sheets based on the educational program proposed in this study were distributed on the web, and these are expected to be used practically by educational groups that want to implement AI ethics education for elementary and middle school students. As the impact of artificial intelligence (AI) grows, ethical concerns about AI are becoming more prominent. As a result, some argue that AI ethics should be covered in depth in AI education. However, education programs dealing with various topics of AI ethics, particularly at the elementary and middle school levels, remain scarce. In this study, an AI ethics education program for elementary and middle school students was developed using the ADDIE model, and its effectiveness was demonstrated. First, five topics to be covered in the AI ethics education program were chosen based on prior research, including \"reliability,\" \"bias,\" \"non-maleficence,\" and \"responsibility.\" On this basis, a draft of educational goals, characteristics, and content was designed. Following that, implications were derived from the pilot program\"s application, and program improvement points were discovered through expert evaluation and reflected on to derive the final program. Finally, the final program was implemented to 312 students in 14 elementary and middle school classes across the country, and its effectiveness was assessed quantitatively and qualitatively via pre-post questionnaires and interviews. As a result of the analysis, this educational program brought significant changes to students\" interest in AI ethics, awareness of the need for AI ethics education, and attitude toward AI ethics. The education program proposed in this study can be a reference for educators who want to design and develop an AI ethics education program. Furthermore, free class materials for teachers and student activity sheets based on the educational program proposed in this study were distributed on the web, and these are expected to be used practically by educational groups that want to implement AI ethics education for elementary and middle school students.', '우리나라는 2050년 탄소중립을 목표로 신재생에너지 중심으로 에너지 공급원을 전환하고 확대하는 계획을 추진 중이다. 신재생에너지의 간헐적 특성으로 에너지 공급이 불안정성이 커짐에 따라 정확한 신재생에너지 발전량 예측의 중요성이 함께 커지고 있다. 이에 따라 정부는 신재생에너지를 집합화하여 관리하기 위한 소규모 전력중개시장을 개설하였고, 재생에너지 발전량 예측제도를 도입하여 예측정확도에 따라 정산금을 지급하는 제도를 시행 중이다. 본 논문에서는 우리나라 신재생에너지 전원의 대부분을 차지하는 태양광 발전에 대하여 통계적 및 인공지능 모형을 이용하여 예측모델을 구현하였으며, 각 모형의 예측정확도 결과를 비교 분석하였다. 비교 모델 중에서 CNN-LSTM(Convolutional Long Short-Term Memory Neural Networks) 모형이 가장 높은 성능을 가짐을 확인하였다. 예측정확도에 따른 예측제도 정산금 수익을 추정해보았고, 예측보유 기술 수준에 따라 수익 편차가 24% 정도 커질 수 있음을 확인하였다.\\n\\nKorea is pursuing a plan to switch and expand energy sources with a focus on renewable energy with the goal of becoming carbon neutral by 2050. As the instability of energy supply increases due to the intermittent nature of renewable energy, accurate prediction of the amount of renewable energy generation is becoming more important. Therefore, the government has opened a small-scale power brokerage market and is implementing a system that pays settlements according to the accuracy of renewable energy prediction. In this paper, a prediction model was implemented using a statistical model and an artificial intelligence model for the prediction of solar power generation. In addition, the results of prediction accuracy were compared and analyzed, and the revenue from the settlement amount of the renewable energy generation forecasting system was estimated. Korea is pursuing a plan to switch and expand energy sources with a focus on renewable energy with the goal of becoming carbon neutral by 2050. As the instability of energy supply increases due to the intermittent nature of renewable energy, accurate prediction of the amount of renewable energy generation is becoming more important. Therefore, the government has opened a small-scale power brokerage market and is implementing a system that pays settlements according to the accuracy of renewable energy prediction. In this paper, a prediction model was implemented using a statistical model and an artificial intelligence model for the prediction of solar power generation. In addition, the results of prediction accuracy were compared and analyzed, and the revenue from the settlement amount of the renewable energy generation forecasting system was estimated.', 'vacant', 'vacant', '최근 정보통신 및 인공지능 기술의 거듭된 발전은 자율 주행, 디지털 트윈, 가상 현실을 비롯한 다양한 실용 분야 현실화를 가속하고 있으며, 고도의 무선 측위 기술은 이러한 최첨단 기술 연구 및 응용 서비스의 중추적인 역할을 맡고 있다. 기존에는 위성 항법 시스템을 이용한 측위가 주를 이루었지만, 위성 신호가 실외가 아닌 실내, 지하 공간에서 제대로 수신되지 않는 한계를 가지면서 실내 측위 시스템에 대한 관심이 높아졌다. 이로 인해 다양한 측위 기법이 연구되고 있으며, 셀룰러/Wi-Fi 등의 무선 통신을 활용한 측위 기법도 활발히 연구되고 있다. 또한, 최근에는 비약적으로 발전하고 있는 다양한 인공지능 기술들은 무선 측위 기술들의 성능을 향상시킬 뿐 아니라, 기존의 관점에서 해결하지 못하던 문제들을 한계를 해결하고 있다. 본 논문에서는 현재까지 발전해 온 무선 통신 기술에 기반한 무선 측위 기술에 대한 전반적인 내용을 살펴본다. 그리고, 인공지능 기술 중 무선 측위와 융합 가능한 알고리즘에 대한 사례를 알아보고, 이에 관한 이슈 및 새로운 연구 방향에 관해 논한다.\\n\\nRecently, the ongoing development of information communication and AI(Artificial Intelligence) technology is accelerating the realization of various new application fields, including autonomous driving, digital twin, and virtual reality. Additionally, advanced wireless localization technology plays a pivotal role in research and application of these cutting-edge technologies. Traditional wireless localization systems primarily have used GNSS(Global Navigation Satellite System). However, satellite signal was not properly received in indoor or underground environments. For this reason, IPS(Indoor Positioning System) started to draw attention and various localization techniques and localization techniques using wireless communication such as cellular/Wi-Fi have been studied. In addition, various AI technologies, which are rapidly developing, not only improve the performance of wireless localization, but also solve problems that could not be solved from the conventional point of view. In this paper, we introduce the trends of wireless communication systems based wireless localization. Furthermore, we suggest new research directions and prospects based on examples of AI technologies to wireless localization. Recently, the ongoing development of information communication and AI(Artificial Intelligence) technology is accelerating the realization of various new application fields, including autonomous driving, digital twin, and virtual reality. Additionally, advanced wireless localization technology plays a pivotal role in research and application of these cutting-edge technologies. Traditional wireless localization systems primarily have used GNSS(Global Navigation Satellite System). However, satellite signal was not properly received in indoor or underground environments. For this reason, IPS(Indoor Positioning System) started to draw attention and various localization techniques and localization techniques using wireless communication such as cellular/Wi-Fi have been studied. In addition, various AI technologies, which are rapidly developing, not only improve the performance of wireless localization, but also solve problems that could not be solved from the conventional point of view. In this paper, we introduce the trends of wireless communication systems based wireless localization. Furthermore, we suggest new research directions and prospects based on examples of AI technologies to wireless localization.', '현대인들의 건강의 중요성에 대한 인식이 점차 높아지면서 운동에 대한 관심이 증가하고 있다. 최근 코로나19 이후, 집에서 혼자 운동하는 이른바 홈트레이닝에 대한 수요가 증가하고 있다. 본 연구의 목적은 집에서도 운동 중 피드백을 제공하므로 부상의 위험을 줄이는 것이다. 그러나 시장에 나온 제품들은 피드백을 제공하지 않거나 트레이너가 라이브 스트리밍에서 피드백을 제공한다. 또한 영상을 통해 피드백을 받더라도 미세한 움직임에 대한 피드백을 얻을 수 없다. 본 논문은 이러한 문제를 해결하기 위해 IMU 센서 데이터를 활용하여 덤벨컬 운동의 동작분석 인공지능 모델을 연구하였다. SVM, RNN, LSTM, ConvLSTM 모델들을 비교, 분석하고 Confusion Matrix, Roc Curve과 AUC를 이용하여 최적의 덤벨컬 운동에 대한 동작인식 인공지능 모델을 제시하였다. 본 연구를 통해, 집에서도 개인 트레이너 없이 동작인식 인공지능 모델을 활용하여 부상의 위험을 줄이면서 안전하게 운동할 수 있다는 것을 확인하였다.\\n\\nWith the increasing awareness of the importance of health among modern people, interest in exercise is increasing. Recently, after COVID-19, the demand for so-called home training, where you exercise alone at home, is increasing. The purpose of this study is to reduce the risk of injury by providing feedback during exercise at home. However, products on the market do not provide feedback, or trainers provide feedback on live streams. Also, even if you receive feedback through the video, you cannot get feedback on small movements. To solve this problem, we studied the motion analysis AI model of dumbbell curl exercise using IMU sensor data. We compared and analyzed SVM, RNN, LSTM, and ConvLSTM models, and presented a motion recognition artificial intelligence model for optimal dumbbell curl exercise using Confusion Matrix, Roc Curve, and AUC. With the increasing awareness of the importance of health among modern people, interest in exercise is increasing. Recently, after COVID-19, the demand for so-called home training, where you exercise alone at home, is increasing. The purpose of this study is to reduce the risk of injury by providing feedback during exercise at home. However, products on the market do not provide feedback, or trainers provide feedback on live streams. Also, even if you receive feedback through the video, you cannot get feedback on small movements. To solve this problem, we studied the motion analysis AI model of dumbbell curl exercise using IMU sensor data. We compared and analyzed SVM, RNN, LSTM, and ConvLSTM models, and presented a motion recognition artificial intelligence model for optimal dumbbell curl exercise using Confusion Matrix, Roc Curve, and AUC.', 'The development of artificial intelligence (AI) has brought many changes to a variety of industrial fields. However, there are problems when applying AI due to the various environmental factors in industrial sites. In particular, the object detection model used for robot depalletizing often deteriorates over time due to the distribution of data changing every moment. While it is possible to maintain the performance of the model through additional data acquisition, continuous data acquisition is costly. Therefore, data augmentation techniques are used to reduce costs and maintain performance. However, data augmented by existing augmentation techniques do not significantly change in terms of the distribution of existing data, rendering it difficult to maintain the performance of the object detection model. In this paper, we develop a data augmentation pipeline based on generative adversarial networks, which is effective at maintaining performance and reducing the cost of object detection models. The proposed pipeline is composed of a data generator model and an object detection model. The generator model uses a small amount of training data to generate data with a new distribution, while the object detection model is trained with both training and generated data. The object detection model trained through the pipeline with 100 pieces of training data exhibited better performance on new data distribution by 9.9% AP compared to the model trained with 2000 pieces of training data. In addition, the results of the qualitative analysis confirmed that a representative error occurring in robot depalletizing could be improved by the proposed pipeline.', 'vacant']\n"
     ]
    }
   ],
   "source": [
    "containers = browser.find_elements(By.CLASS_NAME, 'thesis__summary')\n",
    "print(containers)\n",
    "\n",
    "link_list = []    \n",
    "# 2. 뒤로 가기 없이 링크로 직접 이동\n",
    "for container in containers:\n",
    "    link = container.find_element(By.CLASS_NAME, 'thesis__link').get_attribute('href')\n",
    "    link_list.append(link)\n",
    "\n",
    "print(link_list)\n",
    "\n",
    "content_list = []\n",
    "for link in link_list:\n",
    "    \n",
    "    browser.get(link)\n",
    "    time.sleep(3)\n",
    "    \n",
    "    try:\n",
    "        content = browser.find_element(By.CLASS_NAME, 'abstractTxt').text\n",
    "    except:\n",
    "        content = \"vacant\"\n",
    "    \n",
    "    content_list.append(content)\n",
    "\n",
    "print(content_list)"
   ]
  },
  {
   "cell_type": "code",
   "execution_count": null,
   "id": "9d0e3618",
   "metadata": {},
   "outputs": [],
   "source": []
  },
  {
   "cell_type": "code",
   "execution_count": null,
   "id": "e814ca78",
   "metadata": {},
   "outputs": [],
   "source": []
  },
  {
   "cell_type": "code",
   "execution_count": null,
   "id": "2b152347",
   "metadata": {},
   "outputs": [],
   "source": []
  }
 ],
 "metadata": {
  "kernelspec": {
   "display_name": "Python 3.7.13 ('snake')",
   "language": "python",
   "name": "python3"
  },
  "language_info": {
   "codemirror_mode": {
    "name": "ipython",
    "version": 3
   },
   "file_extension": ".py",
   "mimetype": "text/x-python",
   "name": "python",
   "nbconvert_exporter": "python",
   "pygments_lexer": "ipython3",
   "version": "3.7.13"
  },
  "vscode": {
   "interpreter": {
    "hash": "e11bcb469b452252c56617e12dbf8783bee893ca311ba75755e6042d61ffc62c"
   }
  }
 },
 "nbformat": 4,
 "nbformat_minor": 5
}

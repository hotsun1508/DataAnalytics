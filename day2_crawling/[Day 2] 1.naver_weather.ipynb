{
 "cells": [
  {
   "cell_type": "markdown",
   "id": "6f40334d",
   "metadata": {},
   "source": [
    "# 크롤링 기초\n",
    "- 참고링크: https://www.notion.so/Chapter-8-7cd4ff9c3fd140cebec57da25fade2e6\n",
    "\n",
    "## 네이버 날씨 데이터 가져오기"
   ]
  },
  {
   "cell_type": "code",
   "execution_count": 13,
   "id": "f44cc093",
   "metadata": {},
   "outputs": [],
   "source": [
    "# pip install selenium"
   ]
  },
  {
   "cell_type": "code",
   "execution_count": 14,
   "id": "03d2f53b",
   "metadata": {},
   "outputs": [],
   "source": [
    "from selenium import webdriver"
   ]
  },
  {
   "cell_type": "code",
   "execution_count": 15,
   "id": "306ca2a3",
   "metadata": {},
   "outputs": [],
   "source": [
    "browser = webdriver.Chrome()"
   ]
  },
  {
   "cell_type": "code",
   "execution_count": 16,
   "id": "f19c51b2",
   "metadata": {},
   "outputs": [],
   "source": [
    "browser.get(\"http://www.naver.com\")"
   ]
  },
  {
   "cell_type": "code",
   "execution_count": 19,
   "id": "3e0b3de9",
   "metadata": {},
   "outputs": [],
   "source": [
    "browser.back()"
   ]
  },
  {
   "cell_type": "code",
   "execution_count": 20,
   "id": "d539af69",
   "metadata": {},
   "outputs": [],
   "source": [
    "browser.forward()"
   ]
  },
  {
   "cell_type": "code",
   "execution_count": 21,
   "id": "eaf1e302",
   "metadata": {},
   "outputs": [],
   "source": [
    "browser.refresh()"
   ]
  },
  {
   "cell_type": "code",
   "execution_count": 23,
   "id": "7fe75bf7",
   "metadata": {},
   "outputs": [],
   "source": [
    "from selenium.webdriver.common.by import By"
   ]
  },
  {
   "cell_type": "code",
   "execution_count": 25,
   "id": "629bb71c",
   "metadata": {},
   "outputs": [],
   "source": [
    "browser.find_element(By.ID, 'query').click()"
   ]
  },
  {
   "cell_type": "code",
   "execution_count": 30,
   "id": "996feb1a",
   "metadata": {},
   "outputs": [],
   "source": [
    "browser.find_element(By.ID, 'query').send_keys(\"날씨\")"
   ]
  },
  {
   "cell_type": "code",
   "execution_count": 31,
   "id": "402b5b58",
   "metadata": {},
   "outputs": [],
   "source": [
    "# browser.find_element(By.ID, 'search_btn').click() \n",
    "browser.find_element(By.CLASS_NAME, 'btn_submit').click() "
   ]
  },
  {
   "cell_type": "code",
   "execution_count": 41,
   "id": "d79216ed",
   "metadata": {},
   "outputs": [
    {
     "data": {
      "text/plain": [
       "'사용자 링크'"
      ]
     },
     "execution_count": 41,
     "metadata": {},
     "output_type": "execute_result"
    }
   ],
   "source": [
    "# Element 요소 자체가 옴\n",
    "browser.find_element(By.CLASS_NAME, 'blind')\n",
    "browser.find_element(By.CLASS_NAME, 'blind').text"
   ]
  },
  {
   "cell_type": "code",
   "execution_count": null,
   "id": "fbe4cc9e",
   "metadata": {},
   "outputs": [],
   "source": []
  },
  {
   "cell_type": "markdown",
   "id": "c4499384",
   "metadata": {},
   "source": [
    "## div 태그 가져오는게 제일 좋음 -> 단일 데이터는 XPATH가 가장 수월함"
   ]
  },
  {
   "cell_type": "code",
   "execution_count": 42,
   "id": "cc8aaff3",
   "metadata": {},
   "outputs": [
    {
     "data": {
      "text/plain": [
       "'현재 온도'"
      ]
     },
     "execution_count": 42,
     "metadata": {},
     "output_type": "execute_result"
    }
   ],
   "source": [
    "browser.find_element(By.XPATH, '//*[@id=\"main_pack\"]/section[1]/div[1]/div[2]/div[1]/div[1]/div/div[2]/div/div[1]/div[1]/div[2]/strong/span[1]').text"
   ]
  },
  {
   "cell_type": "code",
   "execution_count": 44,
   "id": "54c54e48",
   "metadata": {},
   "outputs": [
    {
     "data": {
      "text/plain": [
       "'현재 온도\\n16.1°'"
      ]
     },
     "execution_count": 44,
     "metadata": {},
     "output_type": "execute_result"
    }
   ],
   "source": [
    "# class명: temperature_text\n",
    "browser.find_element(By.XPATH, '//*[@id=\"main_pack\"]/section[1]/div[1]/div[2]/div[1]/div[1]/div/div[2]/div/div[1]/div[1]/div[2]').text"
   ]
  },
  {
   "cell_type": "code",
   "execution_count": 46,
   "id": "2f6bdceb",
   "metadata": {},
   "outputs": [
    {
     "data": {
      "text/plain": [
       "'16.1°'"
      ]
     },
     "execution_count": 46,
     "metadata": {},
     "output_type": "execute_result"
    }
   ],
   "source": [
    "data = browser.find_element(By.XPATH, '//*[@id=\"main_pack\"]/section[1]/div[1]/div[2]/div[1]/div[1]/div/div[2]/div/div[1]/div[1]/div[2]').text\n",
    "data[6:]"
   ]
  },
  {
   "cell_type": "code",
   "execution_count": 76,
   "id": "1b4d760b",
   "metadata": {},
   "outputs": [
    {
     "data": {
      "text/plain": [
       "'°'"
      ]
     },
     "execution_count": 76,
     "metadata": {},
     "output_type": "execute_result"
    }
   ],
   "source": [
    "data[-1]"
   ]
  },
  {
   "cell_type": "code",
   "execution_count": 50,
   "id": "53f14229",
   "metadata": {
    "scrolled": true
   },
   "outputs": [
    {
     "data": {
      "text/plain": [
       "'°'"
      ]
     },
     "execution_count": 50,
     "metadata": {},
     "output_type": "execute_result"
    }
   ],
   "source": [
    "# celcius 만 가져오기\n",
    "\n",
    "browser.find_element(By.XPATH, '//*[@id=\"main_pack\"]/section[1]/div[1]/div[2]/div[1]/div[1]/div/div[2]/div/div[1]/div[1]/div[2]').find_element(By.CLASS_NAME, 'celsius').text"
   ]
  },
  {
   "cell_type": "markdown",
   "id": "1f160368",
   "metadata": {},
   "source": [
    "## 환율 가져와보자"
   ]
  },
  {
   "cell_type": "code",
   "execution_count": 83,
   "id": "8dd3d689",
   "metadata": {},
   "outputs": [],
   "source": [
    "browser.find_element(By.ID, 'nx_query').clear()"
   ]
  },
  {
   "cell_type": "code",
   "execution_count": 84,
   "id": "4771366c",
   "metadata": {},
   "outputs": [],
   "source": [
    "browser.find_element(By.ID, 'nx_query').click()"
   ]
  },
  {
   "cell_type": "code",
   "execution_count": 85,
   "id": "535888fc",
   "metadata": {},
   "outputs": [],
   "source": [
    "browser.find_element(By.ID, 'nx_query').send_keys(\"환율\")"
   ]
  },
  {
   "cell_type": "code",
   "execution_count": 86,
   "id": "62d74550",
   "metadata": {},
   "outputs": [],
   "source": [
    "browser.find_element(By.CLASS_NAME, 'bt_search').click() "
   ]
  },
  {
   "cell_type": "code",
   "execution_count": 87,
   "id": "f17bf674",
   "metadata": {},
   "outputs": [
    {
     "data": {
      "text/plain": [
       "'1,432.80'"
      ]
     },
     "execution_count": 87,
     "metadata": {},
     "output_type": "execute_result"
    }
   ],
   "source": [
    "browser.find_element(By.CLASS_NAME, 'spt_con.dw').find_element(By.TAG_NAME, 'strong').text"
   ]
  },
  {
   "cell_type": "code",
   "execution_count": 92,
   "id": "e7f217da",
   "metadata": {
    "scrolled": true
   },
   "outputs": [
    {
     "data": {
      "text/plain": [
       "True"
      ]
     },
     "execution_count": 92,
     "metadata": {},
     "output_type": "execute_result"
    }
   ],
   "source": [
    "browser.find_element(By.ID, '_exchange_chart0').screenshot('./img.png') "
   ]
  },
  {
   "cell_type": "code",
   "execution_count": null,
   "id": "2bb39fa2",
   "metadata": {},
   "outputs": [],
   "source": []
  },
  {
   "cell_type": "markdown",
   "id": "ed4e2c08",
   "metadata": {},
   "source": [
    "## 표 가져오기"
   ]
  },
  {
   "cell_type": "code",
   "execution_count": 72,
   "id": "708c5743",
   "metadata": {},
   "outputs": [
    {
     "data": {
      "text/plain": [
       "'통화명\\n매매기준율\\n전일대비\\n등락률\\n미국 USD\\n1,433.30\\n전일대비\\n하락8.70\\n-0.60%\\n일본 JPY 100\\n962.62\\n전일대비\\n하락2.99\\n-0.31%\\n유럽연합 EUR\\n1,415.38\\n전일대비\\n하락0.38\\n-0.03%\\n중국 CNY\\n195.29\\n전일대비\\n하락2.08\\n-1.05%\\n영국 GBP\\n1,617.19\\n전일대비\\n하락11.04\\n-0.68%\\n호주 AUD\\n906.99\\n전일대비\\n하락0.53\\n-0.06%\\n캐나다 CAD\\n1,045.98\\n전일대비\\n하락4.70\\n-0.45%\\n뉴질랜드 NZD\\n818.56\\n전일대비\\n하락1.22\\n-0.15%'"
      ]
     },
     "execution_count": 72,
     "metadata": {},
     "output_type": "execute_result"
    }
   ],
   "source": [
    "browser.find_element(By.CLASS_NAME, 'rate_table_info').text"
   ]
  },
  {
   "cell_type": "markdown",
   "id": "33e25694",
   "metadata": {},
   "source": [
    "## 구글 -> 자동화 -> 뉴스 크롤링\n",
    "## 1. 요소 하나만 가져오기"
   ]
  },
  {
   "cell_type": "code",
   "execution_count": 93,
   "id": "7e126c02",
   "metadata": {},
   "outputs": [],
   "source": [
    "browser.get(\"https://www.google.com/search?q=%EC%9E%90%EB%8F%99%ED%99%94&sxsrf=ALiCzsZTrMxkp0WuXjFLuuVIQi14b9kHkA:1666679276742&source=lnms&tbm=nws&sa=X&ved=2ahUKEwjgkvqR4Pr6AhXU7WEKHYeICTgQ_AUoAXoECAEQAw&biw=767&bih=704&dpr=1.25\")"
   ]
  },
  {
   "cell_type": "code",
   "execution_count": 101,
   "id": "903dfde4",
   "metadata": {
    "scrolled": true
   },
   "outputs": [
    {
     "data": {
      "text/plain": [
       "\"연합뉴스\\n한화생명 청약자동화 솔루션 특허…GA설계사 업무간소화\\n(서울=연합뉴스) 이지헌 기자 = 한화생명[088350]은 보험설계 및 청약 업무 프로세스 자동화 기술인 '청약 자동화 솔루션'이 BM 특허를 ...\\n.\\n5시간 전\""
      ]
     },
     "execution_count": 101,
     "metadata": {},
     "output_type": "execute_result"
    }
   ],
   "source": [
    "browser.find_element(By.CLASS_NAME, 'WlydOe').text"
   ]
  },
  {
   "cell_type": "code",
   "execution_count": 144,
   "id": "a511ea90",
   "metadata": {},
   "outputs": [
    {
     "data": {
      "text/plain": [
       "'YKoRaf'"
      ]
     },
     "execution_count": 144,
     "metadata": {},
     "output_type": "execute_result"
    }
   ],
   "source": [
    "browser.find_element(By.CLASS_NAME, 'WlydOe').get_attribute('jsname')"
   ]
  },
  {
   "cell_type": "code",
   "execution_count": 109,
   "id": "eb4a32ab",
   "metadata": {},
   "outputs": [
    {
     "data": {
      "text/plain": [
       "'한화생명 청약자동화 솔루션 특허…GA설계사 업무간소화'"
      ]
     },
     "execution_count": 109,
     "metadata": {},
     "output_type": "execute_result"
    }
   ],
   "source": [
    "title = browser.find_element(By.CLASS_NAME, 'WlydOe').find_element(By.CLASS_NAME, 'mCBkyc.y355M.ynAwRc.MBeuO.nDgy9d').text\n",
    "title"
   ]
  },
  {
   "cell_type": "code",
   "execution_count": 110,
   "id": "98422509",
   "metadata": {},
   "outputs": [
    {
     "data": {
      "text/plain": [
       "\"(서울=연합뉴스) 이지헌 기자 = 한화생명[088350]은 보험설계 및 청약 업무 프로세스 자동화 기술인 '청약 자동화 솔루션'이 BM 특허를 ...\""
      ]
     },
     "execution_count": 110,
     "metadata": {},
     "output_type": "execute_result"
    }
   ],
   "source": [
    "content = browser.find_element(By.CLASS_NAME, 'WlydOe').find_element(By.CLASS_NAME, 'GI74Re.nDgy9d').text\n",
    "content"
   ]
  },
  {
   "cell_type": "code",
   "execution_count": 112,
   "id": "046e5724",
   "metadata": {},
   "outputs": [
    {
     "data": {
      "text/plain": [
       "'https://www.yna.co.kr/view/AKR20221025034300002'"
      ]
     },
     "execution_count": 112,
     "metadata": {},
     "output_type": "execute_result"
    }
   ],
   "source": [
    "link = browser.find_element(By.CLASS_NAME, 'WlydOe').get_attribute('href')\n",
    "link"
   ]
  },
  {
   "cell_type": "markdown",
   "id": "15bac88e",
   "metadata": {},
   "source": [
    "## 요소 여러개 가져오기"
   ]
  },
  {
   "cell_type": "code",
   "execution_count": 153,
   "id": "3e83cc95",
   "metadata": {
    "scrolled": true
   },
   "outputs": [
    {
     "data": {
      "text/plain": [
       "[<selenium.webdriver.remote.webelement.WebElement (session=\"837bdb12e76f0f7d59ee73920017c105\", element=\"27afb0d9-ef93-477a-9acc-fdfc9f72cb52\")>,\n",
       " <selenium.webdriver.remote.webelement.WebElement (session=\"837bdb12e76f0f7d59ee73920017c105\", element=\"dcd7c94f-9811-4842-a92d-b88121540e98\")>,\n",
       " <selenium.webdriver.remote.webelement.WebElement (session=\"837bdb12e76f0f7d59ee73920017c105\", element=\"1cedfa64-8142-456b-b764-28a8a2fd1a04\")>,\n",
       " <selenium.webdriver.remote.webelement.WebElement (session=\"837bdb12e76f0f7d59ee73920017c105\", element=\"b75e7531-61de-4d58-8bca-03dc06095b4a\")>,\n",
       " <selenium.webdriver.remote.webelement.WebElement (session=\"837bdb12e76f0f7d59ee73920017c105\", element=\"2c689d18-b213-48b3-8e96-0848bd338d2d\")>,\n",
       " <selenium.webdriver.remote.webelement.WebElement (session=\"837bdb12e76f0f7d59ee73920017c105\", element=\"c0801441-d459-4e1d-8be2-8e227eb2fc8e\")>,\n",
       " <selenium.webdriver.remote.webelement.WebElement (session=\"837bdb12e76f0f7d59ee73920017c105\", element=\"7ed0243d-0a3f-4e59-98d0-531953eb066e\")>,\n",
       " <selenium.webdriver.remote.webelement.WebElement (session=\"837bdb12e76f0f7d59ee73920017c105\", element=\"19d7585c-d074-42af-a84b-f3dd9dfa8502\")>,\n",
       " <selenium.webdriver.remote.webelement.WebElement (session=\"837bdb12e76f0f7d59ee73920017c105\", element=\"66ae1a2d-e6cf-4211-841d-377bee061588\")>,\n",
       " <selenium.webdriver.remote.webelement.WebElement (session=\"837bdb12e76f0f7d59ee73920017c105\", element=\"93f387e7-b285-4d72-97b6-393d64fb8e90\")>]"
      ]
     },
     "execution_count": 153,
     "metadata": {},
     "output_type": "execute_result"
    }
   ],
   "source": [
    "page = browser.find_elements(By.CLASS_NAME, 'WlydOe')\n",
    "page"
   ]
  },
  {
   "cell_type": "markdown",
   "id": "422defec",
   "metadata": {},
   "source": [
    "## 내가 해본 크롤링"
   ]
  },
  {
   "cell_type": "code",
   "execution_count": 154,
   "id": "92e5bea3",
   "metadata": {},
   "outputs": [
    {
     "name": "stdout",
     "output_type": "stream",
     "text": [
      "a\n",
      "b\n",
      "c\n",
      "d\n"
     ]
    }
   ],
   "source": [
    "lists = [\"a\", \"b\", \"c\", \"d\"]\n",
    "for i in lists:\n",
    "    print(i)"
   ]
  },
  {
   "cell_type": "code",
   "execution_count": 155,
   "id": "dd022674",
   "metadata": {},
   "outputs": [
    {
     "name": "stdout",
     "output_type": "stream",
     "text": [
      "1\n",
      "title:  한화생명 청약자동화 솔루션 특허…GA설계사 업무간소화\n",
      "content:  (서울=연합뉴스) 이지헌 기자 = 한화생명[088350]은 보험설계 및 청약 업무 프로세스 자동화 기술인 '청약 자동화 솔루션'이 BM 특허를 ...\n",
      "link:  https://www.yna.co.kr/view/AKR20221025034300002 \n",
      "\n",
      "2\n",
      "title:  한화생명, 청약자동화 솔루션 특허 취득 - 서울경제\n",
      "content:  한화생명이 업계 최초로 보험 신계약 과정을 로봇 기술로 자동화하며 법인대리점(GA) 시장에서의 영업 경쟁력 강화에 나섰다. 25...\n",
      "link:  https://www.sedaily.com/NewsView/26CHK5V7NA \n",
      "\n",
      "3\n",
      "title:  한화생명, 보험 계약 자동화 솔루션 특허 취득\n",
      "content:  한화생명은 25일 보험설계와 계약 업무 프로세스를 자동화하는 기술인 \"청약자동화 솔루션\"이 특허청으로부터 \"BM(Business Method)특허&quo...\n",
      "link:  https://news.mt.co.kr/mtview.php?no=2022102510404686281 \n",
      "\n",
      "4\n",
      "title:  한화생명, 청약자동화 솔루션 특허 취득\n",
      "content:  한화생명이 업계 최초로 보험 신계약 과정을 로봇 기술로 자동화하며 법인대리점(GA) 시장에서의 영업 경쟁력 강화에 나섰다.한화생명은 보험설계 및...\n",
      "link:  https://www.straightnews.co.kr/news/articleView.html?idxno=219294 \n",
      "\n",
      "5\n",
      "title:  한화생명 보험가입 5분이면 끝…청약자동화 솔루션 특허 취득\n",
      "content:  한화생명이 청약자동화 솔루션을 개발하고 특허청으로부터 BM특허를 받았다. 사진은 이번 솔루션 개발과 특허 출원에 나선 (왼쪽부터) 김도형 영업...\n",
      "link:  https://biz.sbs.co.kr/article/20000086101 \n",
      "\n",
      "6\n",
      "title:  한화생명, 청약자동화 솔루션 특허 취득\n",
      "content:  한화생명이 보험가입부터 청약까지 5분이면 마칠 수 있는 로봇 기술을 도입해 법인보험대리점(GA) 시장 영업 경쟁력 강화에 나섰다.\n",
      "link:  https://www.etnews.com/20221025000069 \n",
      "\n",
      "7\n",
      "title:  한화생명 청약자동화 솔루션 특허GA설계사 업무간소화\n",
      "content:  한화생명 청약자동화 솔루션 특허…GA설계사 업무간소화(서울=연합뉴스) 이지헌 기자 = 한화생명[088350]은 보험설계 및 청약 업무 프로세스 자동화...\n",
      "link:  https://www.wowtv.co.kr/NewsCenter/News/Read?articleId=AKR20221025034300002 \n",
      "\n",
      "8\n",
      "title:  한화생명, 청약자동화 솔루션 특허 취득 -\n",
      "content:  청약자동화 솔루션 특허 출원 주역들. (왼쪽부터)김도형 영업추진팀 과장, 김창완 IT운영팀 파트장, 신종연 영업추진팀 파트장, 채경훈 IT운영팀 과장...\n",
      "link:  http://www.dt.co.kr/contents.html?article_no=2022102502109963076006 \n",
      "\n",
      "9\n",
      "title:  자동화로 네트워크 전체 스위치 업그레이드를 효율화하는 방법\n",
      "content:  자동화는 반복적인 네트워킹 작업에서 큰 차이를 만들어낼 수 있다. 파이썬 스크립트와 오픈소스 툴을 사용해 엔터프라이즈 스위치 업그레이드를...\n",
      "link:  https://www.itworld.co.kr/news/260974 \n",
      "\n",
      "10\n",
      "title:  롯데홈쇼핑, 이천 물류센터 오픈...최첨단 자동화 시스템 도입\n",
      "content:  롯데홈쇼핑(대표 이완신)은 지난 21일 경기도 이천에서 업계 최초로 자동화 시스템을 도입해 최첨단 물류 인프라를 구현한 '이천 물류센터' 오픈식을...\n",
      "link:  http://www.nextdaily.co.kr/news/articleView.html?idxno=211142 \n",
      "\n"
     ]
    }
   ],
   "source": [
    "for i, news in enumerate(page):\n",
    "    title = news.find_element(By.CLASS_NAME, 'mCBkyc.y355M.ynAwRc.MBeuO.nDgy9d').text\n",
    "    content = news.find_element(By.CLASS_NAME, 'GI74Re.nDgy9d').text\n",
    "    link = news.get_attribute('href')\n",
    "    print(i+1)\n",
    "    print(\"title: \", title)\n",
    "    print(\"content: \", content)    \n",
    "    print(\"link: \", link, \"\\n\")    "
   ]
  },
  {
   "cell_type": "code",
   "execution_count": 114,
   "id": "ca6662d1",
   "metadata": {},
   "outputs": [
    {
     "name": "stdout",
     "output_type": "stream",
     "text": [
      "Collecting pandasNote: you may need to restart the kernel to use updated packages.\n",
      "\n",
      "  Downloading pandas-1.5.1-cp39-cp39-win_amd64.whl (10.9 MB)\n",
      "     ---------------------------------------- 10.9/10.9 MB 2.8 MB/s eta 0:00:00\n",
      "Requirement already satisfied: pytz>=2020.1 in c:\\users\\sunah\\anaconda3\\lib\\site-packages (from pandas) (2022.1)\n",
      "Requirement already satisfied: python-dateutil>=2.8.1 in c:\\users\\sunah\\anaconda3\\lib\\site-packages (from pandas) (2.8.2)\n",
      "Requirement already satisfied: numpy>=1.20.3 in c:\\users\\sunah\\anaconda3\\lib\\site-packages (from pandas) (1.21.5)\n",
      "Requirement already satisfied: six>=1.5 in c:\\users\\sunah\\anaconda3\\lib\\site-packages (from python-dateutil>=2.8.1->pandas) (1.16.0)\n",
      "Installing collected packages: pandas\n",
      "Successfully installed pandas-1.5.1\n"
     ]
    }
   ],
   "source": [
    "pip install pandas"
   ]
  },
  {
   "cell_type": "code",
   "execution_count": 139,
   "id": "eac09db7",
   "metadata": {
    "scrolled": true
   },
   "outputs": [],
   "source": [
    "import pandas as pd"
   ]
  },
  {
   "cell_type": "code",
   "execution_count": 147,
   "id": "4ab2bd86",
   "metadata": {},
   "outputs": [
    {
     "data": {
      "text/html": [
       "<div>\n",
       "<style scoped>\n",
       "    .dataframe tbody tr th:only-of-type {\n",
       "        vertical-align: middle;\n",
       "    }\n",
       "\n",
       "    .dataframe tbody tr th {\n",
       "        vertical-align: top;\n",
       "    }\n",
       "\n",
       "    .dataframe thead th {\n",
       "        text-align: right;\n",
       "    }\n",
       "</style>\n",
       "<table border=\"1\" class=\"dataframe\">\n",
       "  <thead>\n",
       "    <tr style=\"text-align: right;\">\n",
       "      <th></th>\n",
       "      <th>title</th>\n",
       "      <th>content</th>\n",
       "      <th>link</th>\n",
       "    </tr>\n",
       "  </thead>\n",
       "  <tbody>\n",
       "  </tbody>\n",
       "</table>\n",
       "</div>"
      ],
      "text/plain": [
       "Empty DataFrame\n",
       "Columns: [title, content, link]\n",
       "Index: []"
      ]
     },
     "execution_count": 147,
     "metadata": {},
     "output_type": "execute_result"
    }
   ],
   "source": [
    "news_df = pd.DataFrame()\n",
    "news_df['title']= title\n",
    "news_df['content']= title\n",
    "news_df['link']= title\n",
    "\n",
    "news_df"
   ]
  },
  {
   "cell_type": "code",
   "execution_count": null,
   "id": "35f03346",
   "metadata": {},
   "outputs": [],
   "source": []
  },
  {
   "cell_type": "code",
   "execution_count": null,
   "id": "ab37c7ac",
   "metadata": {},
   "outputs": [],
   "source": []
  },
  {
   "cell_type": "markdown",
   "id": "ada4d59c",
   "metadata": {},
   "source": [
    "## 구글 뉴스 크롤링 -> 강사님"
   ]
  },
  {
   "cell_type": "code",
   "execution_count": 159,
   "id": "64be9440",
   "metadata": {},
   "outputs": [],
   "source": [
    "# find_elements: 리스트로 여러개 가져오기 \n",
    "titles = browser.find_elements(By.CLASS_NAME, 'mCBkyc')  \n",
    "contents = browser.find_elements(By.CLASS_NAME, 'GI74Re') \n",
    "links = browser.find_elements(By.CLASS_NAME, 'GI74Re') \n",
    "        # get_attribute('href')"
   ]
  },
  {
   "cell_type": "code",
   "execution_count": 184,
   "id": "00aa835c",
   "metadata": {},
   "outputs": [
    {
     "data": {
      "text/plain": [
       "['한화생명 청약자동화 솔루션 특허…GA설계사 업무간소화',\n",
       " '한화생명, 청약자동화 솔루션 특허 취득 - 서울경제',\n",
       " '한화생명, 보험 계약 자동화 솔루션 특허 취득',\n",
       " '한화생명, 청약자동화 솔루션 특허 취득',\n",
       " '한화생명 보험가입 5분이면 끝…청약자동화 솔루션 특허 취득',\n",
       " '한화생명, 청약자동화 솔루션 특허 취득',\n",
       " '한화생명 청약자동화 솔루션 특허GA설계사 업무간소화',\n",
       " '한화생명, 청약자동화 솔루션 특허 취득 -',\n",
       " '자동화로 네트워크 전체 스위치 업그레이드를 효율화하는 방법',\n",
       " '롯데홈쇼핑, 이천 물류센터 오픈...최첨단 자동화 시스템 도입']"
      ]
     },
     "execution_count": 184,
     "metadata": {},
     "output_type": "execute_result"
    }
   ],
   "source": [
    "titles = browser.find_elements(By.CLASS_NAME, 'mCBkyc')  \n",
    "\n",
    "title = []\n",
    "for i in titles:\n",
    "    title.append(i.text)\n",
    "    \n",
    "title"
   ]
  },
  {
   "cell_type": "code",
   "execution_count": 188,
   "id": "559376a3",
   "metadata": {},
   "outputs": [
    {
     "data": {
      "text/plain": [
       "[\"(서울=연합뉴스) 이지헌 기자 = 한화생명[088350]은 보험설계 및 청약 업무 프로세스 자동화 기술인 '청약 자동화 솔루션'이 BM 특허를 ...\",\n",
       " '한화생명이 업계 최초로 보험 신계약 과정을 로봇 기술로 자동화하며 법인대리점(GA) 시장에서의 영업 경쟁력 강화에 나섰다. 25...',\n",
       " '한화생명은 25일 보험설계와 계약 업무 프로세스를 자동화하는 기술인 \"청약자동화 솔루션\"이 특허청으로부터 \"BM(Business Method)특허&quo...',\n",
       " '한화생명이 업계 최초로 보험 신계약 과정을 로봇 기술로 자동화하며 법인대리점(GA) 시장에서의 영업 경쟁력 강화에 나섰다.한화생명은 보험설계 및...',\n",
       " '한화생명이 청약자동화 솔루션을 개발하고 특허청으로부터 BM특허를 받았다. 사진은 이번 솔루션 개발과 특허 출원에 나선 (왼쪽부터) 김도형 영업...',\n",
       " '한화생명이 보험가입부터 청약까지 5분이면 마칠 수 있는 로봇 기술을 도입해 법인보험대리점(GA) 시장 영업 경쟁력 강화에 나섰다.',\n",
       " '한화생명 청약자동화 솔루션 특허…GA설계사 업무간소화(서울=연합뉴스) 이지헌 기자 = 한화생명[088350]은 보험설계 및 청약 업무 프로세스 자동화...',\n",
       " '청약자동화 솔루션 특허 출원 주역들. (왼쪽부터)김도형 영업추진팀 과장, 김창완 IT운영팀 파트장, 신종연 영업추진팀 파트장, 채경훈 IT운영팀 과장...',\n",
       " '자동화는 반복적인 네트워킹 작업에서 큰 차이를 만들어낼 수 있다. 파이썬 스크립트와 오픈소스 툴을 사용해 엔터프라이즈 스위치 업그레이드를...',\n",
       " \"롯데홈쇼핑(대표 이완신)은 지난 21일 경기도 이천에서 업계 최초로 자동화 시스템을 도입해 최첨단 물류 인프라를 구현한 '이천 물류센터' 오픈식을...\"]"
      ]
     },
     "execution_count": 188,
     "metadata": {},
     "output_type": "execute_result"
    }
   ],
   "source": [
    "contents = browser.find_elements(By.CLASS_NAME, 'GI74Re') \n",
    "\n",
    "content = []\n",
    "for i in contents:\n",
    "    content.append(i.text)\n",
    "    \n",
    "content"
   ]
  },
  {
   "cell_type": "code",
   "execution_count": 191,
   "id": "4e6258e0",
   "metadata": {},
   "outputs": [
    {
     "data": {
      "text/plain": [
       "['https://www.yna.co.kr/view/AKR20221025034300002',\n",
       " 'https://www.sedaily.com/NewsView/26CHK5V7NA',\n",
       " 'https://news.mt.co.kr/mtview.php?no=2022102510404686281',\n",
       " 'https://www.straightnews.co.kr/news/articleView.html?idxno=219294',\n",
       " 'https://biz.sbs.co.kr/article/20000086101',\n",
       " 'https://www.etnews.com/20221025000069',\n",
       " 'https://www.wowtv.co.kr/NewsCenter/News/Read?articleId=AKR20221025034300002',\n",
       " 'http://www.dt.co.kr/contents.html?article_no=2022102502109963076006',\n",
       " 'https://www.itworld.co.kr/news/260974',\n",
       " 'http://www.nextdaily.co.kr/news/articleView.html?idxno=211142']"
      ]
     },
     "execution_count": 191,
     "metadata": {},
     "output_type": "execute_result"
    }
   ],
   "source": [
    "links = browser.find_elements(By.CLASS_NAME, 'WlydOe') \n",
    "\n",
    "link = []\n",
    "for i in links:\n",
    "    link.append(i.get_attribute('href'))\n",
    "link"
   ]
  },
  {
   "cell_type": "markdown",
   "id": "019a6406",
   "metadata": {},
   "source": [
    "## pandas 또는 다른 라이브러리 사용 안하고 excel, csv로 저장하기"
   ]
  },
  {
   "cell_type": "code",
   "execution_count": 183,
   "id": "436d9364",
   "metadata": {},
   "outputs": [],
   "source": [
    "file = open(\"test.csv\", \"a\", encoding=\"UTF-8-sig\")  # 파일 만드는 함수\n",
    "file.write(\"{}, {}, {} \\n\".format(\"제목\", \"내용\", \"링크\"))\n",
    "\n",
    "for i in range(len(title)):\n",
    "#      file.write(\"{}, {}, {} \\n\".format(title[0], content[0], link[0]))\n",
    "     file.write(\"{}, {}, {} \\n\".format(title[i], content[i], link[i]))  #comma는 한 칸씩 띄운다는 뜻 \n",
    "    \n",
    "file.close()"
   ]
  },
  {
   "cell_type": "code",
   "execution_count": 174,
   "id": "69b03a29",
   "metadata": {},
   "outputs": [
    {
     "data": {
      "text/plain": [
       "'한화생명 청약자동화 솔루션 특허…GA설계사 업무간소화'"
      ]
     },
     "execution_count": 174,
     "metadata": {},
     "output_type": "execute_result"
    }
   ],
   "source": [
    "title[0]"
   ]
  },
  {
   "cell_type": "code",
   "execution_count": 175,
   "id": "7fa8f17b",
   "metadata": {},
   "outputs": [
    {
     "data": {
      "text/plain": [
       "\"(서울=연합뉴스) 이지헌 기자 = 한화생명[088350]은 보험설계 및 청약 업무 프로세스 자동화 기술인 '청약 자동화 솔루션'이 BM 특허를 ...\""
      ]
     },
     "execution_count": 175,
     "metadata": {},
     "output_type": "execute_result"
    }
   ],
   "source": [
    "content[0]"
   ]
  },
  {
   "cell_type": "markdown",
   "id": "5edf6ac9",
   "metadata": {},
   "source": [
    "### 제목이랑, content에 comma 없애주기 -> 안그러면 comma seperated value여서 칸 여러개로 나눠져서 저장됨\n",
    "# 최종 코드"
   ]
  },
  {
   "cell_type": "code",
   "execution_count": 192,
   "id": "03dcbd57",
   "metadata": {},
   "outputs": [
    {
     "data": {
      "text/plain": [
       "['한화생명 청약자동화 솔루션 특허…GA설계사 업무간소화',\n",
       " '한화생명 청약자동화 솔루션 특허 취득 - 서울경제',\n",
       " '한화생명 보험 계약 자동화 솔루션 특허 취득',\n",
       " '한화생명 청약자동화 솔루션 특허 취득',\n",
       " '한화생명 보험가입 5분이면 끝…청약자동화 솔루션 특허 취득',\n",
       " '한화생명 청약자동화 솔루션 특허 취득',\n",
       " '한화생명 청약자동화 솔루션 특허GA설계사 업무간소화',\n",
       " '한화생명 청약자동화 솔루션 특허 취득 -',\n",
       " '자동화로 네트워크 전체 스위치 업그레이드를 효율화하는 방법',\n",
       " '롯데홈쇼핑 이천 물류센터 오픈...최첨단 자동화 시스템 도입']"
      ]
     },
     "execution_count": 192,
     "metadata": {},
     "output_type": "execute_result"
    }
   ],
   "source": [
    "titles = browser.find_elements(By.CLASS_NAME, 'mCBkyc')  \n",
    "\n",
    "title = []\n",
    "for i in titles:\n",
    "    temp_title = i.text\n",
    "    temp_title = temp_title.replace(\",\", \"\") # comma 없애주기\n",
    "    title.append(temp_title)\n",
    "    \n",
    "title"
   ]
  },
  {
   "cell_type": "code",
   "execution_count": 193,
   "id": "d62b3b10",
   "metadata": {},
   "outputs": [
    {
     "data": {
      "text/plain": [
       "[\"(서울=연합뉴스) 이지헌 기자 = 한화생명[088350]은 보험설계 및 청약 업무 프로세스 자동화 기술인 '청약 자동화 솔루션'이 BM 특허를 ...\",\n",
       " '한화생명이 업계 최초로 보험 신계약 과정을 로봇 기술로 자동화하며 법인대리점(GA) 시장에서의 영업 경쟁력 강화에 나섰다. 25...',\n",
       " '한화생명은 25일 보험설계와 계약 업무 프로세스를 자동화하는 기술인 \"청약자동화 솔루션\"이 특허청으로부터 \"BM(Business Method)특허&quo...',\n",
       " '한화생명이 업계 최초로 보험 신계약 과정을 로봇 기술로 자동화하며 법인대리점(GA) 시장에서의 영업 경쟁력 강화에 나섰다.한화생명은 보험설계 및...',\n",
       " '한화생명이 청약자동화 솔루션을 개발하고 특허청으로부터 BM특허를 받았다. 사진은 이번 솔루션 개발과 특허 출원에 나선 (왼쪽부터) 김도형 영업...',\n",
       " '한화생명이 보험가입부터 청약까지 5분이면 마칠 수 있는 로봇 기술을 도입해 법인보험대리점(GA) 시장 영업 경쟁력 강화에 나섰다.',\n",
       " '한화생명 청약자동화 솔루션 특허…GA설계사 업무간소화(서울=연합뉴스) 이지헌 기자 = 한화생명[088350]은 보험설계 및 청약 업무 프로세스 자동화...',\n",
       " '청약자동화 솔루션 특허 출원 주역들. (왼쪽부터)김도형 영업추진팀 과장 김창완 IT운영팀 파트장 신종연 영업추진팀 파트장 채경훈 IT운영팀 과장...',\n",
       " '자동화는 반복적인 네트워킹 작업에서 큰 차이를 만들어낼 수 있다. 파이썬 스크립트와 오픈소스 툴을 사용해 엔터프라이즈 스위치 업그레이드를...',\n",
       " \"롯데홈쇼핑(대표 이완신)은 지난 21일 경기도 이천에서 업계 최초로 자동화 시스템을 도입해 최첨단 물류 인프라를 구현한 '이천 물류센터' 오픈식을...\"]"
      ]
     },
     "execution_count": 193,
     "metadata": {},
     "output_type": "execute_result"
    }
   ],
   "source": [
    "contents = browser.find_elements(By.CLASS_NAME, 'GI74Re') \n",
    "\n",
    "content = []\n",
    "for i in contents:\n",
    "    temp_content = i.text\n",
    "    temp_content = temp_content.replace(\",\", \"\") # comma 없애주기\n",
    "    content.append(temp_content)\n",
    "    \n",
    "content"
   ]
  },
  {
   "cell_type": "code",
   "execution_count": 194,
   "id": "d0666370",
   "metadata": {},
   "outputs": [],
   "source": [
    "file = open(\"google_news.csv\", \"a\", encoding=\"UTF-8-sig\")  # 파일 만드는 함수\n",
    "file.write(\"{}, {}, {} \\n\".format(\"제목\", \"내용\", \"링크\"))\n",
    "\n",
    "for i in range(len(title)):\n",
    "#      file.write(\"{}, {}, {} \\n\".format(title[0], content[0], link[0]))\n",
    "     file.write(\"{}, {}, {} \\n\".format(title[i], content[i], link[i]))  #comma는 한 칸씩 띄운다는 뜻 \n",
    "    \n",
    "file.close()"
   ]
  },
  {
   "cell_type": "code",
   "execution_count": null,
   "id": "b950c9dc",
   "metadata": {},
   "outputs": [],
   "source": []
  },
  {
   "cell_type": "markdown",
   "id": "8b12c9a0",
   "metadata": {},
   "source": [
    "## 참고"
   ]
  },
  {
   "cell_type": "code",
   "execution_count": null,
   "id": "057bb175",
   "metadata": {},
   "outputs": [],
   "source": [
    "browser.back()\n",
    "browser.forward()\n",
    "browser.refresh()\n",
    "\n",
    "# 검색어를 입력하는 방법\n",
    "# (1) 요소를 하나씩 클릭하는 방법\n",
    "browser.find_element_by_id('query').click() # 검색창 클릭\n",
    "browser.find_element_by_id('query').send_keys(\"자동화\") # 검색어 입력\n",
    "browser.find_element_by_class_name('btn_submit').click() # 검색 버튼 클릭\n",
    "\n",
    "# (2) Keys 라이브러리 사용\n",
    "elem = browser.find_element_by_id('query') # 요소 지정\n",
    "\n",
    "from selenium.webdriver.common.keys import Keys\n",
    "elem.send_keys(\"검색원하는 단어\")\n",
    "elem.send_keys(Keys.ENTER)\n",
    "\n",
    "# \n",
    "browser.find_element_by_xpath('//*[@id=\"power_link_body\"]/ul/li[1]/div/a').get_attribute('href')\n",
    "\n",
    "browser.quit()"
   ]
  },
  {
   "cell_type": "code",
   "execution_count": null,
   "id": "cda02766",
   "metadata": {},
   "outputs": [],
   "source": []
  }
 ],
 "metadata": {
  "kernelspec": {
   "display_name": "Python 3 (ipykernel)",
   "language": "python",
   "name": "python3"
  },
  "language_info": {
   "codemirror_mode": {
    "name": "ipython",
    "version": 3
   },
   "file_extension": ".py",
   "mimetype": "text/x-python",
   "name": "python",
   "nbconvert_exporter": "python",
   "pygments_lexer": "ipython3",
   "version": "3.9.12"
  }
 },
 "nbformat": 4,
 "nbformat_minor": 5
}

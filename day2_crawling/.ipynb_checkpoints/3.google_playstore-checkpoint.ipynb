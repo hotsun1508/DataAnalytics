{
 "cells": [
  {
   "cell_type": "markdown",
   "id": "b010dcb0",
   "metadata": {},
   "source": [
    "# 구글 플레이 스토어 댓글 수집기"
   ]
  },
  {
   "cell_type": "code",
   "execution_count": 16,
   "id": "4670c17f",
   "metadata": {},
   "outputs": [],
   "source": [
    "from selenium import webdriver\n",
    "from selenium.webdriver.common.by import By\n",
    "import time"
   ]
  },
  {
   "cell_type": "code",
   "execution_count": 2,
   "id": "804cf948",
   "metadata": {},
   "outputs": [
    {
     "name": "stderr",
     "output_type": "stream",
     "text": [
      "C:\\Users\\sunah\\AppData\\Local\\Temp\\ipykernel_36944\\2171725593.py:3: DeprecationWarning: executable_path has been deprecated, please pass in a Service object\n",
      "  browser = webdriver.Chrome(path)  # \"./chromedriver.exe\"\n"
     ]
    }
   ],
   "source": [
    "path = \"/Users/sunah/OneDrive/바탕 화면/SUN/러닝스푼즈/데이터분석/DataAnalytics/day2_crawling/chromedriver.exe\"\n",
    "\n",
    "browser = webdriver.Chrome(path)  # \"./chromedriver.exe\""
   ]
  },
  {
   "cell_type": "code",
   "execution_count": 3,
   "id": "3efba0e6",
   "metadata": {},
   "outputs": [],
   "source": [
    "browser.get(\"https://play.google.com/store/apps/details?id=com.sampleapp\")"
   ]
  },
  {
   "cell_type": "code",
   "execution_count": 4,
   "id": "baaea407",
   "metadata": {},
   "outputs": [],
   "source": [
    "browser.find_element(By.XPATH, '//*[@id=\"yDmH0d\"]/c-wiz[2]/div/div/div[1]/div[2]/div/div[1]/c-wiz[4]/section/div/div/div[5]/div/div/button/span').click()"
   ]
  },
  {
   "cell_type": "code",
   "execution_count": 7,
   "id": "02107ea4",
   "metadata": {},
   "outputs": [
    {
     "data": {
      "text/plain": [
       "'Jim B\\nmore_vert\\n2022년 10월 10일\\n혹시 [주문내역]에서 검색하기 기능을 넣어주실 수 있으시다면 꼭 부탁드립니다. 그때 그 집!! 하면서 찾고 싶은데 스크롤을 아무리 내려도 오래전에 먹었던 건 찾기 힘들고, 개선이 된다면 정말 편리할 것 같아서 남겨봅니다. 그리고 함께 주문하기 기능 신기합니다. 유용하게 사용할 것 같아요. 늘 편리한 앱을 위해 업데이트 해주셔서 감사합니다.\\n사용자 45명이 이 리뷰가 유용하다고 평가함\\n이 리뷰가 유용했나요?\\n예\\n아니요\\nWoowaBrothers\\n2022년 10월 13일\\nJim B님, 안녕하세요. 배달의민족입니다. 귀한 시간 내어 소중한 의견 주셔서 감사합니다. 배달의민족은 고객님의 의견이 반영될 수 있도록 항상 노력하고 있습니다. 아쉽게도 현재 주문내역 내 검색 기능은 마련되어 있지 않습니다. 다만, 고객님께서 말씀해주신 소중한 의견은 담당 부서와 공유하여, 앞으로 더욱 만족스럽게 이용할 수 있도록 노력하겠습니다. 지금처럼 꾸준한 관심과 사랑 부탁드립니다. 감사합니다. - 배달의민족 드림 -'"
      ]
     },
     "execution_count": 7,
     "metadata": {},
     "output_type": "execute_result"
    }
   ],
   "source": [
    "browser.find_element(By.CLASS_NAME, 'RHo1pe').text"
   ]
  },
  {
   "cell_type": "code",
   "execution_count": 9,
   "id": "a64ed608",
   "metadata": {},
   "outputs": [],
   "source": [
    "once = browser.find_elements(By.CLASS_NAME, 'RHo1pe')"
   ]
  },
  {
   "cell_type": "code",
   "execution_count": 10,
   "id": "f6f3cdc3",
   "metadata": {},
   "outputs": [
    {
     "data": {
      "text/plain": [
       "40"
      ]
     },
     "execution_count": 10,
     "metadata": {},
     "output_type": "execute_result"
    }
   ],
   "source": [
    "len(once)"
   ]
  },
  {
   "cell_type": "code",
   "execution_count": 12,
   "id": "ccc89db9",
   "metadata": {},
   "outputs": [
    {
     "data": {
      "text/plain": [
       "7259"
      ]
     },
     "execution_count": 12,
     "metadata": {},
     "output_type": "execute_result"
    }
   ],
   "source": [
    "last_height = browser.execute_script(\"return document.body.scrollHeight\")\n",
    "last_height"
   ]
  },
  {
   "cell_type": "code",
   "execution_count": 38,
   "id": "9a5335f1",
   "metadata": {},
   "outputs": [],
   "source": [
    "browser.execute_script(\"window.scrollTo(0, document.body.scrollHeight);\") "
   ]
  },
  {
   "cell_type": "code",
   "execution_count": null,
   "id": "952d3e84",
   "metadata": {},
   "outputs": [],
   "source": []
  },
  {
   "cell_type": "markdown",
   "id": "42a08a34",
   "metadata": {},
   "source": [
    "### Scroll down 코드\n",
    "- 참고링크 : https://hello-bryan.tistory.com/194, https://stackoverflow.com/questions/20986631/how-can-i-scroll-a-web-page-using-selenium-webdriver-in-python"
   ]
  },
  {
   "cell_type": "markdown",
   "id": "6cd57acf",
   "metadata": {},
   "source": [
    "```\n",
    "SCROLL_PAUSE_SEC = 1\n",
    "\n",
    "# 스크롤 높이 가져옴\n",
    "last_height = driver.execute_script(\"return document.body.scrollHeight\")\n",
    "\n",
    "while True:\n",
    "    # 끝까지 스크롤 다운\n",
    "    driver.execute_script(\"window.scrollTo(0, document.body.scrollHeight);\")\n",
    "\n",
    "    # 1초 대기\n",
    "    time.sleep(SCROLL_PAUSE_SEC)\n",
    "\n",
    "    # 스크롤 다운 후 스크롤 높이 다시 가져옴\n",
    "    new_height = driver.execute_script(\"return document.body.scrollHeight\")\n",
    "    if new_height == last_height:\n",
    "        break\n",
    "    last_height = new_height\n",
    "\n",
    "```"
   ]
  },
  {
   "cell_type": "code",
   "execution_count": null,
   "id": "1fa81cf3",
   "metadata": {},
   "outputs": [],
   "source": []
  },
  {
   "cell_type": "markdown",
   "id": "671b7f22",
   "metadata": {},
   "source": [
    "## 강사님"
   ]
  },
  {
   "cell_type": "code",
   "execution_count": 50,
   "id": "21bde8c2",
   "metadata": {
    "scrolled": true
   },
   "outputs": [
    {
     "ename": "KeyboardInterrupt",
     "evalue": "Interrupted by user",
     "output_type": "error",
     "traceback": [
      "\u001b[1;31m---------------------------------------------------------------------------\u001b[0m",
      "\u001b[1;31mKeyboardInterrupt\u001b[0m                         Traceback (most recent call last)",
      "Input \u001b[1;32mIn [50]\u001b[0m, in \u001b[0;36m<cell line: 1>\u001b[1;34m()\u001b[0m\n\u001b[1;32m----> 1\u001b[0m search_word \u001b[38;5;241m=\u001b[39m \u001b[38;5;28;43minput\u001b[39;49m\u001b[43m(\u001b[49m\u001b[38;5;124;43m\"\u001b[39;49m\u001b[38;5;124;43m검색하고자 하는 앱 이름 입력하시오. \u001b[39;49m\u001b[38;5;124;43m\"\u001b[39;49m\u001b[43m)\u001b[49m\n\u001b[0;32m      2\u001b[0m \u001b[38;5;66;03m# search_word = input(\"검색하고자 하는 앱 이름 입력하시오. \").replace(\" \", \"\")\u001b[39;00m\n\u001b[0;32m      3\u001b[0m url \u001b[38;5;241m=\u001b[39m \u001b[38;5;124m\"\u001b[39m\u001b[38;5;124mhttps://play.google.com/store/search?q=\u001b[39m\u001b[38;5;132;01m{}\u001b[39;00m\u001b[38;5;124m&c=apps\u001b[39m\u001b[38;5;124m\"\u001b[39m\n",
      "File \u001b[1;32m~\\anaconda3\\lib\\site-packages\\ipykernel\\kernelbase.py:1075\u001b[0m, in \u001b[0;36mKernel.raw_input\u001b[1;34m(self, prompt)\u001b[0m\n\u001b[0;32m   1071\u001b[0m \u001b[38;5;28;01mif\u001b[39;00m \u001b[38;5;129;01mnot\u001b[39;00m \u001b[38;5;28mself\u001b[39m\u001b[38;5;241m.\u001b[39m_allow_stdin:\n\u001b[0;32m   1072\u001b[0m     \u001b[38;5;28;01mraise\u001b[39;00m StdinNotImplementedError(\n\u001b[0;32m   1073\u001b[0m         \u001b[38;5;124m\"\u001b[39m\u001b[38;5;124mraw_input was called, but this frontend does not support input requests.\u001b[39m\u001b[38;5;124m\"\u001b[39m\n\u001b[0;32m   1074\u001b[0m     )\n\u001b[1;32m-> 1075\u001b[0m \u001b[38;5;28;01mreturn\u001b[39;00m \u001b[38;5;28;43mself\u001b[39;49m\u001b[38;5;241;43m.\u001b[39;49m\u001b[43m_input_request\u001b[49m\u001b[43m(\u001b[49m\n\u001b[0;32m   1076\u001b[0m \u001b[43m    \u001b[49m\u001b[38;5;28;43mstr\u001b[39;49m\u001b[43m(\u001b[49m\u001b[43mprompt\u001b[49m\u001b[43m)\u001b[49m\u001b[43m,\u001b[49m\n\u001b[0;32m   1077\u001b[0m \u001b[43m    \u001b[49m\u001b[38;5;28;43mself\u001b[39;49m\u001b[38;5;241;43m.\u001b[39;49m\u001b[43m_parent_ident\u001b[49m\u001b[43m[\u001b[49m\u001b[38;5;124;43m\"\u001b[39;49m\u001b[38;5;124;43mshell\u001b[39;49m\u001b[38;5;124;43m\"\u001b[39;49m\u001b[43m]\u001b[49m\u001b[43m,\u001b[49m\n\u001b[0;32m   1078\u001b[0m \u001b[43m    \u001b[49m\u001b[38;5;28;43mself\u001b[39;49m\u001b[38;5;241;43m.\u001b[39;49m\u001b[43mget_parent\u001b[49m\u001b[43m(\u001b[49m\u001b[38;5;124;43m\"\u001b[39;49m\u001b[38;5;124;43mshell\u001b[39;49m\u001b[38;5;124;43m\"\u001b[39;49m\u001b[43m)\u001b[49m\u001b[43m,\u001b[49m\n\u001b[0;32m   1079\u001b[0m \u001b[43m    \u001b[49m\u001b[43mpassword\u001b[49m\u001b[38;5;241;43m=\u001b[39;49m\u001b[38;5;28;43;01mFalse\u001b[39;49;00m\u001b[43m,\u001b[49m\n\u001b[0;32m   1080\u001b[0m \u001b[43m\u001b[49m\u001b[43m)\u001b[49m\n",
      "File \u001b[1;32m~\\anaconda3\\lib\\site-packages\\ipykernel\\kernelbase.py:1120\u001b[0m, in \u001b[0;36mKernel._input_request\u001b[1;34m(self, prompt, ident, parent, password)\u001b[0m\n\u001b[0;32m   1117\u001b[0m             \u001b[38;5;28;01mbreak\u001b[39;00m\n\u001b[0;32m   1118\u001b[0m \u001b[38;5;28;01mexcept\u001b[39;00m \u001b[38;5;167;01mKeyboardInterrupt\u001b[39;00m:\n\u001b[0;32m   1119\u001b[0m     \u001b[38;5;66;03m# re-raise KeyboardInterrupt, to truncate traceback\u001b[39;00m\n\u001b[1;32m-> 1120\u001b[0m     \u001b[38;5;28;01mraise\u001b[39;00m \u001b[38;5;167;01mKeyboardInterrupt\u001b[39;00m(\u001b[38;5;124m\"\u001b[39m\u001b[38;5;124mInterrupted by user\u001b[39m\u001b[38;5;124m\"\u001b[39m) \u001b[38;5;28;01mfrom\u001b[39;00m \u001b[38;5;28mNone\u001b[39m\n\u001b[0;32m   1121\u001b[0m \u001b[38;5;28;01mexcept\u001b[39;00m \u001b[38;5;167;01mException\u001b[39;00m:\n\u001b[0;32m   1122\u001b[0m     \u001b[38;5;28mself\u001b[39m\u001b[38;5;241m.\u001b[39mlog\u001b[38;5;241m.\u001b[39mwarning(\u001b[38;5;124m\"\u001b[39m\u001b[38;5;124mInvalid Message:\u001b[39m\u001b[38;5;124m\"\u001b[39m, exc_info\u001b[38;5;241m=\u001b[39m\u001b[38;5;28;01mTrue\u001b[39;00m)\n",
      "\u001b[1;31mKeyboardInterrupt\u001b[0m: Interrupted by user"
     ]
    }
   ],
   "source": [
    "search_word = input(\"검색하고자 하는 앱 이름 입력하시오. \")\n",
    "# search_word = input(\"검색하고자 하는 앱 이름 입력하시오. \").replace(\" \", \"\")\n",
    "url = \"https://play.google.com/store/search?q={}&c=apps\"\n",
    "\n",
    "final_url = url.format(search_word)\n",
    "print(final_url)\n",
    "\n",
    "browser.get(final_url)\n",
    "\n",
    "browser.implicitly_wait(5)\n",
    "app_url = browser.find_element(By.CLASS_NAME, 'Si6A0c').get_attribute(\"href\")\n",
    "# browser.find_element(By.CLASS_NAME, 'VfPpkd-aGsRMb').click()\n",
    "print(app_url)\n",
    "browser.get(app_url)  # url 실행해줘야 함\n",
    "\n",
    "browser.implicitly_wait(5)\n",
    "#browser.execute_script(\"window.scrollTo(0, document.body.scrollHeight);\") \n",
    "browser.execute_script(\"window.scrollTo(0, 4000);\") \n",
    "\n",
    "browser.find_element(By.XPATH, '//*[@id=\"yDmH0d\"]/c-wiz[2]/div/div/div[1]/div[2]/div/div[1]/c-wiz[4]/section/div/div/div[5]/div/div/button/span').click()\n",
    "\n",
    "browser.find_element(By.ID, 'yDmH0d').click()\n",
    "browser.execute_script(\"window.scrollTo(0, document.body.scrollHeight);\") \n",
    "browser.implicitly_wait(5)\n",
    "\n",
    "reviews = browser.find_elements(By.CLASS_NAME, 'RHo1pe')\n",
    "\n",
    "review = []\n",
    "for r in reviews:\n",
    "    if len(review) <= 100:\n",
    "        review.append(r.text)\n",
    "        print(r.text)\n",
    "    else:\n",
    "        break\n",
    "    "
   ]
  },
  {
   "cell_type": "code",
   "execution_count": 71,
   "id": "93fc3c42",
   "metadata": {},
   "outputs": [
    {
     "ename": "SyntaxError",
     "evalue": "invalid syntax (3051008100.py, line 1)",
     "output_type": "error",
     "traceback": [
      "\u001b[1;36m  Input \u001b[1;32mIn [71]\u001b[1;36m\u001b[0m\n\u001b[1;33m    browser.find_element(By.CLASS_NAME, 'VfPpkd-cnG4Wd').\u001b[0m\n\u001b[1;37m                                                         ^\u001b[0m\n\u001b[1;31mSyntaxError\u001b[0m\u001b[1;31m:\u001b[0m invalid syntax\n"
     ]
    }
   ],
   "source": [
    "browser.find_element(By.CLASS_NAME, 'VfPpkd-cnG4Wd').\n",
    "browser.execute_script(\"window.scrollTo(0, 4000);\")"
   ]
  },
  {
   "cell_type": "code",
   "execution_count": null,
   "id": "47903f1d",
   "metadata": {},
   "outputs": [],
   "source": [
    "bar = driver.find_element_by_xpath('//ul[@class=\"entity-list row\"]')\n",
    "driver.execute_script('arguments[0].scrollTop = arguments[0].scrollHeight', bar)"
   ]
  },
  {
   "cell_type": "code",
   "execution_count": 73,
   "id": "faf6c010",
   "metadata": {},
   "outputs": [],
   "source": [
    "review_list = browser.find_element(By.CLASS_NAME, \"VfPpkd-P5QLlc\")\n",
    "browser.execute_script(\"window.scrollTo(0,4000);\", review_list)"
   ]
  },
  {
   "cell_type": "code",
   "execution_count": null,
   "id": "8e2fbc4d",
   "metadata": {},
   "outputs": [],
   "source": [
    "arguments[0].scrollTop = arguments[0].scrollTop"
   ]
  },
  {
   "cell_type": "code",
   "execution_count": 75,
   "id": "c8060cc5",
   "metadata": {},
   "outputs": [],
   "source": [
    "review_list = browser.find_element(By.CLASS_NAME, \"VfPpkd-cnG4Wd\")\n",
    "browser.execute_script(\"arguments[0].scrollTop = arguments[0].scrollTop;\", review_list)"
   ]
  },
  {
   "cell_type": "code",
   "execution_count": null,
   "id": "f5a037b0",
   "metadata": {},
   "outputs": [],
   "source": []
  },
  {
   "cell_type": "code",
   "execution_count": null,
   "id": "75b27775",
   "metadata": {},
   "outputs": [],
   "source": []
  },
  {
   "cell_type": "code",
   "execution_count": 52,
   "id": "5a249d3b",
   "metadata": {
    "scrolled": true
   },
   "outputs": [
    {
     "ename": "NameError",
     "evalue": "name 'document' is not defined",
     "output_type": "error",
     "traceback": [
      "\u001b[1;31m---------------------------------------------------------------------------\u001b[0m",
      "\u001b[1;31mNameError\u001b[0m                                 Traceback (most recent call last)",
      "Input \u001b[1;32mIn [52]\u001b[0m, in \u001b[0;36m<cell line: 1>\u001b[1;34m()\u001b[0m\n\u001b[1;32m----> 1\u001b[0m element \u001b[38;5;241m=\u001b[39m \u001b[43mdocument\u001b[49m\u001b[38;5;241m.\u001b[39mdocument\u001b[38;5;241m.\u001b[39mgetElementsByClassName(\u001b[38;5;124m\"\u001b[39m\u001b[38;5;124mVfPpkd-cnG4Wd\u001b[39m\u001b[38;5;124m\"\u001b[39m);\n\u001b[0;32m      2\u001b[0m element\u001b[38;5;241m.\u001b[39mscrollTo(\u001b[38;5;241m0\u001b[39m, document\u001b[38;5;241m.\u001b[39mbody\u001b[38;5;241m.\u001b[39mscrollHeight)\n",
      "\u001b[1;31mNameError\u001b[0m: name 'document' is not defined"
     ]
    }
   ],
   "source": [
    "element = document.getElementsByClassName(\"VfPpkd-cnG4Wd\");\n",
    "element.scrollTo(0, document.body.scrollHeight);"
   ]
  },
  {
   "cell_type": "code",
   "execution_count": 49,
   "id": "aabf16b0",
   "metadata": {},
   "outputs": [
    {
     "data": {
      "text/plain": [
       "4"
      ]
     },
     "execution_count": 49,
     "metadata": {},
     "output_type": "execute_result"
    }
   ],
   "source": [
    "ls = [1,2,3,4]\n",
    "len(ls)"
   ]
  },
  {
   "cell_type": "code",
   "execution_count": null,
   "id": "b9ab3461",
   "metadata": {},
   "outputs": [],
   "source": []
  },
  {
   "cell_type": "markdown",
   "id": "8e8739c2",
   "metadata": {},
   "source": [
    "## DBPIA 내용 가져오기\n",
    "1. (효율적) 링크를 먼저 다 가져와서 > 상세페이지에서 내용 가져오기\n",
    "2. 하나 클릭 > 내용 긁어오고 > 뒤로가기"
   ]
  },
  {
   "cell_type": "code",
   "execution_count": null,
   "id": "fe7888e1",
   "metadata": {},
   "outputs": [],
   "source": []
  }
 ],
 "metadata": {
  "kernelspec": {
   "display_name": "Python 3 (ipykernel)",
   "language": "python",
   "name": "python3"
  },
  "language_info": {
   "codemirror_mode": {
    "name": "ipython",
    "version": 3
   },
   "file_extension": ".py",
   "mimetype": "text/x-python",
   "name": "python",
   "nbconvert_exporter": "python",
   "pygments_lexer": "ipython3",
   "version": "3.9.12"
  }
 },
 "nbformat": 4,
 "nbformat_minor": 5
}

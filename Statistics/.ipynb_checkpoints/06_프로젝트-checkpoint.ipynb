{
 "cells": [
  {
   "cell_type": "markdown",
   "id": "c42c30e3",
   "metadata": {},
   "source": [
    "## 프로젝트 : 마지막 정리"
   ]
  },
  {
   "cell_type": "code",
   "execution_count": 1,
   "id": "a23483f4",
   "metadata": {},
   "outputs": [],
   "source": [
    "import numpy as np\n",
    "import pandas as pd\n",
    "from scipy import stats\n",
    "import matplotlib.pyplot as plt"
   ]
  },
  {
   "cell_type": "code",
   "execution_count": 2,
   "id": "94028bb8",
   "metadata": {},
   "outputs": [],
   "source": [
    "df = pd.read_csv(\"./data/wine.csv\")"
   ]
  },
  {
   "cell_type": "code",
   "execution_count": 3,
   "id": "f3961867",
   "metadata": {},
   "outputs": [
    {
     "data": {
      "text/html": [
       "<div>\n",
       "<style scoped>\n",
       "    .dataframe tbody tr th:only-of-type {\n",
       "        vertical-align: middle;\n",
       "    }\n",
       "\n",
       "    .dataframe tbody tr th {\n",
       "        vertical-align: top;\n",
       "    }\n",
       "\n",
       "    .dataframe thead th {\n",
       "        text-align: right;\n",
       "    }\n",
       "</style>\n",
       "<table border=\"1\" class=\"dataframe\">\n",
       "  <thead>\n",
       "    <tr style=\"text-align: right;\">\n",
       "      <th></th>\n",
       "      <th>Unnamed: 0</th>\n",
       "      <th>alcohol</th>\n",
       "      <th>malic_acid</th>\n",
       "      <th>ash</th>\n",
       "      <th>alcalinity_of_ash</th>\n",
       "      <th>magnesium</th>\n",
       "      <th>total_phenols</th>\n",
       "      <th>flavanoids</th>\n",
       "      <th>nonflavanoid_phenols</th>\n",
       "      <th>proanthocyanins</th>\n",
       "      <th>color_intensity</th>\n",
       "      <th>hue</th>\n",
       "      <th>od280/od315_of_diluted_wines</th>\n",
       "      <th>proline</th>\n",
       "      <th>target</th>\n",
       "    </tr>\n",
       "  </thead>\n",
       "  <tbody>\n",
       "    <tr>\n",
       "      <th>0</th>\n",
       "      <td>0</td>\n",
       "      <td>14.23</td>\n",
       "      <td>1.71</td>\n",
       "      <td>2.43</td>\n",
       "      <td>15.6</td>\n",
       "      <td>127.0</td>\n",
       "      <td>2.80</td>\n",
       "      <td>3.06</td>\n",
       "      <td>0.28</td>\n",
       "      <td>2.29</td>\n",
       "      <td>5.64</td>\n",
       "      <td>1.04</td>\n",
       "      <td>3.92</td>\n",
       "      <td>1065.0</td>\n",
       "      <td>0.0</td>\n",
       "    </tr>\n",
       "    <tr>\n",
       "      <th>1</th>\n",
       "      <td>1</td>\n",
       "      <td>13.20</td>\n",
       "      <td>1.78</td>\n",
       "      <td>2.14</td>\n",
       "      <td>11.2</td>\n",
       "      <td>100.0</td>\n",
       "      <td>2.65</td>\n",
       "      <td>2.76</td>\n",
       "      <td>0.26</td>\n",
       "      <td>1.28</td>\n",
       "      <td>4.38</td>\n",
       "      <td>1.05</td>\n",
       "      <td>3.40</td>\n",
       "      <td>1050.0</td>\n",
       "      <td>0.0</td>\n",
       "    </tr>\n",
       "    <tr>\n",
       "      <th>2</th>\n",
       "      <td>2</td>\n",
       "      <td>13.16</td>\n",
       "      <td>2.36</td>\n",
       "      <td>2.67</td>\n",
       "      <td>18.6</td>\n",
       "      <td>101.0</td>\n",
       "      <td>2.80</td>\n",
       "      <td>3.24</td>\n",
       "      <td>0.30</td>\n",
       "      <td>2.81</td>\n",
       "      <td>5.68</td>\n",
       "      <td>1.03</td>\n",
       "      <td>3.17</td>\n",
       "      <td>1185.0</td>\n",
       "      <td>0.0</td>\n",
       "    </tr>\n",
       "    <tr>\n",
       "      <th>3</th>\n",
       "      <td>3</td>\n",
       "      <td>14.37</td>\n",
       "      <td>1.95</td>\n",
       "      <td>2.50</td>\n",
       "      <td>16.8</td>\n",
       "      <td>113.0</td>\n",
       "      <td>3.85</td>\n",
       "      <td>3.49</td>\n",
       "      <td>0.24</td>\n",
       "      <td>2.18</td>\n",
       "      <td>7.80</td>\n",
       "      <td>0.86</td>\n",
       "      <td>3.45</td>\n",
       "      <td>1480.0</td>\n",
       "      <td>0.0</td>\n",
       "    </tr>\n",
       "    <tr>\n",
       "      <th>4</th>\n",
       "      <td>4</td>\n",
       "      <td>13.24</td>\n",
       "      <td>2.59</td>\n",
       "      <td>2.87</td>\n",
       "      <td>21.0</td>\n",
       "      <td>118.0</td>\n",
       "      <td>2.80</td>\n",
       "      <td>2.69</td>\n",
       "      <td>0.39</td>\n",
       "      <td>1.82</td>\n",
       "      <td>4.32</td>\n",
       "      <td>1.04</td>\n",
       "      <td>2.93</td>\n",
       "      <td>735.0</td>\n",
       "      <td>0.0</td>\n",
       "    </tr>\n",
       "    <tr>\n",
       "      <th>...</th>\n",
       "      <td>...</td>\n",
       "      <td>...</td>\n",
       "      <td>...</td>\n",
       "      <td>...</td>\n",
       "      <td>...</td>\n",
       "      <td>...</td>\n",
       "      <td>...</td>\n",
       "      <td>...</td>\n",
       "      <td>...</td>\n",
       "      <td>...</td>\n",
       "      <td>...</td>\n",
       "      <td>...</td>\n",
       "      <td>...</td>\n",
       "      <td>...</td>\n",
       "      <td>...</td>\n",
       "    </tr>\n",
       "    <tr>\n",
       "      <th>173</th>\n",
       "      <td>173</td>\n",
       "      <td>13.71</td>\n",
       "      <td>5.65</td>\n",
       "      <td>2.45</td>\n",
       "      <td>20.5</td>\n",
       "      <td>95.0</td>\n",
       "      <td>1.68</td>\n",
       "      <td>0.61</td>\n",
       "      <td>0.52</td>\n",
       "      <td>1.06</td>\n",
       "      <td>7.70</td>\n",
       "      <td>0.64</td>\n",
       "      <td>1.74</td>\n",
       "      <td>740.0</td>\n",
       "      <td>2.0</td>\n",
       "    </tr>\n",
       "    <tr>\n",
       "      <th>174</th>\n",
       "      <td>174</td>\n",
       "      <td>13.40</td>\n",
       "      <td>3.91</td>\n",
       "      <td>2.48</td>\n",
       "      <td>23.0</td>\n",
       "      <td>102.0</td>\n",
       "      <td>1.80</td>\n",
       "      <td>0.75</td>\n",
       "      <td>0.43</td>\n",
       "      <td>1.41</td>\n",
       "      <td>7.30</td>\n",
       "      <td>0.70</td>\n",
       "      <td>1.56</td>\n",
       "      <td>750.0</td>\n",
       "      <td>2.0</td>\n",
       "    </tr>\n",
       "    <tr>\n",
       "      <th>175</th>\n",
       "      <td>175</td>\n",
       "      <td>13.27</td>\n",
       "      <td>4.28</td>\n",
       "      <td>2.26</td>\n",
       "      <td>20.0</td>\n",
       "      <td>120.0</td>\n",
       "      <td>1.59</td>\n",
       "      <td>0.69</td>\n",
       "      <td>0.43</td>\n",
       "      <td>1.35</td>\n",
       "      <td>10.20</td>\n",
       "      <td>0.59</td>\n",
       "      <td>1.56</td>\n",
       "      <td>835.0</td>\n",
       "      <td>2.0</td>\n",
       "    </tr>\n",
       "    <tr>\n",
       "      <th>176</th>\n",
       "      <td>176</td>\n",
       "      <td>13.17</td>\n",
       "      <td>2.59</td>\n",
       "      <td>2.37</td>\n",
       "      <td>20.0</td>\n",
       "      <td>120.0</td>\n",
       "      <td>1.65</td>\n",
       "      <td>0.68</td>\n",
       "      <td>0.53</td>\n",
       "      <td>1.46</td>\n",
       "      <td>9.30</td>\n",
       "      <td>0.60</td>\n",
       "      <td>1.62</td>\n",
       "      <td>840.0</td>\n",
       "      <td>2.0</td>\n",
       "    </tr>\n",
       "    <tr>\n",
       "      <th>177</th>\n",
       "      <td>177</td>\n",
       "      <td>14.13</td>\n",
       "      <td>4.10</td>\n",
       "      <td>2.74</td>\n",
       "      <td>24.5</td>\n",
       "      <td>96.0</td>\n",
       "      <td>2.05</td>\n",
       "      <td>0.76</td>\n",
       "      <td>0.56</td>\n",
       "      <td>1.35</td>\n",
       "      <td>9.20</td>\n",
       "      <td>0.61</td>\n",
       "      <td>1.60</td>\n",
       "      <td>560.0</td>\n",
       "      <td>2.0</td>\n",
       "    </tr>\n",
       "  </tbody>\n",
       "</table>\n",
       "<p>178 rows × 15 columns</p>\n",
       "</div>"
      ],
      "text/plain": [
       "     Unnamed: 0  alcohol  malic_acid   ash  alcalinity_of_ash  magnesium  \\\n",
       "0             0    14.23        1.71  2.43               15.6      127.0   \n",
       "1             1    13.20        1.78  2.14               11.2      100.0   \n",
       "2             2    13.16        2.36  2.67               18.6      101.0   \n",
       "3             3    14.37        1.95  2.50               16.8      113.0   \n",
       "4             4    13.24        2.59  2.87               21.0      118.0   \n",
       "..          ...      ...         ...   ...                ...        ...   \n",
       "173         173    13.71        5.65  2.45               20.5       95.0   \n",
       "174         174    13.40        3.91  2.48               23.0      102.0   \n",
       "175         175    13.27        4.28  2.26               20.0      120.0   \n",
       "176         176    13.17        2.59  2.37               20.0      120.0   \n",
       "177         177    14.13        4.10  2.74               24.5       96.0   \n",
       "\n",
       "     total_phenols  flavanoids  nonflavanoid_phenols  proanthocyanins  \\\n",
       "0             2.80        3.06                  0.28             2.29   \n",
       "1             2.65        2.76                  0.26             1.28   \n",
       "2             2.80        3.24                  0.30             2.81   \n",
       "3             3.85        3.49                  0.24             2.18   \n",
       "4             2.80        2.69                  0.39             1.82   \n",
       "..             ...         ...                   ...              ...   \n",
       "173           1.68        0.61                  0.52             1.06   \n",
       "174           1.80        0.75                  0.43             1.41   \n",
       "175           1.59        0.69                  0.43             1.35   \n",
       "176           1.65        0.68                  0.53             1.46   \n",
       "177           2.05        0.76                  0.56             1.35   \n",
       "\n",
       "     color_intensity   hue  od280/od315_of_diluted_wines  proline  target  \n",
       "0               5.64  1.04                          3.92   1065.0     0.0  \n",
       "1               4.38  1.05                          3.40   1050.0     0.0  \n",
       "2               5.68  1.03                          3.17   1185.0     0.0  \n",
       "3               7.80  0.86                          3.45   1480.0     0.0  \n",
       "4               4.32  1.04                          2.93    735.0     0.0  \n",
       "..               ...   ...                           ...      ...     ...  \n",
       "173             7.70  0.64                          1.74    740.0     2.0  \n",
       "174             7.30  0.70                          1.56    750.0     2.0  \n",
       "175            10.20  0.59                          1.56    835.0     2.0  \n",
       "176             9.30  0.60                          1.62    840.0     2.0  \n",
       "177             9.20  0.61                          1.60    560.0     2.0  \n",
       "\n",
       "[178 rows x 15 columns]"
      ]
     },
     "execution_count": 3,
     "metadata": {},
     "output_type": "execute_result"
    }
   ],
   "source": [
    "df"
   ]
  },
  {
   "cell_type": "markdown",
   "id": "ea54825d",
   "metadata": {},
   "source": [
    "**열의 합 구하기**"
   ]
  },
  {
   "cell_type": "code",
   "execution_count": 4,
   "id": "39665353",
   "metadata": {},
   "outputs": [
    {
     "data": {
      "text/plain": [
       "421.24"
      ]
     },
     "execution_count": 4,
     "metadata": {},
     "output_type": "execute_result"
    }
   ],
   "source": [
    "# 열의 합\n",
    "df['ash'].sum()"
   ]
  },
  {
   "cell_type": "code",
   "execution_count": 5,
   "id": "d61c5fc9",
   "metadata": {},
   "outputs": [
    {
     "name": "stdout",
     "output_type": "stream",
     "text": [
      "421.2400000000002\n"
     ]
    }
   ],
   "source": [
    "sum_ash = 0\n",
    "for val in df['ash']:\n",
    "    sum_ash += val\n",
    "print(sum_ash)"
   ]
  },
  {
   "cell_type": "markdown",
   "id": "bbe2da86",
   "metadata": {},
   "source": [
    "**열의 평균 구하기**"
   ]
  },
  {
   "cell_type": "code",
   "execution_count": 6,
   "id": "a756be52",
   "metadata": {},
   "outputs": [
    {
     "data": {
      "text/plain": [
       "2.3665168539325845"
      ]
     },
     "execution_count": 6,
     "metadata": {},
     "output_type": "execute_result"
    }
   ],
   "source": [
    "# 열의 평균\n",
    "df['ash'].mean()"
   ]
  },
  {
   "cell_type": "code",
   "execution_count": 7,
   "id": "5d94a691",
   "metadata": {},
   "outputs": [
    {
     "name": "stdout",
     "output_type": "stream",
     "text": [
      "2.3665168539325854\n"
     ]
    }
   ],
   "source": [
    "sum_ash = 0\n",
    "for val in df['ash']:\n",
    "    sum_ash += val\n",
    "mean_ash = sum_ash / len(df['ash'])\n",
    "print(mean_ash)"
   ]
  },
  {
   "cell_type": "markdown",
   "id": "85800687",
   "metadata": {},
   "source": [
    "**열의 분산 구하기**"
   ]
  },
  {
   "cell_type": "code",
   "execution_count": 8,
   "id": "61efa3de",
   "metadata": {},
   "outputs": [
    {
     "data": {
      "text/plain": [
       "0.07526463530756046"
      ]
     },
     "execution_count": 8,
     "metadata": {},
     "output_type": "execute_result"
    }
   ],
   "source": [
    "# 열의 분산\n",
    "df['ash'].var()"
   ]
  },
  {
   "cell_type": "code",
   "execution_count": 9,
   "id": "87d27fb7",
   "metadata": {},
   "outputs": [
    {
     "name": "stdout",
     "output_type": "stream",
     "text": [
      "0.07526463530756043\n"
     ]
    }
   ],
   "source": [
    "ss_ash = 0\n",
    "for val in df['ash']:\n",
    "    ss_ash += (val-mean_ash)**2\n",
    "var_ash = ss_ash/(len(df['ash'])-1) # 1/n말고 1/(n-1)로 나눈 경우 \n",
    "print(var_ash)"
   ]
  },
  {
   "cell_type": "markdown",
   "id": "25ba5b99",
   "metadata": {},
   "source": [
    "**열의 표준편차 구하기**"
   ]
  },
  {
   "cell_type": "code",
   "execution_count": 10,
   "id": "5daf03b4",
   "metadata": {},
   "outputs": [
    {
     "data": {
      "text/plain": [
       "0.27434400906081485"
      ]
     },
     "execution_count": 10,
     "metadata": {},
     "output_type": "execute_result"
    }
   ],
   "source": [
    "# 열의 표준편차\n",
    "df['ash'].std()"
   ]
  },
  {
   "cell_type": "code",
   "execution_count": 11,
   "id": "2bdc51c1",
   "metadata": {},
   "outputs": [
    {
     "name": "stdout",
     "output_type": "stream",
     "text": [
      "0.2743440090608148\n"
     ]
    }
   ],
   "source": [
    "std_ash = var_ash**0.5\n",
    "print(std_ash)"
   ]
  },
  {
   "cell_type": "markdown",
   "id": "ad699c60",
   "metadata": {},
   "source": [
    "**공분산**"
   ]
  },
  {
   "cell_type": "code",
   "execution_count": 13,
   "id": "4e2f0ac8",
   "metadata": {},
   "outputs": [],
   "source": [
    "# 공분산\n",
    "ash = df['ash']\n",
    "ci = df['color_intensity']"
   ]
  },
  {
   "cell_type": "code",
   "execution_count": 14,
   "id": "7bfc3123",
   "metadata": {},
   "outputs": [
    {
     "data": {
      "text/plain": [
       "array([[0.07526464, 0.16465433],\n",
       "       [0.16465433, 5.37444938]])"
      ]
     },
     "execution_count": 14,
     "metadata": {},
     "output_type": "execute_result"
    }
   ],
   "source": [
    "np.cov(ash, ci)  # 공분산행렬 구하면 -> 대각원소가 분산 = 자기 자신에 대한 공분산은 분산이기 때문에 ! "
   ]
  },
  {
   "cell_type": "code",
   "execution_count": 15,
   "id": "26a41013",
   "metadata": {},
   "outputs": [
    {
     "name": "stdout",
     "output_type": "stream",
     "text": [
      "0.1646543266488922\n"
     ]
    }
   ],
   "source": [
    "n = len(df['ash'])\n",
    "mean_ash = ash.mean()\n",
    "mean_ci = ci.mean()\n",
    "res = 0\n",
    "for i in range(0,n):\n",
    "    res += (ash[i]-mean_ash)*(ci[i]-mean_ci)\n",
    "covariance = res / (n-1)\n",
    "print(covariance)"
   ]
  },
  {
   "cell_type": "code",
   "execution_count": 16,
   "id": "5fc95470",
   "metadata": {},
   "outputs": [
    {
     "data": {
      "text/plain": [
       "0.16372930234187602"
      ]
     },
     "execution_count": 16,
     "metadata": {},
     "output_type": "execute_result"
    }
   ],
   "source": [
    "# 행렬곱 @ 사용\n",
    "((ash-mean_ash).T @ (ci-mean_ci))/n "
   ]
  },
  {
   "cell_type": "code",
   "execution_count": 17,
   "id": "139da054",
   "metadata": {},
   "outputs": [
    {
     "data": {
      "text/plain": [
       "0.1646543266488923"
      ]
     },
     "execution_count": 17,
     "metadata": {},
     "output_type": "execute_result"
    }
   ],
   "source": [
    "((ash-mean_ash).T @ (ci-mean_ci))/(n-1)  # np.transpose = .T "
   ]
  },
  {
   "cell_type": "markdown",
   "id": "e550edce",
   "metadata": {},
   "source": [
    "**상관계수 coefficient**"
   ]
  },
  {
   "cell_type": "code",
   "execution_count": 26,
   "id": "4ffddeec",
   "metadata": {},
   "outputs": [
    {
     "data": {
      "text/plain": [
       "array([[1.        , 0.25888726],\n",
       "       [0.25888726, 1.        ]])"
      ]
     },
     "execution_count": 26,
     "metadata": {},
     "output_type": "execute_result"
    }
   ],
   "source": [
    "# 대각원소 = 1\n",
    "np.corrcoef(ash, ci)"
   ]
  },
  {
   "cell_type": "markdown",
   "id": "daa687c3",
   "metadata": {},
   "source": [
    "correlation을 구하면 대각원소 = 1 \n",
    "- 값의 제한을 받음: -1 <= corr <= 1\n",
    "- 0.6이상이면 강한 상관관계 but 위에는 0.2588이니까 다소 약한 상관관계 "
   ]
  },
  {
   "cell_type": "markdown",
   "id": "b8c3eca2",
   "metadata": {},
   "source": [
    "**히스토그램**"
   ]
  },
  {
   "cell_type": "code",
   "execution_count": 28,
   "id": "d513a4d5",
   "metadata": {},
   "outputs": [
    {
     "data": {
      "image/png": "[encoded data removed]",
      "text/plain": [
       "<Figure size 432x288 with 1 Axes>"
      ]
     },
     "metadata": {
      "needs_background": "light"
     },
     "output_type": "display_data"
    }
   ],
   "source": [
    "# 정규분포를 따름\n",
    "plt.hist(df['ash'], bins=30)\n",
    "plt.show()"
   ]
  },
  {
   "cell_type": "code",
   "execution_count": 29,
   "id": "5c48739e",
   "metadata": {},
   "outputs": [
    {
     "data": {
      "image/png": "[encoded data removed]",
      "text/plain": [
       "<Figure size 432x288 with 1 Axes>"
      ]
     },
     "metadata": {
      "needs_background": "light"
     },
     "output_type": "display_data"
    }
   ],
   "source": [
    "# 카이제곱, 감마분포, 베타분포를 따름 \n",
    "plt.hist(df['color_intensity'], bins=30, color='red')\n",
    "plt.show()"
   ]
  },
  {
   "cell_type": "markdown",
   "id": "8fcb5767",
   "metadata": {},
   "source": [
    "- 조건부확률"
   ]
  },
  {
   "cell_type": "code",
   "execution_count": 30,
   "id": "b1c14ee3",
   "metadata": {},
   "outputs": [],
   "source": [
    "# ash > 2.5일 때 color intensity > 8 일 확률\n",
    "ash25 = df[df['ash']>2.5]\n",
    "ci8 = ash25[ash25['color_intensity']>8]"
   ]
  },
  {
   "cell_type": "code",
   "execution_count": 31,
   "id": "c0452d02",
   "metadata": {},
   "outputs": [
    {
     "data": {
      "text/plain": [
       "0.1346153846153846"
      ]
     },
     "execution_count": 31,
     "metadata": {},
     "output_type": "execute_result"
    }
   ],
   "source": [
    "len(ci8) / len(ash25)"
   ]
  },
  {
   "cell_type": "markdown",
   "id": "9aadfe5e",
   "metadata": {},
   "source": [
    "**가설검정**  \n",
    "- H0 (귀무가설): 그룹 A의 평균 alcohol 수치와 그룹 B의 평균 alcohol 수치는 차이가 없다.\n",
    "- H1 (대립가설): 그룹 A의 평균 alcohol 수치는 그룹 B의 평균 alcohol 수치보다 크다."
   ]
  },
  {
   "cell_type": "code",
   "execution_count": 36,
   "id": "44f25b39",
   "metadata": {},
   "outputs": [],
   "source": [
    "# 2.35는 각 df의 개수를 맞추기 위한 임의의 값\n",
    "df_A = df[df['ash']>2.35] \n",
    "df_B = df[df['ash']<=2.35] "
   ]
  },
  {
   "cell_type": "code",
   "execution_count": 37,
   "id": "7c0d70a5",
   "metadata": {},
   "outputs": [
    {
     "data": {
      "text/plain": [
       "92"
      ]
     },
     "execution_count": 37,
     "metadata": {},
     "output_type": "execute_result"
    }
   ],
   "source": [
    "len(df_A)"
   ]
  },
  {
   "cell_type": "code",
   "execution_count": 38,
   "id": "16bd5bef",
   "metadata": {},
   "outputs": [
    {
     "data": {
      "text/plain": [
       "86"
      ]
     },
     "execution_count": 38,
     "metadata": {},
     "output_type": "execute_result"
    }
   ],
   "source": [
    "len(df_B)"
   ]
  },
  {
   "cell_type": "code",
   "execution_count": 39,
   "id": "33f9a84a",
   "metadata": {},
   "outputs": [
    {
     "data": {
      "text/plain": [
       "0      14.23\n",
       "2      13.16\n",
       "3      14.37\n",
       "4      13.24\n",
       "5      14.20\n",
       "       ...  \n",
       "172    14.16\n",
       "173    13.71\n",
       "174    13.40\n",
       "176    13.17\n",
       "177    14.13\n",
       "Name: alcohol, Length: 92, dtype: float64"
      ]
     },
     "execution_count": 39,
     "metadata": {},
     "output_type": "execute_result"
    }
   ],
   "source": [
    "df_A['alcohol']"
   ]
  },
  {
   "cell_type": "code",
   "execution_count": 40,
   "id": "978596a8",
   "metadata": {},
   "outputs": [
    {
     "data": {
      "text/plain": [
       "1      13.20\n",
       "8      14.83\n",
       "9      13.86\n",
       "10     14.10\n",
       "11     14.12\n",
       "       ...  \n",
       "165    13.73\n",
       "167    12.82\n",
       "170    12.20\n",
       "171    12.77\n",
       "175    13.27\n",
       "Name: alcohol, Length: 86, dtype: float64"
      ]
     },
     "execution_count": 40,
     "metadata": {},
     "output_type": "execute_result"
    }
   ],
   "source": [
    "df_B['alcohol']"
   ]
  },
  {
   "attachments": {
    "image.png": {
     "image/png": "[encoded data removed]"
    }
   },
   "cell_type": "markdown",
   "id": "da779fe7",
   "metadata": {},
   "source": [
    "- 두 집단 평균 차이 검정 \n",
    "![image.png](attachment:image.png)"
   ]
  },
  {
   "cell_type": "code",
   "execution_count": 41,
   "id": "0834b401",
   "metadata": {},
   "outputs": [
    {
     "name": "stdout",
     "output_type": "stream",
     "text": [
      "13.17184782608696\n",
      "12.817441860465117\n",
      "0.1187450948483407\n"
     ]
    }
   ],
   "source": [
    "a = df_A['alcohol']\n",
    "b = df_B['alcohol']\n",
    "\n",
    "n1 = len(a)\n",
    "n2 = len(b)\n",
    "\n",
    "mean_a = a.mean()\n",
    "mean_b = b.mean()\n",
    "print(mean_a)\n",
    "print(mean_b)\n",
    "\n",
    "var_a = a.var()\n",
    "var_b = b.var()\n",
    "\n",
    "s = ((var_a/n1)+(var_b/n2))**0.5\n",
    "print(s)"
   ]
  },
  {
   "cell_type": "markdown",
   "id": "bf8a5591",
   "metadata": {},
   "source": [
    "- 검정통계량 값 -> z-value 구하기 "
   ]
  },
  {
   "cell_type": "code",
   "execution_count": 42,
   "id": "08f13fb7",
   "metadata": {},
   "outputs": [
    {
     "name": "stdout",
     "output_type": "stream",
     "text": [
      "2.984594572723069\n"
     ]
    }
   ],
   "source": [
    "z_value = (mean_a - mean_b)/s\n",
    "print(z_value)"
   ]
  },
  {
   "cell_type": "code",
   "execution_count": 43,
   "id": "ac596523",
   "metadata": {},
   "outputs": [],
   "source": [
    "z_dist = stats.norm(0,1)  # 표준화\n",
    "p_value = 1 - z_dist.cdf(z_value)"
   ]
  },
  {
   "cell_type": "markdown",
   "id": "913f8204",
   "metadata": {},
   "source": [
    "- p-value < 0.05 이면 귀무가설 기각 ! "
   ]
  },
  {
   "cell_type": "code",
   "execution_count": 44,
   "id": "c2816082",
   "metadata": {},
   "outputs": [
    {
     "data": {
      "text/plain": [
       "0.0014197720399458102"
      ]
     },
     "execution_count": 44,
     "metadata": {},
     "output_type": "execute_result"
    }
   ],
   "source": [
    "p_value"
   ]
  },
  {
   "cell_type": "markdown",
   "id": "90496591",
   "metadata": {},
   "source": [
    "**가설 검정 - 세 집단 평균 차이 검정**\n",
    "> 가설 총 3개임"
   ]
  },
  {
   "cell_type": "code",
   "execution_count": 46,
   "id": "650d469e",
   "metadata": {},
   "outputs": [],
   "source": [
    "df_A = df[df['ash']<2.28] \n",
    "df_B = df[(df['ash']>=2.28)&(df['ash']<=2.47)]\n",
    "df_C = df[df['ash']>2.47] "
   ]
  },
  {
   "cell_type": "code",
   "execution_count": 47,
   "id": "2e57a4bd",
   "metadata": {},
   "outputs": [],
   "source": [
    "a = df_A['alcohol']\n",
    "b = df_B['alcohol']\n",
    "c = df_C['alcohol']"
   ]
  },
  {
   "cell_type": "code",
   "execution_count": 48,
   "id": "cfc2ecda",
   "metadata": {},
   "outputs": [
    {
     "name": "stdout",
     "output_type": "stream",
     "text": [
      "59\n",
      "58\n",
      "61\n"
     ]
    }
   ],
   "source": [
    "n1 = len(a)\n",
    "n2 = len(b) \n",
    "n3 = len(c) \n",
    "print(n1)\n",
    "print(n2)\n",
    "print(n3)"
   ]
  },
  {
   "cell_type": "code",
   "execution_count": 49,
   "id": "baba79eb",
   "metadata": {},
   "outputs": [
    {
     "name": "stdout",
     "output_type": "stream",
     "text": [
      "검정통계량: 0.9709163308143616, p-value: 0.16921241581439972\n",
      "검정통계량: 0.9692205190658569, p-value: 0.14712165296077728\n",
      "검정통계량: 0.9448610544204712, p-value: 0.008268149569630623\n"
     ]
    }
   ],
   "source": [
    "# 정규성 검정\n",
    "test_stat, p = stats.shapiro(a)  # 샤피로 월크 테스트\n",
    "print(\"검정통계량: {}, p-value: {}\".format(test_stat,p))\n",
    "\n",
    "test_stat, p = stats.shapiro(b)  \n",
    "print(\"검정통계량: {}, p-value: {}\".format(test_stat,p))\n",
    "\n",
    "test_stat, p = stats.shapiro(c)  \n",
    "print(\"검정통계량: {}, p-value: {}\".format(test_stat,p))"
   ]
  },
  {
   "cell_type": "markdown",
   "id": "62795b58",
   "metadata": {},
   "source": [
    "- c의 p-value < 0.05이므로 귀무가설 기각 => 정규 분포를 따르지 않는다"
   ]
  },
  {
   "cell_type": "code",
   "execution_count": 51,
   "id": "c2467604",
   "metadata": {},
   "outputs": [
    {
     "data": {
      "text/plain": [
       "BartlettResult(statistic=1.2778020504976038, pvalue=0.5278722236377734)"
      ]
     },
     "execution_count": 51,
     "metadata": {},
     "output_type": "execute_result"
    }
   ],
   "source": [
    "# 분산 동질성 검정\n",
    "stats.bartlett(a,b,c)"
   ]
  },
  {
   "cell_type": "markdown",
   "id": "0005ff94",
   "metadata": {},
   "source": [
    "- p-value > 0.05 이므로 귀무가설 채택 \n",
    "> 그룹 a, b, c의 분산이 동일하다 "
   ]
  },
  {
   "cell_type": "code",
   "execution_count": 52,
   "id": "dcb6a004",
   "metadata": {},
   "outputs": [
    {
     "name": "stdout",
     "output_type": "stream",
     "text": [
      "F-통계량:  5.153211984906106\n",
      "p-value:  0.006689793066378117\n"
     ]
    }
   ],
   "source": [
    "f_val, p_val = stats.f_oneway(a, b, c)  # ANOVA 검정\n",
    "print('F-통계량: ', f_val)\n",
    "print('p-value: ', p_val)"
   ]
  },
  {
   "cell_type": "code",
   "execution_count": 54,
   "id": "641de3ce",
   "metadata": {},
   "outputs": [
    {
     "name": "stdout",
     "output_type": "stream",
     "text": [
      "F-통계량:  10.300136172298497\n",
      "p-value:  0.0057990098811482715\n"
     ]
    }
   ],
   "source": [
    "f_val, p_val = stats.kruskal(a, b, c)  # 크루스칼 왈리스 테스트\n",
    "print('F-통계량: ', f_val)\n",
    "print('p-value: ', p_val)"
   ]
  },
  {
   "cell_type": "markdown",
   "id": "56f612c1",
   "metadata": {},
   "source": [
    "- p-value < 0.05 이므로 귀무가설 기각, H1 채택"
   ]
  },
  {
   "cell_type": "code",
   "execution_count": null,
   "id": "25ee3b6b",
   "metadata": {},
   "outputs": [],
   "source": []
  }
 ],
 "metadata": {
  "kernelspec": {
   "display_name": "Python 3 (ipykernel)",
   "language": "python",
   "name": "python3"
  },
  "language_info": {
   "codemirror_mode": {
    "name": "ipython",
    "version": 3
   },
   "file_extension": ".py",
   "mimetype": "text/x-python",
   "name": "python",
   "nbconvert_exporter": "python",
   "pygments_lexer": "ipython3",
   "version": "3.9.12"
  }
 },
 "nbformat": 4,
 "nbformat_minor": 5
}

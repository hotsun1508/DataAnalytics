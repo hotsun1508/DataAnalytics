{
 "cells": [
  {
   "cell_type": "code",
   "execution_count": 1,
   "id": "7a63894c",
   "metadata": {},
   "outputs": [
    {
     "data": {
      "text/plain": [
       "2"
      ]
     },
     "execution_count": 1,
     "metadata": {},
     "output_type": "execute_result"
    }
   ],
   "source": [
    "1+1"
   ]
  },
  {
   "cell_type": "code",
   "execution_count": 2,
   "id": "1bc60225",
   "metadata": {},
   "outputs": [],
   "source": [
    "import tensorflow as tf"
   ]
  },
  {
   "cell_type": "markdown",
   "id": "95f71775",
   "metadata": {},
   "source": [
    "## 시그마"
   ]
  },
  {
   "cell_type": "code",
   "execution_count": 9,
   "id": "055247cb",
   "metadata": {},
   "outputs": [
    {
     "name": "stdout",
     "output_type": "stream",
     "text": [
      "1 = 1\n",
      "2 = 3\n",
      "3 = 6\n",
      "4 = 10\n",
      "5 = 15\n",
      "6 = 21\n",
      "7 = 28\n",
      "8 = 36\n",
      "9 = 45\n",
      "10 = 55\n"
     ]
    }
   ],
   "source": [
    "res = 0\n",
    "\n",
    "for i in range(1,11):\n",
    "    res += i\n",
    "    print(i,\"=\",res)"
   ]
  },
  {
   "cell_type": "code",
   "execution_count": 15,
   "id": "d7d01d60",
   "metadata": {},
   "outputs": [
    {
     "name": "stdout",
     "output_type": "stream",
     "text": [
      "1 번째 : 7\n",
      "2 번째 : 15\n",
      "3 번째 : 24\n"
     ]
    }
   ],
   "source": [
    "res = 0\n",
    "\n",
    "for a,b in enumerate(range(7,10)):\n",
    "    res += b\n",
    "    print(a+1,\"번째\",\":\",res)"
   ]
  },
  {
   "cell_type": "code",
   "execution_count": 24,
   "id": "8afe6237",
   "metadata": {},
   "outputs": [
    {
     "name": "stdout",
     "output_type": "stream",
     "text": [
      "1 번째: 3\n",
      "2 번째: 6\n",
      "3 번째: 9\n",
      "4 번째: 12\n",
      "5 번째: 15\n",
      "6 번째: 18\n",
      "7 번째: 21\n",
      "8 번째: 24\n",
      "9 번째: 27\n",
      "10 번째: 30\n"
     ]
    }
   ],
   "source": [
    "res = 0\n",
    "\n",
    "for i in range(10):\n",
    "    res += 3\n",
    "    print(i+1, \"번째:\", res)"
   ]
  },
  {
   "cell_type": "code",
   "execution_count": 22,
   "id": "ff09c316",
   "metadata": {},
   "outputs": [
    {
     "name": "stdout",
     "output_type": "stream",
     "text": [
      "1 번째: 3\n",
      "2 번째: 9\n",
      "3 번째: 18\n",
      "4 번째: 30\n",
      "5 번째: 45\n",
      "6 번째: 63\n",
      "7 번째: 84\n",
      "8 번째: 108\n",
      "9 번째: 135\n",
      "10 번째: 165\n"
     ]
    }
   ],
   "source": [
    "res = 0\n",
    "\n",
    "for i in range(1, 11):\n",
    "    res += 3*i\n",
    "    print(i, \"번째:\", res)"
   ]
  },
  {
   "cell_type": "code",
   "execution_count": 27,
   "id": "4a546f0e",
   "metadata": {},
   "outputs": [
    {
     "data": {
      "text/plain": [
       "['A']"
      ]
     },
     "execution_count": 27,
     "metadata": {},
     "output_type": "execute_result"
    }
   ],
   "source": [
    "check = []\n",
    "a = 1\n",
    "\n",
    "if a == 1:\n",
    "    check += \"A\"\n",
    "    \n",
    "check"
   ]
  },
  {
   "cell_type": "code",
   "execution_count": 28,
   "id": "128b95d4",
   "metadata": {},
   "outputs": [
    {
     "data": {
      "text/plain": [
       "-3"
      ]
     },
     "execution_count": 28,
     "metadata": {},
     "output_type": "execute_result"
    }
   ],
   "source": [
    "res = 0\n",
    "\n",
    "for i in range(1,3):\n",
    "    for j in range(1,4):\n",
    "        res += i - j\n",
    "res"
   ]
  },
  {
   "cell_type": "code",
   "execution_count": 29,
   "id": "f117024b",
   "metadata": {},
   "outputs": [
    {
     "data": {
      "text/plain": [
       "-3"
      ]
     },
     "execution_count": 29,
     "metadata": {},
     "output_type": "execute_result"
    }
   ],
   "source": [
    "res = 0\n",
    "\n",
    "for j in range(1,4):  # 순서 바꿔도 같네 ??? 왜냐면 i-j의 순서가 바뀐 건 아니니까 ! \n",
    "    for i in range(1,3):\n",
    "        res += i - j\n",
    "res"
   ]
  },
  {
   "cell_type": "markdown",
   "id": "e798202e",
   "metadata": {},
   "source": [
    "## Pi 파이"
   ]
  },
  {
   "cell_type": "code",
   "execution_count": 32,
   "id": "a67c2e97",
   "metadata": {},
   "outputs": [
    {
     "name": "stdout",
     "output_type": "stream",
     "text": [
      "1 번째: 1\n",
      "2 번째: 2\n",
      "3 번째: 6\n",
      "4 번째: 24\n",
      "5 번째: 120\n",
      "6 번째: 720\n",
      "7 번째: 5040\n",
      "8 번째: 40320\n",
      "9 번째: 362880\n",
      "10 번째: 3628800\n"
     ]
    }
   ],
   "source": [
    "res = 1\n",
    "for i in range(1, 11):\n",
    "    res*= i\n",
    "    print(i,\"번째:\", res)"
   ]
  },
  {
   "cell_type": "code",
   "execution_count": 33,
   "id": "930ddad7",
   "metadata": {},
   "outputs": [
    {
     "name": "stdout",
     "output_type": "stream",
     "text": [
      "1 번째: 3\n",
      "2 번째: 9\n",
      "3 번째: 27\n",
      "4 번째: 81\n",
      "5 번째: 243\n"
     ]
    }
   ],
   "source": [
    "res = 1\n",
    "for i in range(1, 6):\n",
    "    res*= 3\n",
    "    print(i,\"번째:\", res)"
   ]
  },
  {
   "cell_type": "code",
   "execution_count": 34,
   "id": "7c3cf476",
   "metadata": {},
   "outputs": [
    {
     "name": "stdout",
     "output_type": "stream",
     "text": [
      "1 번째: 2\n",
      "2 번째: 8\n",
      "3 번째: 48\n",
      "4 번째: 384\n",
      "5 번째: 3840\n"
     ]
    }
   ],
   "source": [
    "res = 1\n",
    "for i in range(1, 6):\n",
    "    res*= 2*i\n",
    "    print(i,\"번째:\", res)"
   ]
  },
  {
   "cell_type": "code",
   "execution_count": 42,
   "id": "794d24e4",
   "metadata": {},
   "outputs": [
    {
     "name": "stdout",
     "output_type": "stream",
     "text": [
      "i = 1 ,j = 4 ,i-j= -3\n",
      "i = 1 ,j = 5 ,i-j= 12\n",
      "i = 2 ,j = 4 ,i-j= -24\n",
      "i = 2 ,j = 5 ,i-j= 72\n",
      "i = 3 ,j = 4 ,i-j= -72\n",
      "i = 3 ,j = 5 ,i-j= 144\n"
     ]
    }
   ],
   "source": [
    "res = 1\n",
    "for i in range(1,4):\n",
    "    for j in range(4,6):\n",
    "        res *= i-j\n",
    "        print(\"i =\",i,\",j =\",j,\",i-j=\",res)"
   ]
  },
  {
   "cell_type": "code",
   "execution_count": 43,
   "id": "eb0ac04f",
   "metadata": {
    "scrolled": true
   },
   "outputs": [
    {
     "name": "stdout",
     "output_type": "stream",
     "text": [
      "i = 1 ,j = 4 ,i-j= -3\n",
      "i = 2 ,j = 4 ,i-j= 6\n",
      "i = 3 ,j = 4 ,i-j= -6\n",
      "i = 1 ,j = 5 ,i-j= 24\n",
      "i = 2 ,j = 5 ,i-j= -72\n",
      "i = 3 ,j = 5 ,i-j= 144\n"
     ]
    }
   ],
   "source": [
    "res = 1\n",
    "for j in range(4,6):\n",
    "    for i in range(1,4):  \n",
    "        res *= i-j     # 결국 순서는 같기 때문에 j가 먼저 돌든, i가 먼저 돌든 상관없음 \n",
    "        print(\"i =\",i,\",j =\",j,\",i-j=\",res)"
   ]
  },
  {
   "cell_type": "markdown",
   "id": "e1502b02",
   "metadata": {},
   "source": [
    "## factorial 팩토리얼 "
   ]
  },
  {
   "cell_type": "code",
   "execution_count": 46,
   "id": "262d4c4c",
   "metadata": {},
   "outputs": [
    {
     "name": "stdout",
     "output_type": "stream",
     "text": [
      "1 1\n",
      "2 2\n",
      "3 6\n",
      "4 24\n",
      "5 120\n"
     ]
    }
   ],
   "source": [
    "res = 1\n",
    "for i in range(1,6):  # 1 -> 5 증가 !! 이 방법이 실수 안하니까 이걸로 해 !! \n",
    "    res *= i\n",
    "    print(i, res)"
   ]
  },
  {
   "cell_type": "code",
   "execution_count": 47,
   "id": "2f55918c",
   "metadata": {},
   "outputs": [
    {
     "name": "stdout",
     "output_type": "stream",
     "text": [
      "5 5\n",
      "4 20\n",
      "3 60\n",
      "2 120\n",
      "1 120\n"
     ]
    }
   ],
   "source": [
    "res = 1\n",
    "for i in range(5, 0, -1):  # 5 -> 1까지 하나씩 감소 \n",
    "    res *= i\n",
    "    print(i, res)"
   ]
  },
  {
   "cell_type": "code",
   "execution_count": null,
   "id": "24716349",
   "metadata": {},
   "outputs": [],
   "source": [
    "## 함수화하기 - 감소 \n",
    "\n",
    "def factorial(n):\n",
    "    res = 1\n",
    "    for i in range(n, 0, -1):\n",
    "        res *= i\n",
    "        print(i, res)\n",
    "    return res"
   ]
  },
  {
   "cell_type": "code",
   "execution_count": 49,
   "id": "fc37a9d7",
   "metadata": {},
   "outputs": [],
   "source": [
    "## 함수화하기 - 증가 (선호함)\n",
    "\n",
    "def factorial(n):\n",
    "    res = 1\n",
    "    for i in range(1, n+1):\n",
    "        res *= i\n",
    "        print(i, res)\n",
    "    return res"
   ]
  },
  {
   "cell_type": "code",
   "execution_count": 52,
   "id": "ae491d19",
   "metadata": {},
   "outputs": [
    {
     "name": "stdout",
     "output_type": "stream",
     "text": [
      "5 5\n",
      "4 20\n",
      "3 60\n",
      "2 120\n",
      "1 120\n"
     ]
    },
    {
     "data": {
      "text/plain": [
       "120"
      ]
     },
     "execution_count": 52,
     "metadata": {},
     "output_type": "execute_result"
    }
   ],
   "source": [
    "factorial(5)"
   ]
  },
  {
   "cell_type": "markdown",
   "id": "c542399c",
   "metadata": {},
   "source": [
    "## Combination(조합), Binomial (이항함수)\n",
    "- nCx \n",
    "- n개 중에 x개를 순서 상관없이 뽑을 수 있는 경우의 수"
   ]
  },
  {
   "cell_type": "code",
   "execution_count": 54,
   "id": "01ef4878",
   "metadata": {},
   "outputs": [],
   "source": [
    "def factorial(n):\n",
    "    res = 1\n",
    "    for i in range(1, n+1):\n",
    "        res *= i\n",
    "    return res"
   ]
  },
  {
   "cell_type": "code",
   "execution_count": 56,
   "id": "db4698e8",
   "metadata": {
    "scrolled": true
   },
   "outputs": [
    {
     "data": {
      "text/plain": [
       "6.0"
      ]
     },
     "execution_count": 56,
     "metadata": {},
     "output_type": "execute_result"
    }
   ],
   "source": [
    "factorial(4)/(factorial(2)*factorial(4-2))"
   ]
  },
  {
   "cell_type": "code",
   "execution_count": 61,
   "id": "8a424153",
   "metadata": {},
   "outputs": [],
   "source": [
    "def binomial(n, x):\n",
    "    res = 1 # 안해도 되나 ? \n",
    "    res = factorial(n)/(factorial(x)*factorial(n-x))\n",
    "    return res"
   ]
  },
  {
   "cell_type": "code",
   "execution_count": 62,
   "id": "769c77b9",
   "metadata": {},
   "outputs": [
    {
     "data": {
      "text/plain": [
       "6.0"
      ]
     },
     "execution_count": 62,
     "metadata": {},
     "output_type": "execute_result"
    }
   ],
   "source": [
    "binomial(4,2)"
   ]
  },
  {
   "cell_type": "markdown",
   "id": "131ef1a0",
   "metadata": {},
   "source": [
    "## Indicator function 지시함수\n",
    "- x가 A에 속하면 1, 속하지 않으면 0"
   ]
  },
  {
   "cell_type": "code",
   "execution_count": 63,
   "id": "2db637ac",
   "metadata": {},
   "outputs": [
    {
     "data": {
      "text/plain": [
       "False"
      ]
     },
     "execution_count": 63,
     "metadata": {},
     "output_type": "execute_result"
    }
   ],
   "source": [
    "x = 13\n",
    "x < 10"
   ]
  },
  {
   "cell_type": "code",
   "execution_count": 64,
   "id": "e539bab2",
   "metadata": {},
   "outputs": [
    {
     "data": {
      "text/plain": [
       "0"
      ]
     },
     "execution_count": 64,
     "metadata": {},
     "output_type": "execute_result"
    }
   ],
   "source": [
    "int(x < 10)"
   ]
  },
  {
   "cell_type": "code",
   "execution_count": 65,
   "id": "b2432c73",
   "metadata": {},
   "outputs": [
    {
     "data": {
      "text/plain": [
       "0.0"
      ]
     },
     "execution_count": 65,
     "metadata": {},
     "output_type": "execute_result"
    }
   ],
   "source": [
    "float(x < 10)"
   ]
  },
  {
   "cell_type": "code",
   "execution_count": 70,
   "id": "60669710",
   "metadata": {},
   "outputs": [
    {
     "data": {
      "text/plain": [
       "0"
      ]
     },
     "execution_count": 70,
     "metadata": {},
     "output_type": "execute_result"
    }
   ],
   "source": [
    "res = 0  # 초기화할 땐 1,0말고 다른 숫자 넣어보기 \n",
    "x = 13\n",
    "\n",
    "if x < 10:\n",
    "    res = 1\n",
    "else:\n",
    "    res = 0\n",
    "\n",
    "res"
   ]
  },
  {
   "cell_type": "code",
   "execution_count": 71,
   "id": "17e0a47c",
   "metadata": {},
   "outputs": [
    {
     "name": "stdout",
     "output_type": "stream",
     "text": [
      "1 3 5\n",
      "5\n"
     ]
    }
   ],
   "source": [
    "li = list(map(int, input().split()))\n",
    "print(max(li))"
   ]
  },
  {
   "cell_type": "markdown",
   "id": "ae7fe15e",
   "metadata": {},
   "source": [
    "## 자연 상수 e \n",
    "- 2.7182818284 => `2.718`\n",
    "- `lambda` "
   ]
  },
  {
   "cell_type": "code",
   "execution_count": 72,
   "id": "40139947",
   "metadata": {},
   "outputs": [
    {
     "name": "stdout",
     "output_type": "stream",
     "text": [
      "2.7048138294215285\n"
     ]
    }
   ],
   "source": [
    "n = 100\n",
    "e = (1+(1/n))**n\n",
    "print(e)"
   ]
  },
  {
   "cell_type": "code",
   "execution_count": 73,
   "id": "ea8b2449",
   "metadata": {},
   "outputs": [
    {
     "name": "stdout",
     "output_type": "stream",
     "text": [
      "2.7169239322355936\n"
     ]
    }
   ],
   "source": [
    "n = 1000\n",
    "e = (1+(1/n))**n\n",
    "print(e)"
   ]
  },
  {
   "cell_type": "code",
   "execution_count": 74,
   "id": "bdc5fae9",
   "metadata": {},
   "outputs": [
    {
     "name": "stdout",
     "output_type": "stream",
     "text": [
      "2.7181459268249255\n"
     ]
    }
   ],
   "source": [
    "n = 10000\n",
    "e = (1+(1/n))**n\n",
    "print(e)"
   ]
  },
  {
   "cell_type": "code",
   "execution_count": 75,
   "id": "8e0057e5",
   "metadata": {},
   "outputs": [
    {
     "name": "stdout",
     "output_type": "stream",
     "text": [
      "2.7182682371922975\n"
     ]
    }
   ],
   "source": [
    "n = 100000\n",
    "e = (1+(1/n))**n\n",
    "print(e)"
   ]
  },
  {
   "cell_type": "code",
   "execution_count": 76,
   "id": "a3e12a2e",
   "metadata": {},
   "outputs": [
    {
     "name": "stdout",
     "output_type": "stream",
     "text": [
      "2.7182804690957534\n"
     ]
    }
   ],
   "source": [
    "n = 1000000\n",
    "e = (1+(1/n))**n\n",
    "print(e)"
   ]
  },
  {
   "cell_type": "code",
   "execution_count": 85,
   "id": "8bd15d17",
   "metadata": {},
   "outputs": [
    {
     "name": "stdout",
     "output_type": "stream",
     "text": [
      "2.71828205335711\n"
     ]
    }
   ],
   "source": [
    "n = 100000000000\n",
    "e = (1+(1/n))**n\n",
    "print(e)"
   ]
  },
  {
   "cell_type": "code",
   "execution_count": 86,
   "id": "d97f5398",
   "metadata": {},
   "outputs": [
    {
     "name": "stdout",
     "output_type": "stream",
     "text": [
      "3.035035206549262\n"
     ]
    }
   ],
   "source": [
    "n = 1000000000000000 # 0을 많이 넣으면 컴퓨터의 한계(memory RAM)때문에 값이 제대로 안나옴 !!! print 무조건 해봐야 함 ! \n",
    "e = (1+(1/n))**n\n",
    "print(e)"
   ]
  },
  {
   "cell_type": "markdown",
   "id": "8d3cadd3",
   "metadata": {},
   "source": [
    "## min, argmin\n",
    "min: 최소값  \n",
    "argmin: 최소값의 index"
   ]
  },
  {
   "cell_type": "code",
   "execution_count": 87,
   "id": "3fa08a7f",
   "metadata": {},
   "outputs": [
    {
     "data": {
      "text/plain": [
       "2"
      ]
     },
     "execution_count": 87,
     "metadata": {},
     "output_type": "execute_result"
    }
   ],
   "source": [
    "x = [4,2,8,9,3]\n",
    "\n",
    "min_value = min(x)\n",
    "min_value"
   ]
  },
  {
   "cell_type": "code",
   "execution_count": 88,
   "id": "a8e8080d",
   "metadata": {},
   "outputs": [
    {
     "data": {
      "text/plain": [
       "1"
      ]
     },
     "execution_count": 88,
     "metadata": {},
     "output_type": "execute_result"
    }
   ],
   "source": [
    "## argmin 순수 파이썬으로 구현\n",
    "x.index(min_value)"
   ]
  },
  {
   "cell_type": "code",
   "execution_count": 89,
   "id": "fadb0532",
   "metadata": {},
   "outputs": [
    {
     "data": {
      "text/plain": [
       "2"
      ]
     },
     "execution_count": 89,
     "metadata": {},
     "output_type": "execute_result"
    }
   ],
   "source": [
    "## numpy 라이브러리 사용\n",
    "import numpy as np\n",
    "\n",
    "np.min(x)"
   ]
  },
  {
   "cell_type": "code",
   "execution_count": 90,
   "id": "118c8ab3",
   "metadata": {},
   "outputs": [
    {
     "data": {
      "text/plain": [
       "1"
      ]
     },
     "execution_count": 90,
     "metadata": {},
     "output_type": "execute_result"
    }
   ],
   "source": [
    "np.argmin(x)"
   ]
  },
  {
   "cell_type": "markdown",
   "id": "5a22a69b",
   "metadata": {},
   "source": [
    "## max, argmax"
   ]
  },
  {
   "cell_type": "code",
   "execution_count": 91,
   "id": "83e6a2cf",
   "metadata": {},
   "outputs": [
    {
     "data": {
      "text/plain": [
       "9"
      ]
     },
     "execution_count": 91,
     "metadata": {},
     "output_type": "execute_result"
    }
   ],
   "source": [
    "x = [4,2,8,9,3]\n",
    "\n",
    "max_value = max(x)\n",
    "max_value"
   ]
  },
  {
   "cell_type": "code",
   "execution_count": 92,
   "id": "8a226f1b",
   "metadata": {},
   "outputs": [
    {
     "data": {
      "text/plain": [
       "3"
      ]
     },
     "execution_count": 92,
     "metadata": {},
     "output_type": "execute_result"
    }
   ],
   "source": [
    "## argmin 순수 파이썬으로 구현\n",
    "x.index(max_value)"
   ]
  },
  {
   "cell_type": "code",
   "execution_count": 93,
   "id": "dcca3e6d",
   "metadata": {},
   "outputs": [
    {
     "data": {
      "text/plain": [
       "9"
      ]
     },
     "execution_count": 93,
     "metadata": {},
     "output_type": "execute_result"
    }
   ],
   "source": [
    "## numpy 라이브러리 사용\n",
    "import numpy as np\n",
    "\n",
    "np.max(x)"
   ]
  },
  {
   "cell_type": "code",
   "execution_count": 94,
   "id": "a0d882a5",
   "metadata": {},
   "outputs": [
    {
     "data": {
      "text/plain": [
       "3"
      ]
     },
     "execution_count": 94,
     "metadata": {},
     "output_type": "execute_result"
    }
   ],
   "source": [
    "np.argmax(x)"
   ]
  },
  {
   "cell_type": "code",
   "execution_count": null,
   "id": "9d830c6e",
   "metadata": {},
   "outputs": [],
   "source": []
  },
  {
   "cell_type": "code",
   "execution_count": null,
   "id": "7204e95d",
   "metadata": {},
   "outputs": [],
   "source": []
  },
  {
   "cell_type": "code",
   "execution_count": null,
   "id": "19245109",
   "metadata": {},
   "outputs": [],
   "source": []
  },
  {
   "cell_type": "code",
   "execution_count": null,
   "id": "197ae14b",
   "metadata": {},
   "outputs": [],
   "source": []
  }
 ],
 "metadata": {
  "kernelspec": {
   "display_name": "Python 3 (ipykernel)",
   "language": "python",
   "name": "python3"
  },
  "language_info": {
   "codemirror_mode": {
    "name": "ipython",
    "version": 3
   },
   "file_extension": ".py",
   "mimetype": "text/x-python",
   "name": "python",
   "nbconvert_exporter": "python",
   "pygments_lexer": "ipython3",
   "version": "3.10.4"
  }
 },
 "nbformat": 4,
 "nbformat_minor": 5
}

{
 "cells": [
  {
   "cell_type": "markdown",
   "id": "37eabc5f",
   "metadata": {},
   "source": [
    "# 텔레그렘 봇"
   ]
  },
  {
   "cell_type": "markdown",
   "id": "305e4f29",
   "metadata": {},
   "source": [
    "- https://www.notion.so/learningspoons/7f5cd7a77aa34519a87b9cad13bc7d8f\n",
    "### Telegram 채널 만들어서 팔아  ~~"
   ]
  },
  {
   "cell_type": "code",
   "execution_count": 1,
   "id": "aa5473d1",
   "metadata": {},
   "outputs": [
    {
     "name": "stdout",
     "output_type": "stream",
     "text": [
      "Collecting python-telegram-bot\n",
      "  Downloading python_telegram_bot-13.14-py3-none-any.whl (514 kB)\n",
      "     -------------------------------------- 514.6/514.6 kB 1.4 MB/s eta 0:00:00\n",
      "Requirement already satisfied: certifi in c:\\users\\sunah\\anaconda3\\lib\\site-packages (from python-telegram-bot) (2022.9.24)\n",
      "Requirement already satisfied: pytz>=2018.6 in c:\\users\\sunah\\anaconda3\\lib\\site-packages (from python-telegram-bot) (2022.1)\n",
      "Collecting APScheduler==3.6.3\n",
      "  Downloading APScheduler-3.6.3-py2.py3-none-any.whl (58 kB)\n",
      "     -------------------------------------- 58.9/58.9 kB 347.4 kB/s eta 0:00:00\n",
      "Requirement already satisfied: tornado==6.1 in c:\\users\\sunah\\anaconda3\\lib\\site-packages (from python-telegram-bot) (6.1)\n",
      "Collecting cachetools==4.2.2\n",
      "  Downloading cachetools-4.2.2-py3-none-any.whl (11 kB)\n",
      "Requirement already satisfied: six>=1.4.0 in c:\\users\\sunah\\anaconda3\\lib\\site-packages (from APScheduler==3.6.3->python-telegram-bot) (1.16.0)\n",
      "Collecting tzlocal>=1.2\n",
      "  Downloading tzlocal-4.2-py3-none-any.whl (19 kB)\n",
      "Requirement already satisfied: setuptools>=0.7 in c:\\users\\sunah\\anaconda3\\lib\\site-packages (from APScheduler==3.6.3->python-telegram-bot) (61.2.0)\n",
      "Collecting tzdata\n",
      "  Downloading tzdata-2022.5-py2.py3-none-any.whl (336 kB)\n",
      "     -------------------------------------- 336.7/336.7 kB 2.1 MB/s eta 0:00:00\n",
      "Collecting pytz-deprecation-shim\n",
      "  Downloading pytz_deprecation_shim-0.1.0.post0-py2.py3-none-any.whl (15 kB)\n",
      "Installing collected packages: tzdata, cachetools, pytz-deprecation-shim, tzlocal, APScheduler, python-telegram-bot\n",
      "Successfully installed APScheduler-3.6.3 cachetools-4.2.2 python-telegram-bot-13.14 pytz-deprecation-shim-0.1.0.post0 tzdata-2022.5 tzlocal-4.2\n",
      "Note: you may need to restart the kernel to use updated packages.\n"
     ]
    }
   ],
   "source": [
    "pip install python-telegram-bot"
   ]
  },
  {
   "cell_type": "code",
   "execution_count": null,
   "id": "91604fed",
   "metadata": {},
   "outputs": [],
   "source": []
  }
 ],
 "metadata": {
  "kernelspec": {
   "display_name": "Python 3 (ipykernel)",
   "language": "python",
   "name": "python3"
  },
  "language_info": {
   "codemirror_mode": {
    "name": "ipython",
    "version": 3
   },
   "file_extension": ".py",
   "mimetype": "text/x-python",
   "name": "python",
   "nbconvert_exporter": "python",
   "pygments_lexer": "ipython3",
   "version": "3.9.12"
  }
 },
 "nbformat": 4,
 "nbformat_minor": 5
}

{
 "cells": [
  {
   "cell_type": "markdown",
   "metadata": {},
   "source": [
    "## 네이버 환율 데이터 분석\n",
    "- 네이버에서 환율 검색 후 생기는 url\n",
    "\n",
    "(1) 네이버 환율 정보를 가져오세요.\n",
    "(2) 네이버 환율 정보를 excel 파일로 저장하세요.\n",
    "(3) 데이터 시각화"
   ]
  },
  {
   "cell_type": "code",
   "execution_count": 2,
   "metadata": {},
   "outputs": [],
   "source": [
    "import pandas as pd"
   ]
  },
  {
   "cell_type": "markdown",
   "metadata": {},
   "source": [
    "## 환율정보 가져오기"
   ]
  },
  {
   "cell_type": "code",
   "execution_count": 19,
   "metadata": {},
   "outputs": [],
   "source": [
    "# data= pd.read_html(url) # list 형태\n",
    "# # type(data)\n",
    "# data = data[0]"
   ]
  },
  {
   "cell_type": "markdown",
   "metadata": {},
   "source": [
    "## 환율정보 엑셀로 저장하기"
   ]
  },
  {
   "cell_type": "code",
   "execution_count": 29,
   "metadata": {},
   "outputs": [
    {
     "data": {
      "text/html": [
       "<div>\n",
       "<style scoped>\n",
       "    .dataframe tbody tr th:only-of-type {\n",
       "        vertical-align: middle;\n",
       "    }\n",
       "\n",
       "    .dataframe tbody tr th {\n",
       "        vertical-align: top;\n",
       "    }\n",
       "\n",
       "    .dataframe thead th {\n",
       "        text-align: right;\n",
       "    }\n",
       "</style>\n",
       "<table border=\"1\" class=\"dataframe\">\n",
       "  <thead>\n",
       "    <tr style=\"text-align: right;\">\n",
       "      <th></th>\n",
       "      <th>매매기준율</th>\n",
       "      <th>전일대비</th>\n",
       "      <th>등락률</th>\n",
       "    </tr>\n",
       "    <tr>\n",
       "      <th>통화명</th>\n",
       "      <th></th>\n",
       "      <th></th>\n",
       "      <th></th>\n",
       "    </tr>\n",
       "  </thead>\n",
       "  <tbody>\n",
       "    <tr>\n",
       "      <th>미국 USD</th>\n",
       "      <td>1323.80</td>\n",
       "      <td>전일대비하락0.20</td>\n",
       "      <td>-0.02%</td>\n",
       "    </tr>\n",
       "    <tr>\n",
       "      <th>일본 JPY 100</th>\n",
       "      <td>953.09</td>\n",
       "      <td>전일대비상승2.59</td>\n",
       "      <td>+0.27%</td>\n",
       "    </tr>\n",
       "    <tr>\n",
       "      <th>유럽연합 EUR</th>\n",
       "      <td>1326.71</td>\n",
       "      <td>전일대비상승4.56</td>\n",
       "      <td>+0.34%</td>\n",
       "    </tr>\n",
       "    <tr>\n",
       "      <th>중국 CNY</th>\n",
       "      <td>195.84</td>\n",
       "      <td>전일대비상승0.53</td>\n",
       "      <td>+0.27%</td>\n",
       "    </tr>\n",
       "    <tr>\n",
       "      <th>영국 GBP</th>\n",
       "      <td>1567.38</td>\n",
       "      <td>전일대비상승7.44</td>\n",
       "      <td>+0.48%</td>\n",
       "    </tr>\n",
       "    <tr>\n",
       "      <th>호주 AUD</th>\n",
       "      <td>893.63</td>\n",
       "      <td>전일대비상승7.74</td>\n",
       "      <td>+0.87%</td>\n",
       "    </tr>\n",
       "    <tr>\n",
       "      <th>캐나다 CAD</th>\n",
       "      <td>1009.22</td>\n",
       "      <td>전일대비상승4.17</td>\n",
       "      <td>+0.41%</td>\n",
       "    </tr>\n",
       "    <tr>\n",
       "      <th>뉴질랜드 NZD</th>\n",
       "      <td>811.75</td>\n",
       "      <td>전일대비상승7.09</td>\n",
       "      <td>+0.88%</td>\n",
       "    </tr>\n",
       "  </tbody>\n",
       "</table>\n",
       "</div>"
      ],
      "text/plain": [
       "              매매기준율        전일대비     등락률\n",
       "통화명                                    \n",
       "미국 USD      1323.80  전일대비하락0.20  -0.02%\n",
       "일본 JPY 100   953.09  전일대비상승2.59  +0.27%\n",
       "유럽연합 EUR    1326.71  전일대비상승4.56  +0.34%\n",
       "중국 CNY       195.84  전일대비상승0.53  +0.27%\n",
       "영국 GBP      1567.38  전일대비상승7.44  +0.48%\n",
       "호주 AUD       893.63  전일대비상승7.74  +0.87%\n",
       "캐나다 CAD     1009.22  전일대비상승4.17  +0.41%\n",
       "뉴질랜드 NZD     811.75  전일대비상승7.09  +0.88%"
      ]
     },
     "execution_count": 29,
     "metadata": {},
     "output_type": "execute_result"
    }
   ],
   "source": [
    "# from datetime import datetime\n",
    "\n",
    "# sheet 이름 지정\n",
    "# current_time = datetime.now().strftime(\"%Y-%m-%d\")\n",
    "# data.to_excel(current_time+\" 환율.xlsx\", index=False)\n",
    "# data2=data.set_index('통화명')\n",
    "# data2"
   ]
  },
  {
   "cell_type": "markdown",
   "metadata": {},
   "source": [
    "## 데이터 시각화"
   ]
  },
  {
   "cell_type": "code",
   "execution_count": 20,
   "metadata": {},
   "outputs": [
    {
     "data": {
      "text/html": [
       "<div>\n",
       "<style scoped>\n",
       "    .dataframe tbody tr th:only-of-type {\n",
       "        vertical-align: middle;\n",
       "    }\n",
       "\n",
       "    .dataframe tbody tr th {\n",
       "        vertical-align: top;\n",
       "    }\n",
       "\n",
       "    .dataframe thead th {\n",
       "        text-align: right;\n",
       "    }\n",
       "</style>\n",
       "<table border=\"1\" class=\"dataframe\">\n",
       "  <thead>\n",
       "    <tr style=\"text-align: right;\">\n",
       "      <th></th>\n",
       "      <th>통화명</th>\n",
       "      <th>매매기준율</th>\n",
       "      <th>전일대비</th>\n",
       "      <th>등락률</th>\n",
       "    </tr>\n",
       "  </thead>\n",
       "  <tbody>\n",
       "    <tr>\n",
       "      <th>0</th>\n",
       "      <td>미국 USD</td>\n",
       "      <td>1323.80</td>\n",
       "      <td>전일대비하락0.20</td>\n",
       "      <td>-0.02%</td>\n",
       "    </tr>\n",
       "    <tr>\n",
       "      <th>1</th>\n",
       "      <td>일본 JPY 100</td>\n",
       "      <td>953.09</td>\n",
       "      <td>전일대비상승2.59</td>\n",
       "      <td>+0.27%</td>\n",
       "    </tr>\n",
       "    <tr>\n",
       "      <th>2</th>\n",
       "      <td>유럽연합 EUR</td>\n",
       "      <td>1326.71</td>\n",
       "      <td>전일대비상승4.56</td>\n",
       "      <td>+0.34%</td>\n",
       "    </tr>\n",
       "    <tr>\n",
       "      <th>3</th>\n",
       "      <td>중국 CNY</td>\n",
       "      <td>195.84</td>\n",
       "      <td>전일대비상승0.53</td>\n",
       "      <td>+0.27%</td>\n",
       "    </tr>\n",
       "    <tr>\n",
       "      <th>4</th>\n",
       "      <td>영국 GBP</td>\n",
       "      <td>1567.38</td>\n",
       "      <td>전일대비상승7.44</td>\n",
       "      <td>+0.48%</td>\n",
       "    </tr>\n",
       "    <tr>\n",
       "      <th>5</th>\n",
       "      <td>호주 AUD</td>\n",
       "      <td>893.63</td>\n",
       "      <td>전일대비상승7.74</td>\n",
       "      <td>+0.87%</td>\n",
       "    </tr>\n",
       "    <tr>\n",
       "      <th>6</th>\n",
       "      <td>캐나다 CAD</td>\n",
       "      <td>1009.22</td>\n",
       "      <td>전일대비상승4.17</td>\n",
       "      <td>+0.41%</td>\n",
       "    </tr>\n",
       "    <tr>\n",
       "      <th>7</th>\n",
       "      <td>뉴질랜드 NZD</td>\n",
       "      <td>811.75</td>\n",
       "      <td>전일대비상승7.09</td>\n",
       "      <td>+0.88%</td>\n",
       "    </tr>\n",
       "  </tbody>\n",
       "</table>\n",
       "</div>"
      ],
      "text/plain": [
       "          통화명    매매기준율        전일대비     등락률\n",
       "0      미국 USD  1323.80  전일대비하락0.20  -0.02%\n",
       "1  일본 JPY 100   953.09  전일대비상승2.59  +0.27%\n",
       "2    유럽연합 EUR  1326.71  전일대비상승4.56  +0.34%\n",
       "3      중국 CNY   195.84  전일대비상승0.53  +0.27%\n",
       "4      영국 GBP  1567.38  전일대비상승7.44  +0.48%\n",
       "5      호주 AUD   893.63  전일대비상승7.74  +0.87%\n",
       "6     캐나다 CAD  1009.22  전일대비상승4.17  +0.41%\n",
       "7    뉴질랜드 NZD   811.75  전일대비상승7.09  +0.88%"
      ]
     },
     "execution_count": 20,
     "metadata": {},
     "output_type": "execute_result"
    }
   ],
   "source": [
    "import matplotlib\n",
    "import matplotlib.pyplot as plt\n",
    "\n",
    "\n",
    "matplotlib.rcParams['font.family'] = \"Malgun Gothic\" # Windows\n",
    "matplotlib.rcParams['font.size'] = 15 # 글자 크기\n",
    "matplotlib.rcParams['axes.unicode_minus'] = False # 한글 폰트 사용 시, 마이너스 글자가 깨지는 현상 해결\n"
   ]
  },
  {
   "cell_type": "code",
   "execution_count": 22,
   "metadata": {},
   "outputs": [
    {
     "data": {
      "text/plain": [
       "<AxesSubplot:title={'center':'currency'}>"
      ]
     },
     "execution_count": 22,
     "metadata": {},
     "output_type": "execute_result"
    },
    {
     "data": {
      "image/png": "[encoded data removed]",
      "text/plain": [
       "<Figure size 432x288 with 1 Axes>"
      ]
     },
     "metadata": {
      "needs_background": "light"
     },
     "output_type": "display_data"
    }
   ],
   "source": [
    "data.plot(title=\"currency\", grid=True)"
   ]
  },
  {
   "cell_type": "code",
   "execution_count": 23,
   "metadata": {},
   "outputs": [
    {
     "data": {
      "text/plain": [
       "<AxesSubplot:title={'center':'currency'}>"
      ]
     },
     "execution_count": 23,
     "metadata": {},
     "output_type": "execute_result"
    },
    {
     "data": {
      "image/png": "[encoded data removed]",
      "text/plain": [
       "<Figure size 432x288 with 1 Axes>"
      ]
     },
     "metadata": {
      "needs_background": "light"
     },
     "output_type": "display_data"
    }
   ],
   "source": [
    "data.plot(kind=\"bar\", title=\"currency\", grid=True)"
   ]
  },
  {
   "cell_type": "code",
   "execution_count": 24,
   "metadata": {},
   "outputs": [
    {
     "data": {
      "text/plain": [
       "<AxesSubplot:title={'center':'currency'}>"
      ]
     },
     "execution_count": 24,
     "metadata": {},
     "output_type": "execute_result"
    },
    {
     "data": {
      "image/png": "[encoded data removed]",
      "text/plain": [
       "<Figure size 432x288 with 1 Axes>"
      ]
     },
     "metadata": {
      "needs_background": "light"
     },
     "output_type": "display_data"
    }
   ],
   "source": [
    "data.plot(kind=\"barh\", title=\"currency\", grid=True)"
   ]
  },
  {
   "cell_type": "code",
   "execution_count": 25,
   "metadata": {},
   "outputs": [
    {
     "data": {
      "text/plain": [
       "<AxesSubplot:title={'center':'currency'}>"
      ]
     },
     "execution_count": 25,
     "metadata": {},
     "output_type": "execute_result"
    },
    {
     "data": {
      "image/png": "[encoded data removed]",
      "text/plain": [
       "<Figure size 432x288 with 1 Axes>"
      ]
     },
     "metadata": {
      "needs_background": "light"
     },
     "output_type": "display_data"
    }
   ],
   "source": [
    "data.plot(kind=\"area\", title=\"currency\", grid=True)"
   ]
  },
  {
   "cell_type": "code",
   "execution_count": 26,
   "metadata": {},
   "outputs": [
    {
     "data": {
      "text/plain": [
       "<AxesSubplot:>"
      ]
     },
     "execution_count": 26,
     "metadata": {},
     "output_type": "execute_result"
    },
    {
     "data": {
      "image/png": "[encoded data removed]",
      "text/plain": [
       "<Figure size 432x288 with 1 Axes>"
      ]
     },
     "metadata": {
      "needs_background": "light"
     },
     "output_type": "display_data"
    }
   ],
   "source": [
    "data.boxplot()"
   ]
  },
  {
   "cell_type": "code",
   "execution_count": 27,
   "metadata": {},
   "outputs": [],
   "source": [
    "import seaborn as sns"
   ]
  },
  {
   "cell_type": "code",
   "execution_count": 28,
   "metadata": {},
   "outputs": [
    {
     "data": {
      "text/plain": [
       "<seaborn.axisgrid.FacetGrid at 0x7f997427a280>"
      ]
     },
     "execution_count": 28,
     "metadata": {},
     "output_type": "execute_result"
    },
    {
     "data": {
      "image/png": "[encoded data removed]",
      "text/plain": [
       "<Figure size 360x360 with 1 Axes>"
      ]
     },
     "metadata": {
      "needs_background": "light"
     },
     "output_type": "display_data"
    }
   ],
   "source": [
    "sns.displot(data['매매기준율'])"
   ]
  },
  {
   "cell_type": "code",
   "execution_count": null,
   "metadata": {},
   "outputs": [],
   "source": []
  }
 ],
 "metadata": {
  "interpreter": {
   "hash": "aee8b7b246df8f9039afb4144a1f6fd8d2ca17a180786b69acc140d282b71a49"
  },
  "kernelspec": {
   "display_name": "Python 3",
   "language": "python",
   "name": "python3"
  },
  "language_info": {
   "codemirror_mode": {
    "name": "ipython",
    "version": 3
   },
   "file_extension": ".py",
   "mimetype": "text/x-python",
   "name": "python",
   "nbconvert_exporter": "python",
   "pygments_lexer": "ipython3",
   "version": "3.8.8"
  }
 },
 "nbformat": 4,
 "nbformat_minor": 2
}

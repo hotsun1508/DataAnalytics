{
 "cells": [
  {
   "cell_type": "markdown",
   "metadata": {},
   "source": [
    "# 파이썬 박스상자 그래프 그리기"
   ]
  },
  {
   "cell_type": "markdown",
   "metadata": {},
   "source": [
    "아르바이트 자리가 났다. 딱 하루만 일할 수 있다고 한다. 어떤 선택을 할 것인가?"
   ]
  },
  {
   "cell_type": "code",
   "execution_count": 3,
   "metadata": {},
   "outputs": [],
   "source": [
    "#그래프 그리기 위한 패키지 임포트하기\n",
    "import matplotlib.pyplot as plt\n",
    "import pandas as pd\n",
    "import numpy as np"
   ]
  },
  {
   "cell_type": "code",
   "execution_count": 4,
   "metadata": {},
   "outputs": [
    {
     "data": {
      "text/html": [
       "<div>\n",
       "<style scoped>\n",
       "    .dataframe tbody tr th:only-of-type {\n",
       "        vertical-align: middle;\n",
       "    }\n",
       "\n",
       "    .dataframe tbody tr th {\n",
       "        vertical-align: top;\n",
       "    }\n",
       "\n",
       "    .dataframe thead th {\n",
       "        text-align: right;\n",
       "    }\n",
       "</style>\n",
       "<table border=\"1\" class=\"dataframe\">\n",
       "  <thead>\n",
       "    <tr style=\"text-align: right;\">\n",
       "      <th></th>\n",
       "      <th>Total_bill</th>\n",
       "      <th>tip</th>\n",
       "      <th>gender</th>\n",
       "      <th>smoker</th>\n",
       "      <th>day</th>\n",
       "      <th>time</th>\n",
       "      <th>size</th>\n",
       "    </tr>\n",
       "  </thead>\n",
       "  <tbody>\n",
       "    <tr>\n",
       "      <th>0</th>\n",
       "      <td>16.99</td>\n",
       "      <td>1.01</td>\n",
       "      <td>Female</td>\n",
       "      <td>No</td>\n",
       "      <td>Sun</td>\n",
       "      <td>Dinner</td>\n",
       "      <td>2</td>\n",
       "    </tr>\n",
       "    <tr>\n",
       "      <th>1</th>\n",
       "      <td>13.34</td>\n",
       "      <td>1.66</td>\n",
       "      <td>Male</td>\n",
       "      <td>No</td>\n",
       "      <td>Sun</td>\n",
       "      <td>Dinner</td>\n",
       "      <td>3</td>\n",
       "    </tr>\n",
       "    <tr>\n",
       "      <th>2</th>\n",
       "      <td>21.01</td>\n",
       "      <td>3.50</td>\n",
       "      <td>Male</td>\n",
       "      <td>No</td>\n",
       "      <td>Sun</td>\n",
       "      <td>Dinner</td>\n",
       "      <td>3</td>\n",
       "    </tr>\n",
       "    <tr>\n",
       "      <th>3</th>\n",
       "      <td>23.68</td>\n",
       "      <td>3.31</td>\n",
       "      <td>Male</td>\n",
       "      <td>No</td>\n",
       "      <td>Sun</td>\n",
       "      <td>Dinner</td>\n",
       "      <td>2</td>\n",
       "    </tr>\n",
       "    <tr>\n",
       "      <th>4</th>\n",
       "      <td>24.59</td>\n",
       "      <td>3.61</td>\n",
       "      <td>Female</td>\n",
       "      <td>No</td>\n",
       "      <td>Sun</td>\n",
       "      <td>Dinner</td>\n",
       "      <td>4</td>\n",
       "    </tr>\n",
       "  </tbody>\n",
       "</table>\n",
       "</div>"
      ],
      "text/plain": [
       "   Total_bill    tip  gender smoker  day    time  size\n",
       "0        16.99  1.01  Female     No  Sun  Dinner     2\n",
       "1        13.34  1.66    Male     No  Sun  Dinner     3\n",
       "2        21.01  3.50    Male     No  Sun  Dinner     3\n",
       "3        23.68  3.31    Male     No  Sun  Dinner     2\n",
       "4        24.59  3.61  Female     No  Sun  Dinner     4"
      ]
     },
     "execution_count": 4,
     "metadata": {},
     "output_type": "execute_result"
    }
   ],
   "source": [
    "#데이터 가져오기\n",
    "\n",
    "data = pd.read_csv('tips.csv')\n",
    "data.head()"
   ]
  },
  {
   "cell_type": "code",
   "execution_count": 8,
   "metadata": {
    "scrolled": true
   },
   "outputs": [
    {
     "data": {
      "image/png": "[encoded data removed]",
      "text/plain": [
       "<Figure size 432x288 with 1 Axes>"
      ]
     },
     "metadata": {
      "needs_background": "light"
     },
     "output_type": "display_data"
    }
   ],
   "source": [
    "# 성별에 따라 팁이 어떤지 알아보기\n",
    "# unique 기능은 리스트에서 unique value를 추출하는것.\n",
    "\n",
    "gender = data['gender'].unique()\n",
    "tip1 =[] # 빈 리스트에 for in 기능을 이용해서 성별과 팁을 매칭시켜 값을 집어 넣을것이다.\n",
    "\n",
    "for i in gender:\n",
    "    tip1.append(data[data['gender'] == i]['tip'].values)\n",
    "    \n",
    "    \n",
    "#그래프그리기\n",
    "fig, ax = plt.subplots()\n",
    "bp1 = ax.boxplot(tip1, patch_artist=True)\n",
    "ax.set_xticklabels(gender)\n",
    "ax.set_xlabel('Gender')\n",
    "ax.set_ylabel('dollars')\n",
    "ax.set_ylim(0,10)\n",
    "ax.grid(True)\n",
    "ax.set_title('  ', fontsize =20)\n",
    "fig.suptitle('the tip of gender',  fontsize=14, fontweight='bold')\n",
    "\n",
    "colors = [ 'lightgreen', 'lightblue']\n",
    "for patch, color in zip(bp1['boxes'], colors):\n",
    "    patch.set_facecolor(color)\n",
    "    patch.set_color(color)\n",
    "\n",
    "plt.show()"
   ]
  },
  {
   "cell_type": "code",
   "execution_count": null,
   "metadata": {},
   "outputs": [
    {
     "name": "stdout",
     "output_type": "stream",
     "text": [
      "(1, 'A')\n",
      "(2, 'B')\n",
      "(3, 'C')\n"
     ]
    }
   ],
   "source": [
    "numbers = [1, 2, 3]\n",
    "letters = [\"A\", \"B\", \"C\"]\n",
    "\n",
    "for pair in zip(numbers, letters):\n",
    "    print(pair)"
   ]
  },
  {
   "cell_type": "code",
   "execution_count": null,
   "metadata": {},
   "outputs": [
    {
     "name": "stdout",
     "output_type": "stream",
     "text": [
      "['Female' 'Male']\n"
     ]
    }
   ],
   "source": [
    "print (gender)"
   ]
  },
  {
   "cell_type": "code",
   "execution_count": null,
   "metadata": {},
   "outputs": [
    {
     "name": "stdout",
     "output_type": "stream",
     "text": [
      "Female tip:  [1.01  3.61  3.075 6.375 3.84  6.795 8.34  3.495 3.375 4.89 ]\n",
      "Male tip:  [ 1.66   3.5    3.31   4.875  5.325 10.89   7.89   4.47   4.575]\n"
     ]
    }
   ],
   "source": [
    "\n",
    "print ('Female tip: ', tip1[0])\n",
    "print ('Male tip: ', tip1[1])"
   ]
  },
  {
   "cell_type": "code",
   "execution_count": null,
   "metadata": {},
   "outputs": [
    {
     "data": {
      "text/html": [
       "<div>\n",
       "<style scoped>\n",
       "    .dataframe tbody tr th:only-of-type {\n",
       "        vertical-align: middle;\n",
       "    }\n",
       "\n",
       "    .dataframe tbody tr th {\n",
       "        vertical-align: top;\n",
       "    }\n",
       "\n",
       "    .dataframe thead tr th {\n",
       "        text-align: left;\n",
       "    }\n",
       "\n",
       "    .dataframe thead tr:last-of-type th {\n",
       "        text-align: right;\n",
       "    }\n",
       "</style>\n",
       "<table border=\"1\" class=\"dataframe\">\n",
       "  <thead>\n",
       "    <tr>\n",
       "      <th></th>\n",
       "      <th colspan=\"8\" halign=\"left\">Total_bill</th>\n",
       "      <th colspan=\"5\" halign=\"left\">tip</th>\n",
       "      <th colspan=\"8\" halign=\"left\">size</th>\n",
       "    </tr>\n",
       "    <tr>\n",
       "      <th></th>\n",
       "      <th>count</th>\n",
       "      <th>mean</th>\n",
       "      <th>std</th>\n",
       "      <th>min</th>\n",
       "      <th>25%</th>\n",
       "      <th>50%</th>\n",
       "      <th>75%</th>\n",
       "      <th>max</th>\n",
       "      <th>count</th>\n",
       "      <th>mean</th>\n",
       "      <th>...</th>\n",
       "      <th>75%</th>\n",
       "      <th>max</th>\n",
       "      <th>count</th>\n",
       "      <th>mean</th>\n",
       "      <th>std</th>\n",
       "      <th>min</th>\n",
       "      <th>25%</th>\n",
       "      <th>50%</th>\n",
       "      <th>75%</th>\n",
       "      <th>max</th>\n",
       "    </tr>\n",
       "    <tr>\n",
       "      <th>gender</th>\n",
       "      <th></th>\n",
       "      <th></th>\n",
       "      <th></th>\n",
       "      <th></th>\n",
       "      <th></th>\n",
       "      <th></th>\n",
       "      <th></th>\n",
       "      <th></th>\n",
       "      <th></th>\n",
       "      <th></th>\n",
       "      <th></th>\n",
       "      <th></th>\n",
       "      <th></th>\n",
       "      <th></th>\n",
       "      <th></th>\n",
       "      <th></th>\n",
       "      <th></th>\n",
       "      <th></th>\n",
       "      <th></th>\n",
       "      <th></th>\n",
       "      <th></th>\n",
       "    </tr>\n",
       "  </thead>\n",
       "  <tbody>\n",
       "    <tr>\n",
       "      <th>Female</th>\n",
       "      <td>10.0</td>\n",
       "      <td>30.948000</td>\n",
       "      <td>12.704991</td>\n",
       "      <td>16.99</td>\n",
       "      <td>22.70</td>\n",
       "      <td>25.095</td>\n",
       "      <td>40.025</td>\n",
       "      <td>55.6</td>\n",
       "      <td>10.0</td>\n",
       "      <td>4.480500</td>\n",
       "      <td>...</td>\n",
       "      <td>6.00375</td>\n",
       "      <td>8.34</td>\n",
       "      <td>10.0</td>\n",
       "      <td>2.600000</td>\n",
       "      <td>0.843274</td>\n",
       "      <td>2.0</td>\n",
       "      <td>2.0</td>\n",
       "      <td>2.0</td>\n",
       "      <td>3.0</td>\n",
       "      <td>4.0</td>\n",
       "    </tr>\n",
       "    <tr>\n",
       "      <th>Male</th>\n",
       "      <td>9.0</td>\n",
       "      <td>34.614444</td>\n",
       "      <td>17.919927</td>\n",
       "      <td>13.34</td>\n",
       "      <td>23.68</td>\n",
       "      <td>30.500</td>\n",
       "      <td>35.500</td>\n",
       "      <td>72.6</td>\n",
       "      <td>9.0</td>\n",
       "      <td>5.166111</td>\n",
       "      <td>...</td>\n",
       "      <td>5.32500</td>\n",
       "      <td>10.89</td>\n",
       "      <td>9.0</td>\n",
       "      <td>3.111111</td>\n",
       "      <td>1.269296</td>\n",
       "      <td>2.0</td>\n",
       "      <td>2.0</td>\n",
       "      <td>3.0</td>\n",
       "      <td>4.0</td>\n",
       "      <td>5.0</td>\n",
       "    </tr>\n",
       "  </tbody>\n",
       "</table>\n",
       "<p>2 rows × 24 columns</p>\n",
       "</div>"
      ],
      "text/plain": [
       "       Total_bill                                                             \\\n",
       "             count       mean        std    min    25%     50%     75%   max   \n",
       "gender                                                                         \n",
       "Female        10.0  30.948000  12.704991  16.99  22.70  25.095  40.025  55.6   \n",
       "Male           9.0  34.614444  17.919927  13.34  23.68  30.500  35.500  72.6   \n",
       "\n",
       "         tip            ...                  size                           \\\n",
       "       count      mean  ...      75%    max count      mean       std  min   \n",
       "gender                  ...                                                  \n",
       "Female  10.0  4.480500  ...  6.00375   8.34  10.0  2.600000  0.843274  2.0   \n",
       "Male     9.0  5.166111  ...  5.32500  10.89   9.0  3.111111  1.269296  2.0   \n",
       "\n",
       "                            \n",
       "        25%  50%  75%  max  \n",
       "gender                      \n",
       "Female  2.0  2.0  3.0  4.0  \n",
       "Male    2.0  3.0  4.0  5.0  \n",
       "\n",
       "[2 rows x 24 columns]"
      ]
     },
     "execution_count": 16,
     "metadata": {},
     "output_type": "execute_result"
    }
   ],
   "source": [
    "data.groupby(\"gender\").describe()"
   ]
  },
  {
   "cell_type": "code",
   "execution_count": null,
   "metadata": {},
   "outputs": [
    {
     "data": {
      "text/html": [
       "<div>\n",
       "<style scoped>\n",
       "    .dataframe tbody tr th:only-of-type {\n",
       "        vertical-align: middle;\n",
       "    }\n",
       "\n",
       "    .dataframe tbody tr th {\n",
       "        vertical-align: top;\n",
       "    }\n",
       "\n",
       "    .dataframe thead th {\n",
       "        text-align: right;\n",
       "    }\n",
       "</style>\n",
       "<table border=\"1\" class=\"dataframe\">\n",
       "  <thead>\n",
       "    <tr style=\"text-align: right;\">\n",
       "      <th></th>\n",
       "      <th>count</th>\n",
       "      <th>mean</th>\n",
       "      <th>std</th>\n",
       "      <th>min</th>\n",
       "      <th>25%</th>\n",
       "      <th>50%</th>\n",
       "      <th>75%</th>\n",
       "      <th>max</th>\n",
       "    </tr>\n",
       "    <tr>\n",
       "      <th>gender</th>\n",
       "      <th></th>\n",
       "      <th></th>\n",
       "      <th></th>\n",
       "      <th></th>\n",
       "      <th></th>\n",
       "      <th></th>\n",
       "      <th></th>\n",
       "      <th></th>\n",
       "    </tr>\n",
       "  </thead>\n",
       "  <tbody>\n",
       "    <tr>\n",
       "      <th>Female</th>\n",
       "      <td>10.0</td>\n",
       "      <td>4.480500</td>\n",
       "      <td>2.144518</td>\n",
       "      <td>1.01</td>\n",
       "      <td>3.405</td>\n",
       "      <td>3.725</td>\n",
       "      <td>6.00375</td>\n",
       "      <td>8.34</td>\n",
       "    </tr>\n",
       "    <tr>\n",
       "      <th>Male</th>\n",
       "      <td>9.0</td>\n",
       "      <td>5.166111</td>\n",
       "      <td>2.730392</td>\n",
       "      <td>1.66</td>\n",
       "      <td>3.500</td>\n",
       "      <td>4.575</td>\n",
       "      <td>5.32500</td>\n",
       "      <td>10.89</td>\n",
       "    </tr>\n",
       "  </tbody>\n",
       "</table>\n",
       "</div>"
      ],
      "text/plain": [
       "        count      mean       std   min    25%    50%      75%    max\n",
       "gender                                                               \n",
       "Female   10.0  4.480500  2.144518  1.01  3.405  3.725  6.00375   8.34\n",
       "Male      9.0  5.166111  2.730392  1.66  3.500  4.575  5.32500  10.89"
      ]
     },
     "execution_count": 17,
     "metadata": {},
     "output_type": "execute_result"
    }
   ],
   "source": [
    "data.groupby(\"gender\")['tip'].describe()"
   ]
  },
  {
   "cell_type": "code",
   "execution_count": null,
   "metadata": {},
   "outputs": [
    {
     "data": {
      "image/png": "[encoded data removed]",
      "text/plain": [
       "<Figure size 432x288 with 1 Axes>"
      ]
     },
     "metadata": {
      "needs_background": "light"
     },
     "output_type": "display_data"
    }
   ],
   "source": [
    "# 요일에 따라 팁이 어떤지 알아보기\n",
    "\n",
    "day = data['day'].unique()\n",
    "tip =[] # 빈 리스트에 for in 기능을 이용해서 성별과 팁을 매칭시켜 값 입력\n",
    "\n",
    "for i in day:\n",
    "    tip.append(data[data['day'] == i]['tip'].values)\n",
    "    \n",
    "\n",
    "fig, ax = plt.subplots()\n",
    "\n",
    "\n",
    "bp = ax.boxplot(tip, patch_artist=True)\n",
    "ax.set_xticklabels(day) #x축값에 대한 레이블\n",
    "ax.set_title('the tip of day')#타이틀\n",
    "ax.set_ylabel('dollars')# y축 레이블\n",
    "ax.set_xlabel('day')# x축 레이블\n",
    "\n",
    "#박스 선과 색 바꾸기    \n",
    "for box in bp['boxes']:\n",
    "    box.set(color='blue', linewidth =2)#박스선 색깔\n",
    "    box.set(facecolor = 'blue')#박스 색깔\n",
    "    \n",
    "for whisker in bp['whiskers']: #상자수염 스타일\n",
    "    whisker.set_linestyle('-.')\n",
    " \n",
    "plt.show()"
   ]
  },
  {
   "cell_type": "code",
   "execution_count": 10,
   "metadata": {},
   "outputs": [
    {
     "data": {
      "image/png": "[encoded data removed]",
      "text/plain": [
       "<Figure size 432x288 with 1 Axes>"
      ]
     },
     "metadata": {
      "needs_background": "light"
     },
     "output_type": "display_data"
    }
   ],
   "source": [
    "# 요일에 따라 팁이 어떤지 알아보기\n",
    "\n",
    "\n",
    "day = data['day'].unique()\n",
    "tip =[] # 빈 리스트에 for in 기능을 이용해서 요일과 팁을 매칭시켜 값을 집어 넣을것이다.\n",
    "\n",
    "for i in day:\n",
    "    tip.append(data[data['day'] == i]['tip'].values)\n",
    "    \n",
    "\n",
    "fig, ax = plt.subplots()\n",
    "bp = ax.boxplot(tip, patch_artist=True)\n",
    "ax.set_xticklabels(day) #x축값에 대한 레이블\n",
    "ax.set_title('the tip of day')#타이틀\n",
    "ax.set_ylabel('dollars')# y축 레이블\n",
    "ax.set_xlabel('day')# x축 레이블\n",
    "\n",
    "colors = ['blue', 'green', 'purple', 'pink']\n",
    "for patch, color in zip(bp['boxes'], colors):\n",
    "    patch.set_facecolor(color)\n",
    "    patch.set_color(color)\n",
    "    \n",
    "ax.grid(True)\n",
    "plt.show()\n"
   ]
  },
  {
   "cell_type": "code",
   "execution_count": null,
   "metadata": {},
   "outputs": [
    {
     "name": "stdout",
     "output_type": "stream",
     "text": [
      "['Sun' 'Sat' 'Fri' 'Thurs']\n",
      "Sun tip:  [1.01 1.66 3.5  3.31 3.61]\n",
      "Sat tip:  [4.875 3.075 5.325 6.375]\n",
      "Fri tip:  [ 3.84   6.795  8.34  10.89   4.575]\n",
      "Thurs tip:  [7.89  3.495 3.375 4.89  4.47 ]\n"
     ]
    }
   ],
   "source": [
    "print (day)\n",
    "print ('Sun tip: ', tip[0])\n",
    "print ('Sat tip: ', tip[1])\n",
    "print ('Fri tip: ', tip[2])\n",
    "print ('Thurs tip: ', tip[3])\n"
   ]
  }
 ],
 "metadata": {
  "kernelspec": {
   "display_name": "Python 3.8.0 64-bit",
   "language": "python",
   "name": "python3"
  },
  "language_info": {
   "codemirror_mode": {
    "name": "ipython",
    "version": 3
   },
   "file_extension": ".py",
   "mimetype": "text/x-python",
   "name": "python",
   "nbconvert_exporter": "python",
   "pygments_lexer": "ipython3",
   "version": "3.8.0"
  },
  "vscode": {
   "interpreter": {
    "hash": "85e8489e58d775d952d8f1f3f024c1873e0a055c6fbcedbf5831ce50663d7010"
   }
  }
 },
 "nbformat": 4,
 "nbformat_minor": 4
}
